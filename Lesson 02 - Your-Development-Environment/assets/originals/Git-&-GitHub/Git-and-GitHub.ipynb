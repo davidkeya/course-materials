{
 "cells": [
  {
   "cell_type": "markdown",
   "metadata": {},
   "source": [
    "\n",
    "<img src=\"http://imgur.com/1ZcRyrc.png\" style=\"float: left; margin: 20px; height: 55px\">\n",
    "\n",
    "## Introduction to Git\n",
    "\n",
    "_Author: Dave Yerrington, Sam Stack_\n",
    "\n",
    "\n",
    "\n",
    "### LEARNING OBJECTIVES\n",
    "*After this lesson, you will be able to:*\n",
    "- Use and explain common Git commands, including `init`, `add`, `commit`, `push`, `pull`, and `clone`.\n",
    "- Distinguish between local and remote repositories.\n",
    "- Create, copy, and delete repositories locally or on GitHub.\n",
    "- Clone remote repositories.\n",
    "- Establish Secure Shell connections to remote repositories.\n",
    "\n",
    "### STUDENT PRE-WORK\n",
    "*Before this lesson, you should already be able to:*\n",
    "- Show that you've completed [Code Academy: Learn Git](https://www.codecademy.com/learn/learn-git).\n",
    "- Install [Homebrew](http://brew.sh/).\n",
    "- Install Git (after installing Homebrew, type \"brew install git\").\n",
    "- Set up a GitHub account."
   ]
  },
  {
   "cell_type": "markdown",
   "metadata": {},
   "source": [
    "### LESSON GUIDE\n",
    "- [Introduction](#introduction)  \n",
    "- [Git Basics](#git_basics) \n",
    "- [GitHub & GitHub Enterprise Accounts](#gh_ghe_accounts)\n",
    "- [Creating and Cloning Repos](#making_cloning) \n",
    "- [Pulling](#pulling)  \n",
    "- [Secure Shell(SSH)](#ssh) \n",
    "- [Independent Practice](#independent_practice)  \n",
    "- [Conclusion](#conclusion)"
   ]
  },
  {
   "cell_type": "markdown",
   "metadata": {},
   "source": [
    "---\n",
    "<a id=\"introduction\"></a>\n",
    "## Git vs. GitHub and Version Control, an Introduction \n",
    "\n",
    "\n",
    "First things first — Git is not GitHub. This is a common mistake people make."
   ]
  },
  {
   "cell_type": "markdown",
   "metadata": {},
   "source": [
    "#### What is Git?\n",
    "\n",
    "[Git](https://git-scm.com/) is:\n",
    "\n",
    "- A program you run from the command line.\n",
    "- A distributed version control system.\n",
    "\n",
    "Programmers use Git so that they can keep a history of all changes made to their code. This means that they can roll back changes (or switch to older versions) as far back as when they started using Git in their project.\n",
    "\n",
    "A code base in Git is referred to as a **repository**, or **repo**, for short.\n",
    "\n",
    "Git was created by [Linus Torvalds](https://en.wikipedia.org/wiki/Linus_Torvalds), the principal developer of Linux."
   ]
  },
  {
   "cell_type": "markdown",
   "metadata": {},
   "source": [
    "#### What is GitHub?\n",
    "\n",
    "[GitHub](https://github.com/) is:\n",
    "\n",
    "- A hosting service for Git repositories.\n",
    "- A web interface to explore Git repositories.\n",
    "- A social network of programmers.\n",
    "\n",
    "Some other points to note: \n",
    "\n",
    "- We all have individual GitHub accounts and store our code bases there.\n",
    "- You can follow users and star your favorite projects.\n",
    "- Developers can access code bases on other public accounts.\n",
    "- GitHub uses Git."
   ]
  },
  {
   "cell_type": "markdown",
   "metadata": {},
   "source": [
    "#### What is GitHub Enterprise (GHE)?\n",
    "[GitHub Enterprise](https://enterprise.github.com/home) Is:\n",
    "\n",
    "- Professional application of GitHub\n",
    "- All repository data is stored on private and/or local machines and networks.\n",
    "\n",
    "Where GitHub is the _public_, 'Social Network' for programming and programmers, Github Enterprise is the _private_, professional application of GitHub.  Because, GitHub and GitHub Enterprise have a similar structure and are based off the `git` language, interacting with the two is is almost identical.  "
   ]
  },
  {
   "cell_type": "markdown",
   "metadata": {},
   "source": [
    "**Additional information on [GitHub.com vs GitHub Enterprise](https://enterprise.github.com/downloads/en/comvsenterprise-082415.pdf)**\n",
    "\n",
    "Over the course of this class we will be interacting with both GitHub and GitHub Enterprise(GHE).  You will set up a GHE account for sharing course materials and as a private repo for you to store your own works-in-progress.  \n",
    "\n",
    "You will also setup a GitHub account as a location for you to host projects and work that you want to exhibit or share.  "
   ]
  },
  {
   "cell_type": "markdown",
   "metadata": {},
   "source": [
    "#### Can you use Git without GitHub?\n",
    "\n",
    "Think about this quote: “Git is software. GitHub is a company that happens to use Git software.” So yes, you can certainly use Git without GitHub!\n",
    "\n",
    "Your local repository consists of three \"trees\" that are maintained by Git.\n",
    "\n",
    "- **Working Directory**: holds the actual files.\n",
    "- **Index**: acts as a staging area.\n",
    "- **HEAD**: points to the last commit you've made.\n",
    "\n",
    "![workflow](https://cloud.githubusercontent.com/assets/40461/8221736/f1f7e972-1559-11e5-9dcb-66b44139ee6f.png)"
   ]
  },
  {
   "cell_type": "markdown",
   "metadata": {},
   "source": [
    "#### What about commands?\n",
    "\n",
    "There are also a variety of commands you can use in Git. You can take a look at a list of the available commands by running:\n",
    "\n",
    "```bash\n",
    "$ git help -a\n",
    "```\n",
    "\n",
    "Even though there are lots of commands, in the course, we will really only need about 10.\n",
    "\n",
    "---\n",
    "\n"
   ]
  },
  {
   "cell_type": "markdown",
   "metadata": {},
   "source": [
    "<a id=\"git_basics\"></a>\n",
    "## Let's Git into it!: Code-Along (15 min)\n",
    "\n",
    "\n",
    "First, create a directory on your Desktop.\n",
    "\n",
    "```bash\n",
    "$ cd ~/Desktop\n",
    "$ mkdir hello-world\n",
    "```\n",
    "\n",
    "You can place this directory under Git revision control using the following command:\n",
    "\n",
    "```bash\n",
    "$ cd hello-world # dont forget to CD into the folder.\n",
    "$ git init\n",
    "```\n",
    "\n",
    "Git will reply:\n",
    "\n",
    "```bash\n",
    "Initialized empty Git repository in <location>\n",
    "```\n",
    "\n",
    "You've now initialized the working directory."
   ]
  },
  {
   "cell_type": "markdown",
   "metadata": {},
   "source": [
    "#### The .git folder\n",
    "\n",
    "We can look at the contents of this empty folder using this command:\n",
    "\n",
    "```bash\n",
    "ls -A\n",
    "```\n",
    "\n",
    "We should see that there is now a hidden folder called `.git`. This is where all of the information about your repository is stored. There is no need for you to make any changes to this folder. You can control all of the Git flow using `git` commands."
   ]
  },
  {
   "cell_type": "markdown",
   "metadata": {},
   "source": [
    "\n",
    "#### Add a file\n",
    "\n",
    "Let's create a new file.\n",
    "\n",
    "```bash\n",
    "$ touch a.txt\n",
    "```\n",
    "\n",
    "If we run `git status`, we should get:\n",
    "\n",
    "```bash\n",
    "On branch master\n",
    "\n",
    "Initial commit\n",
    "\n",
    "Untracked files:\n",
    "  (use \"git add <file>...\" to include in what will be committed)\n",
    "\n",
    "\ta.txt\n",
    "\n",
    "nothing added to commit but untracked files present (use \"git add\" to track)\n",
    "```\n",
    "\n",
    "This means that there is a new, **untracked** file. Next, tell Git to take a snapshot of the contents of all files under the current directory. (Note the `.`).\n",
    "\n",
    "```bash\n",
    "$ git add .\n",
    "```\n",
    "\n",
    "This snapshot is now stored in a temporary staging area, which Git calls the \"index.\""
   ]
  },
  {
   "cell_type": "markdown",
   "metadata": {},
   "source": [
    "#### Commit\n",
    "\n",
    "To permanently store the contents of the index in the repository, (i.e., commit these changes to the \"HEAD\"), you need to run the following command:\n",
    "\n",
    "```bash\n",
    "$ git commit -m \"Please remember this file at this time\"\n",
    "```\n",
    "\n",
    "You should now get:\n",
    "\n",
    "```bash\n",
    "[master (root-commit) b4faebd] Please remember this file at this time\n",
    " 1 file changed, 0 insertions(+), 0 deletions(-)\n",
    " create mode 100644 a.txt\n",
    "```"
   ]
  },
  {
   "cell_type": "markdown",
   "metadata": {},
   "source": [
    "#### Checking the log\n",
    "\n",
    "If we want to view the commit history, we can run:\n",
    "\n",
    "```bash\n",
    "git log\n",
    "```\n",
    "\n",
    "As a result, you should see:\n",
    "\n",
    "```bash\n",
    "* b4faebd (HEAD, master) Please remember this file at this time\n",
    "```"
   ]
  },
  {
   "cell_type": "markdown",
   "metadata": {},
   "source": [
    "<a id=\"gh_ghe_accounts\"></a>\n",
    "## 'Git' on GitHub and GitHub Enterprise:\n",
    "\n",
    "For those of you that have not already set up your GitHub and GitHub Enterprise accounts, lets take a minute to do that now.\n",
    "\n",
    "Account creation for both is simple.  Create a _Username_, and provide an _email_ & _password_.\n",
    "\n",
    "_Keep in mind while you **can** use the same email, username and password for both accounts, they are **wholly separate**._\n",
    "\n",
    "**[GitHub](https://github.com/)**\n",
    " _This is yours_\n",
    " \n",
    "**[GitHub Enterprise for General Assembly](https://git.generalassemb.ly/join?source=header)**\n",
    "_This is ours_\n",
    "\n",
    "You can use a GitHub account to create a GitHub Enterprise account, but that will be **your** enterprise; in that, you will not be able to use it to access the General Assembly Enterprise GitHub.\n",
    "\n",
    "If in the futur,e you join another GitHub Enterprise you will also need to create another account for said enterprise.  "
   ]
  },
  {
   "cell_type": "markdown",
   "metadata": {},
   "source": [
    "<a id=\"making_cloning\"></a>\n",
    "## Making and Cloning Repositories: Code-Along (15 min)\n",
    "\n",
    "When using Git, GitHub and GHE it is common to have your repositories in several locations.  Typically when we use GitHub and GHE we will have two repository locations, **Remote** and **Local**.\n",
    "- **Remote:** - Repositories that are not stored in our current location/machine. Usually where we store the repo.\n",
    "- **Local:** - Repositories that are stored on our current machine. Usually where we work on the repo.\n",
    "\n"
   ]
  },
  {
   "cell_type": "markdown",
   "metadata": {},
   "source": [
    "**Let's do this together:**\n",
    "\n",
    "1. Go to your GitHub account.\n",
    "2. On the right-hand side, hit the `+` button for `New repository`.\n",
    "3. Name your repository `hello-world`.\n",
    "4. **Initialize this repository with a `README`**. (Now we can `git pull`).\n",
    "4. Click the big, green `Create Repository` button.\n",
    "\n",
    "We now need to connect our local Git repository with our newly created remote repository on GitHub. We have to add a \"remote\" repository, an address where we can send our local files to be stored.\n",
    "\n",
    "On the right-hand side of your GitHub there should be a green 'Clone or download' button. This button should reveal a tiny window with a URL.  Copy the provided URL, which is the path to this remote repo.  \n",
    "\n",
    "\n",
    "_Make sure you changed directories into `hello-world` prior to running this_\n",
    "```bash\n",
    "git remote add origin git@github.com:github-name/hello-world.git\n",
    "```\n",
    "\n",
    "_At this point you **may** be prompted for a password, especially when using GHE_"
   ]
  },
  {
   "cell_type": "markdown",
   "metadata": {},
   "source": [
    "#### Pushing to GitHub\n",
    "\n",
    "In order to send files from our local machine to our remote repository on GitHub, we need to use the command `git push`. However, you also need to add the name of the remote repo — in this case, we called it `origin` — and the name of the branch, in this case `master`.\n",
    "\n",
    "```bash\n",
    "git push origin master\n",
    "```\n",
    "\n",
    "This should fail because of new files in the remote repo."
   ]
  },
  {
   "cell_type": "markdown",
   "metadata": {},
   "source": [
    "#### Pulling from GitHub\n",
    "\n",
    "Just as we added the `README.md` in our repo, we need to first `pull` that file to our local repository to check that we don't have a \"conflict.\"\n",
    "\n",
    "```bash\n",
    "git pull origin master\n",
    "```\n",
    "\n",
    "```bash\n",
    "git status\n",
    "```\n",
    "\n",
    "```bash\n",
    "git add .\n",
    "```\n",
    "\n",
    "```bash\n",
    "git commit -m \"README.md\"\n",
    "```\n",
    "\n"
   ]
  },
  {
   "cell_type": "markdown",
   "metadata": {},
   "source": [
    "Once we've done this, you should see the `README` file on your computer as it has been added to your local HEAD.\n",
    "\n",
    "```bash\n",
    "ls\n",
    "```\n",
    "\n",
    "Open up the `README` and type some kind of modification and/or addition then save it.\n",
    "\n",
    "\n",
    "```bash\n",
    "git add .\n",
    "\n",
    "git commit -m\"Updated README\"\n",
    "```\n",
    "\n",
    "Now you can push your changes to your remote on GitHub.\n",
    "\n",
    "```bash\n",
    "git push origin master\n",
    "```\n",
    "\n",
    "Refresh your GitHub web page, and the files should appear.\n",
    "\n",
    "Using the `git remote add` method is useful for taking an existing local repository and creating a new remote one (putting it on GitHub).  "
   ]
  },
  {
   "cell_type": "markdown",
   "metadata": {},
   "source": [
    "#### Independent Practice (10 min)\n",
    "\n",
    "Repeat the steps above, starting from the creation of the remote repo, to create a _local_ and _remote_ repository with your GitHub Enterprise account.  "
   ]
  },
  {
   "cell_type": "markdown",
   "metadata": {},
   "source": [
    "### Cloning your first repository\n",
    "\n",
    "Alternatively, you can clone this repo from your GitHub link to have it automatically configured in a new directory.\n",
    "\n",
    "```\n",
    "git clone https://github.com/github-username/hello-world.git\n",
    "```\n",
    "\n",
    "Now that everyone has a repository on GitHub, let's clone one!\n",
    "\n",
    "Cloning allows you to make a local copy of a remote repository.\n",
    "\n",
    "Navigate back to your Desktop, and **delete your `hello-world` repository**.\n",
    "\n",
    "```bash\n",
    "cd ~/Desktop\n",
    "rm -rf hello-world\n",
    "```\n",
    "\n",
    "Now, ask the person sitting next to you for his or her GitHub name and navigate to that repository on GitHub.\n",
    "\n",
    "```bash\n",
    "https://www.github.com/<github-username>/hello-world\n",
    "```\n",
    "\n",
    "On the right-hand side, you will see the green button 'Clone or download'."
   ]
  },
  {
   "cell_type": "markdown",
   "metadata": {},
   "source": [
    "#### Clone that repo!\n",
    "\n",
    "To retrieve the contents of the repo, all you need to do is:\n",
    "\n",
    "```bash\n",
    "$ git clone git@github.com/<partners-github-username>/hello-world.git\n",
    "```\n",
    "\n",
    "Git should reply:\n",
    "\n",
    "```bash\n",
    "Cloning into 'hello-world'...\n",
    "remote: Counting objects: 3, done.\n",
    "remote: Total 3 (delta 0), reused 3 (delta 0), pack-reused 0\n",
    "Receiving objects: 100% (3/3), done.\n",
    "Checking connectivity... done.\n",
    "```\n",
    "\n",
    "You've now cloned your first repository!   The process will be the same with GitHub Enterprise.  \n",
    "\n",
    "Cloning is must useful when there is a repo that exists remotely that we want on our local machines. "
   ]
  },
  {
   "cell_type": "markdown",
   "metadata": {},
   "source": [
    "<a name=\"pulling\"></a>\n",
    "## Create a Pull Request on GitHub: Code-Along (10 min)\n",
    "\n",
    "#### What's a \"Pull Request\"?\n",
    "Often times when we are working on a project with other collaborators we all can't work on the same repo at the same time so we have these things called _branches_.  With branches we can create a branch off of the main repo or \"Master Branch\", perform our work whether that be additions or alterations and then merge the changes we made on _our_ branch back into the master.  \n",
    "\n",
    "You can probably think of a few ways that multiple people trying to merge their work can get messy.  Fortunately, we have Pull Requests as means of queing and validating merges.  Rather than having your branch merge automatically, your request will go through an administrator who can review your changes and additions and approve or deny your request.  \n",
    "\n",
    "![Branches](assets/images/branches.jpg)\n",
    "\n",
    "_Even though we are trying to **push** our information into the master, it is called a pull request because we are making a request to the administrator to **pull** or branch into the master._"
   ]
  },
  {
   "cell_type": "markdown",
   "metadata": {},
   "source": [
    "#### Creating a Pull Request\n",
    "Before you can open a pull request, you must create a branch in your local repository, commit to it, and push that branch to a repository or fork on GitHub.\n",
    "\n",
    "1. Visit the repository you've pushed to.\n",
    "2. Click \"Branch:master\" on the left-hand side and create a branch called 'branch-edits' by typing in the box and hitting enter.  This should put you on your new branches page.\n",
    "3. Make sure you're on your new branch and in GitHub create a new '.md' or '.txt' file using the 'Create new file' button. Call it what you like and place some text in it.\n",
    "4. Click the \"Compare & pull request\" button in the repository ![pr](https://cloud.githubusercontent.com/assets/40461/8229344/d344aa8e-15ad-11e5-8578-08893bcee335.jpg).\n",
    "5. You'll land right onto the compare page. Next, you can click \"Edit\" at the top to pick a new branch to merge to using the \"Head Branch\" dropdown menu.\n",
    "4. Select the target branch that your branch should be merged to using the \"Base Branch\" dropdown menu.\n",
    "5. Review your proposed change.\n",
    "6. Hit \"Click to create a pull request\" for this comparison.\n",
    "7. Enter a title and description for your pull request.\n",
    "8. Click \"Send pull request.\"\n",
    "\n",
    "As you are working on your own repo in your own GitHub you will be able to merge the branch at your leisure."
   ]
  },
  {
   "cell_type": "markdown",
   "metadata": {},
   "source": [
    "#### GitHub Example Project\n",
    "\n",
    "A company is building onto their website and adding a few new features.  They are assigning a team of engineers to complete the task.  \n",
    "\n",
    "Engineer 1 is responsible for redoing the home page.\n",
    "Engineer 2 is responsible for reworking content pages 1 & 2\n",
    "Engineer 3 is responsible for reworking content pages 3 & 4\n",
    "\n",
    "In this situation the master branch would probably be a copy of the files and scripts for the original website.  As this is the master copy it is best not to make any edits to it until those changes have been vetted.\n",
    "\n",
    "The engineer team starts by making branch off of the master called '`project_1`'.\n",
    "\n",
    "From '`project_1`' the team of engineers would probably create their own branches to perform their tasks in.\n",
    "\n",
    "- Engineer 1 : '`preoject_1_homepage`'\n",
    "- Engineer 2 : '`preoject_1_content1_2`'\n",
    "- Engineer 3 : '`preoject_1_content3_4`'\n",
    "\n",
    "\n",
    "Once each engineer completed their task they would merge the changes from their branch into '`project_1`'.  \n",
    "\n",
    "Now that all of the individual work has been compiled they can test the website and make sure that there are no bugs or issues then merge '`project_1`' back into the master copy."
   ]
  },
  {
   "cell_type": "markdown",
   "metadata": {},
   "source": [
    "By now you have have noticed that you are being prompted quite a bit for your password when interacting with GitHub or GitHub Enterprise via Git.  There are two ways to work around this. \n",
    "\n",
    "**[Catching your password in Git](https://help.github.com/articles/caching-your-github-password-in-git/)**\n",
    "\n",
    "or\n",
    "\n",
    "**Using SSH and SSH Agent** (_recommended_)  \n",
    "You can use the guide in the [SSH Setup Guide](SSH-setup.md) or those available on github\n",
    "- [Working with SSH key passphrases](https://help.github.com/articles/working-with-ssh-key-passphrases/)\n",
    "- [Generating a new SSH key and adding it to the ssh-agent](https://help.github.com/articles/generating-a-new-ssh-key-and-adding-it-to-the-ssh-agent/)\n",
    "- [Adding a new SSH key to your GitHub account](https://help.github.com/articles/adding-a-new-ssh-key-to-your-github-account/)"
   ]
  },
  {
   "cell_type": "markdown",
   "metadata": {},
   "source": [
    "<a id=\"ssh\"></a>\n",
    "\n",
    "#### Secure Shell (SSH)\n",
    "\n",
    "SSH, or Secure Shell, is a common means of adding an additional layer of security.  Simply put, the SSH key is used to establish authenticity between a client and a server so that a secure connection or \"tunnel\" can be formed.  This can be useful for secure file sharing or remote application access.  \n",
    "\n",
    "#### How SSH works\n",
    "\n",
    "The SSH process at a high level is relatively simple.  \n",
    "1. Client makes a request to the server.\n",
    "2. Server responds asking for authentication.\n",
    "3. Client provides authentication.\n",
    "4. If authentication is correct, a connection is established.  \n",
    "\n",
    "**Note**: You will need to complete which ever process you choose twice. Once for your GitHub account and once for your GitHub Enterprise account.\n",
    "\n",
    "**Note:** Setting up the SSH Agent is critical if you don't want to be prompted for a password everytime you push or pull via SSH."
   ]
  },
  {
   "cell_type": "markdown",
   "metadata": {},
   "source": [
    "#### Additional SSH Troubleshooting:\n",
    "\n",
    "**Access Denied**  \n",
    "If you receive a message about \"access denied,\" please notify an instructor or you can read [these instructions for diagnosing the issue.](https://help.github.com/articles/error-permission-denied-publickey/)\n",
    "\n",
    "**HTTPS to SSH switch**  \n",
    "If you're switching from HTTPS to SSH, you'll now need to update your remote repository URLs. For more information, see [Changing a remote's URL.](https://help.github.com/articles/changing-a-remote-s-url/)"
   ]
  },
  {
   "cell_type": "markdown",
   "metadata": {},
   "source": [
    "<a id=\"independent_practice\"></a>\n",
    "## Assess: Independent Practice (10 min)\n",
    "- Show a partner how to use the following commands: `init`, `add`, `commit`, `push`, `pull`, and `clone`.\n",
    "\n",
    "<a id=\"conclusion\"></a>\n",
    "## Conclusion\n",
    "Feel comfortable with Git, GitHub and GitHub Enterprise? As we'll be using them in alot a lot of our coursework, let's make sure you are! \n"
   ]
  },
  {
   "cell_type": "code",
   "execution_count": null,
   "metadata": {
    "collapsed": true
   },
   "outputs": [],
   "source": []
  }
 ],
 "metadata": {
  "celltoolbar": "Slideshow",
  "kernelspec": {
   "display_name": "Python 2",
   "language": "python",
   "name": "python2"
  },
  "language_info": {
   "codemirror_mode": {
    "name": "ipython",
    "version": 2
   },
   "file_extension": ".py",
   "mimetype": "text/x-python",
   "name": "python",
   "nbconvert_exporter": "python",
   "pygments_lexer": "ipython2",
   "version": "2.7.13"
  }
 },
 "nbformat": 4,
 "nbformat_minor": 2
}
