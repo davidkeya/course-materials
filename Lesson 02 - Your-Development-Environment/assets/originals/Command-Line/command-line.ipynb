{
 "cells": [
  {
   "cell_type": "markdown",
   "metadata": {
    "slideshow": {
     "slide_type": "notes"
    }
   },
   "source": [
    "> **Jupyter slideshow:** This notebook can be displayed as slides. To view it as a slideshow in your browser, type the following into the console:\n",
    "\n",
    "\n",
    "> `> ipython nbconvert [this_notebook.ipynb] --to slides --post serve`\n",
    "\n",
    "\n",
    "> To toggle off the slideshow cell formatting, click the `CellToolbar` button, then `View --> Cell Toolbar --> None`."
   ]
  },
  {
   "cell_type": "markdown",
   "metadata": {
    "slideshow": {
     "slide_type": "slide"
    }
   },
   "source": [
    "<img src=\"http://imgur.com/1ZcRyrc.png\" style=\"float: left; margin: 20px; height: 55px\">\n",
    "\n",
    "## Using the Command Line\n",
    "\n",
    "_Author: Kiefer Katovich and Dave Yerrington | DSI-SF_\n",
    "\n",
    "---\n",
    "\n",
    "\n",
    "### Learning Objectives\n",
    "*After this lesson, you will be able to:*\n",
    "- Create folders and files using the command line (`mkdir`, `touch`).\n",
    "- Change directories and list directory content (`cd`, `ls`).\n",
    "- Check the current working directory (`pwd`).\n",
    "\n",
    "\n",
    "### Student Pre-Work\n",
    "*Before this lesson, you should already be able to:*\n",
    "- Complete the [GA pre-work](http://generalassembly.github.io/prework/cl/#/).\n",
    "- Open the terminal.\n",
    "- Familiarize yourself with the [UNIX] [1] commands `cd`, `pwd`, `mkdir`, `pwd`, and `touch`. (Don't worry,\n",
    "    we'll be going over these commands in class, just make sure you are able to describe what each of them means).\n",
    "\n",
    "[1]: http://mally.stanford.edu/~sr/computing/basic-unix.html    \"UNIX\"\n"
   ]
  },
  {
   "cell_type": "markdown",
   "metadata": {
    "slideshow": {
     "slide_type": "slide"
    }
   },
   "source": [
    "## Table of Contents\n",
    "\n",
    "---\n",
    "\n",
    "- [Introduction](#introduction)\n",
    "- [Command Line](#command_line)\n",
    "- [Paths](#paths)\n",
    "- [Editing and Examining Files](#editing_files)\n",
    "- [Finding Files](#finding_files)\n",
    "- [Independent Practice](#independent_practice)\n",
    "- [Intro to IDEs](#ide)\n",
    "- [Conclusion](#conclusion)\n",
    "\n"
   ]
  },
  {
   "cell_type": "markdown",
   "metadata": {
    "slideshow": {
     "slide_type": "slide"
    }
   },
   "source": [
    "<a id='introduction'></a>\n",
    "\n",
    "##  What is a GUI (pronounced \"gooey\")?\n",
    "\n",
    "---\n",
    "\n",
    "There was a time when computers didn't come with a Graphical User Interface (GUI). Instead, everyone interacted with the computer using text commands in what we call a Command Line Interface (CLI).\n",
    "\n",
    "![Dos](https://upload.wikimedia.org/wikipedia/commons/9/94/FreeDOS_Beta_9_pre-release5_%28command_line_interface%29_on_Bochs_sshot20040912.png)\n",
    "*Image from Wikimedia*\n",
    "\n",
    "Today, the command line still exists, even though you may have never seen it as a casual computer user. However, knowing basic CLI commands is a useful skill.\n",
    "\n",
    "This CLI is the gateway to your operating system and can perform many of the same actions without a graphical interface. It is also facilitated by what we call a \"shell.\""
   ]
  },
  {
   "cell_type": "markdown",
   "metadata": {
    "slideshow": {
     "slide_type": "slide"
    }
   },
   "source": [
    "<a id='command_line'></a>\n",
    "\n",
    "\n",
    "## Why Command Line?\n",
    "\n",
    "---\n",
    "\n",
    "Everything you can do in a windowed environment, you can do in the terminal — and faster. When you use the mouse, click on buttons, confirm operations, or wait for windows to load, you waste time! Terminal commands can assist you with:\n",
    "\n",
    "* Running processes\n",
    "* Finding files\n",
    "* Substring match of file contents\n",
    "* Assessing performance\n",
    "* Remote operations\n",
    "* Web browsing\n",
    "* Installing packages\n",
    "* Managing your development environment"
   ]
  },
  {
   "cell_type": "markdown",
   "metadata": {
    "slideshow": {
     "slide_type": "slide"
    }
   },
   "source": [
    "## What is a Shell?\n",
    "\n",
    "---\n",
    "\n",
    "A shell is simply a type of command line program that contains a simple, text-based user interface, enabling us to access all of an operating system's services. It is, put simply, a program that accepts text as an input and translates that text into the appropriate functions you want your computer to run.\n",
    "\n",
    "*Taken from Just for Fun: [Type like a hacker](http://hackertyper.com/)*\n",
    "\n",
    "Here are a few Windows equivalents:\n",
    "[Cygwin](https://www.cygwin.com/)\n",
    "[msis git](https://msysgit.github.io/)\n",
    "\n",
    "[Windows shell equivalents](http://stackoverflow.com/questions/28487128/what-program-in-windows-is-equivalent-to-oss-terminal)\n",
    "\n",
    "Running applications, checking settings such as free hard drive space, and even web browsing can all happen from the shell."
   ]
  },
  {
   "cell_type": "markdown",
   "metadata": {
    "slideshow": {
     "slide_type": "slide"
    }
   },
   "source": [
    "## Forget Finder, Get Fast at Using Your Laptop\n",
    "\n",
    "---\n",
    "\n",
    "#### Opening & Closing Terminal\n",
    "\n",
    "First, we need to launch the command prompt. We do this by using Spotlight:\n",
    "\n",
    "- ⌘ (Command) + Space\n",
    "- \"*Te*rminal\"\n",
    "- Enter\n",
    "\n",
    "Notice that you can actually hit enter as soon as the field autocompletes. Get used to taking shortcuts — don't type the whole word out if you don't have to, and avoid using your mouse if you can open or use an app with just keyboard shortcuts. It may seem hard right now, but, when you get used to it, it will save you hours of time cumulatively."
   ]
  },
  {
   "cell_type": "markdown",
   "metadata": {
    "slideshow": {
     "slide_type": "slide"
    }
   },
   "source": [
    "<a id='paths'></a>\n",
    "\n",
    "## Paths\n",
    "\n",
    "---\n",
    "\n",
    "Every file or folder in a file system can be read, written, and deleted by referencing its position inside that system. When we talk about the position of a file or a folder in a file system, we refer to its \"path.\" There are a couple of different kinds of paths we can use to refer to a file — **absolute paths** and **relative paths**.\n",
    "\n",
    "**Directory** is an important term that's used interchangeably with *folder*. Although they are not exactly the same, when we say \"navigate to your project directory,\" think of it as \"navigate to your project folder.\" Here's a little more information:\n",
    "\n",
    "_Strictly speaking, there is a difference between a directory, which is a file system concept, and the graphical user interface metaphor used to represent it (a folder). If you are referring to a container of documents, then the term \"folder\" is more appropriate. The term \"directory\" refers to the way a structured list of document files and folders is stored on the computer. It is comparable to a telephone directory that contains lists of names, numbers, and addresses but does not contain the actual documents themselves._\n",
    "\n",
    "*Taken from [Close-To-Open Cache Consistency in the Linux NFS Client](http://www.citi.umich.edu/projects/nfs-perf/results/cel/dnlc.html)*"
   ]
  },
  {
   "cell_type": "markdown",
   "metadata": {
    "slideshow": {
     "slide_type": "slide"
    }
   },
   "source": [
    "### What is an absolute path?\n",
    "\n",
    "All files can created, updated, or deleted using the command line interface. We do this by referencing **paths**; either relative or absolute.\n",
    "\n",
    "An absolute path is defined as the specific location of a file or folder as accessed from the root directory, typically shown as `/`. The root directory is the starting point from which all other folders are defined and is not usually the same as your **home** directory, which is normally found at `/Users/[Your Username]`."
   ]
  },
  {
   "cell_type": "markdown",
   "metadata": {
    "slideshow": {
     "slide_type": "slide"
    }
   },
   "source": [
    "### Working with UNIX commands and file paths\n",
    "\n",
    "Typing **`cd`** — a command for \"change directory\" — with no parameters takes us to our home directory.\n",
    "\n",
    "```bash\n",
    "cd\n",
    "```\n",
    "\n",
    "If we type in `pwd` — a command for \"print working directory\" — from that folder, we can see where we are in relation to the root directory. The `pwd` command will always give you the absolute path of your current location.\n",
    "\n",
    "Here's an example of absolute path:\n",
    "\n",
    "```bash\n",
    "open /Users/Lucy/desktop/a/b/c/file.txt\n",
    "```\n",
    "\n",
    "Notice that this path starts from `/` directory, which is a root directory for every Linux/Unix machine."
   ]
  },
  {
   "cell_type": "markdown",
   "metadata": {
    "slideshow": {
     "slide_type": "slide"
    }
   },
   "source": [
    "### What is a relative path?\n",
    "\n",
    "A relative path is a reference to a file or folder **relative** to your current position or the present working directory (pwd). If we are in the folder `/a/b/` and we want to open the file that has the absolute path `/a/b/c/file.txt`, we can simply type:\n",
    "\n",
    "```bash\n",
    "open c/file.txt\n",
    "```\n",
    "\n",
    "or\n",
    "\n",
    "```bash\n",
    "open ./c/file.txt\n",
    "```\n",
    "\n",
    "We can also use the absolute path at any time by adding a slash to the beginning of the relative path. The absolute path is the same for a file or a folder, regardless of the current working directory, but relative paths differ based on directory. Directory structures are laid out like so: `directory/subdirectory/subsubdirectory`.\n",
    "\n",
    "**Check:** What is the difference between an absolute path and a relative path?"
   ]
  },
  {
   "cell_type": "markdown",
   "metadata": {
    "slideshow": {
     "slide_type": "slide"
    }
   },
   "source": [
    "\n",
    "### Navigating using the command prompt\n",
    "\n",
    "* Changing directories\n",
    "* Listing files\n",
    "* Creating directories and files\n",
    "* Removing files\n",
    "\n",
    "The tilde `~` character is an alias for your home directory. Use it to quickly return home.\n",
    "\n",
    "```bash\n",
    "cd ~\n",
    "```\n",
    "\n",
    "Or, even more simply, you can type:\n",
    "\n",
    "```bash\n",
    "cd\n",
    "```\n",
    "\n",
    "The tilde `~` character is useful for shortening paths that would otherwise be\n",
    "absolute. For example, to navigate to your Desktop, you can type:\n",
    "\n",
    "```bash\n",
    "cd ~/Desktop\n",
    "```\n"
   ]
  },
  {
   "cell_type": "markdown",
   "metadata": {
    "slideshow": {
     "slide_type": "slide"
    }
   },
   "source": [
    "The `ls` command lists files and directories in the current folder.\n",
    "```bash\n",
    "ls\n",
    "```\n",
    "\n",
    "It can also be used to list files located in any directory. For example, to list\n",
    "your applications, you can type:\n",
    "```bash\n",
    "ls /Applications\n",
    "```"
   ]
  },
  {
   "cell_type": "markdown",
   "metadata": {
    "slideshow": {
     "slide_type": "slide"
    }
   },
   "source": [
    "To make a new directory, type:\n",
    "```bash\n",
    "mkdir folder\n",
    "```\n",
    "\n",
    "To create a new file, type:\n",
    "```bash\n",
    "touch file1\n",
    "```\n",
    "\n",
    "To remove a file, type:\n",
    "```bash\n",
    "rm file1\n",
    "```"
   ]
  },
  {
   "cell_type": "markdown",
   "metadata": {},
   "source": [
    "### General format for commands\n",
    "\n",
    "`<command> -<options> <arguments>`\n",
    "* `<command>` is the action we want the computer to take\n",
    "* `<options>` (or \"flags\") modify the behavior of the command\n",
    "* `<arguments>` are the things we want the command to act on"
   ]
  },
  {
   "cell_type": "markdown",
   "metadata": {
    "slideshow": {
     "slide_type": "slide"
    }
   },
   "source": [
    "### Using wildcards in the command prompt\n",
    "\n",
    "The wildcard symbol (`*`) is useful for using commands to operate on multiple\n",
    "files. To provide an example, first create a folder on your Desktop and add some\n",
    "files.\n",
    "```bash\n",
    "mkdir ~/Desktop/example_folder\n",
    "cd ~/Desktop/example_folder\n",
    "touch cat.txt\n",
    "touch dog.txt\n",
    "touch bird.txt\n",
    "touch fish.txt\n",
    "```\n",
    "\n",
    "You can use the wildcard `*` to then operate on subsets of files. List any\n",
    "file with \"i\" in the file name, for example:\n",
    "```bash\n",
    "ls *i*\n",
    "```\n",
    "\n",
    "Or, remove any file with \"d\":\n",
    "```bash\n",
    "rm *d*\n",
    "ls\n",
    "```"
   ]
  },
  {
   "cell_type": "markdown",
   "metadata": {
    "slideshow": {
     "slide_type": "slide"
    }
   },
   "source": [
    "### Hidden directories can also be found\n",
    "\n",
    "There are hidden directories all over your file system — mainly to save you from youself. Using the parameters `-lha` to `ls`, we can find these directories.\n",
    "\n",
    "```bash\n",
    "ls -lha\n",
    "```\n",
    "<pre>\n",
    "-l: &nbsp;&nbsp; One entry per line.\n",
    "-h: &nbsp;&nbsp; When used with the -l option, use unit suffixes: Byte, Kilobyte, Megabyte, etc.\n",
    "-a: &nbsp;&nbsp; Include directory entries whose names begin with a dot (.).\n",
    "</pre>"
   ]
  },
  {
   "cell_type": "markdown",
   "metadata": {
    "slideshow": {
     "slide_type": "slide"
    }
   },
   "source": [
    "<a id='editing_files'></a>\n",
    "\n",
    "## Editing and Examining Files\n",
    "\n",
    "---\n",
    "\n",
    "At times it's helpful to edit files in a pinch. We can use the terminal editor `nano` to accomplish this.\n",
    "\n",
    "Editing files from the terminal with `nano` can be accomplished with the following syntax:\n",
    "\n",
    "`nano [filename]`\n",
    "\n",
    "These hotkeys are available:\n",
    "\n",
    "* **ctrl-w**: Search within file.\n",
    "* **ctrl-o**: Save file as [filename].\n",
    "* **ctrl-x**: Exit editor.\n",
    "\n",
    "*The bottom of the editor contains the most common operations.*"
   ]
  },
  {
   "cell_type": "markdown",
   "metadata": {
    "slideshow": {
     "slide_type": "slide"
    }
   },
   "source": [
    "### Echo file content to the terminal\n",
    "\n",
    "Sometimes it's nice to view the contents of files as text. There are a variety of ways to do this. The commands `cat`, `head`, and `tail` will allow us to view the entire or partial contents of a target file.\n",
    "\n",
    "```\n",
    "cat /etc/passwd\n",
    "```\n",
    "\n",
    "*Traditionally, the /etc/passwd file is used to keep track of every registered user with access to a system.*\n",
    "\n",
    "**Only the first few lines of a file**\n",
    "\n",
    "This command is useful when looking at files that might be too large to open in a traditional editor such as Sublime or Atom.\n",
    "```\n",
    "head /etc/passwd\n",
    "```\n",
    "\n",
    "**Only the last few lines of a file**\n",
    "```\n",
    "tail /etc/passwd\n",
    "```\n",
    "\n",
    "*You can also pass the paramter -n to `head` and `tail` to control the amount of output that is displayed*"
   ]
  },
  {
   "cell_type": "markdown",
   "metadata": {
    "slideshow": {
     "slide_type": "slide"
    }
   },
   "source": [
    "### Searching inside files: grep\n",
    "\n",
    "The wonderful `grep` command will search within files and traverse within subdirectories.\n",
    "\n",
    "**Find all files with the word \"the\" inside.**\n",
    "```\n",
    "grep -r \"the\" *\n",
    "```\n",
    "\n",
    "*Omitting -r will cause `grep` to only look within the current subdirectory.*\n",
    "*Using -i will make `grep` ignore the casing of characters, but at the expense of efficiency.*\n"
   ]
  },
  {
   "cell_type": "markdown",
   "metadata": {
    "slideshow": {
     "slide_type": "slide"
    }
   },
   "source": [
    "<a id='finding_files'></a>\n",
    "\n",
    "## Finding files\n",
    "\n",
    "---\n",
    "\n",
    "By far, the most useful operation from the terminal is finding files. `locate` finds files all over your file system.  The `find` command will find files relative to the current working directory but needs to be used in conjunction with a pipe operation.\n",
    "\n",
    "### Find all notebook files within subdirectories of the current working directory\n",
    "`find . | grep ipynb`\n",
    "\n",
    "### Find specific file(s) within the entire system\n",
    "`locate nanorc`\n",
    "\n",
    "### Find specific file(s) with a substring match\n",
    "`locate log`"
   ]
  },
  {
   "cell_type": "markdown",
   "metadata": {
    "slideshow": {
     "slide_type": "slide"
    }
   },
   "source": [
    "### Misc trick:  Counting the number of lines in a file\n",
    "\n",
    "At times, you may not want to load an entire file in memory. Using a combination of `head`, `tail`, `cat`, and a new command — `wc` — you can quickly assess the various size characteristics of any file.\n",
    "\n",
    "#### Find the number of lines in a file\n",
    "```bash\n",
    "cat /etc/passwd | wc -l\n",
    "```\n",
    "\n",
    "#### Find the number of words in a file\n",
    "```bash\n",
    "cat /etc/test.txt | wc -w\n",
    "```"
   ]
  },
  {
   "cell_type": "markdown",
   "metadata": {
    "slideshow": {
     "slide_type": "slide"
    }
   },
   "source": [
    "### You probably have questions about \"piping\"...\n",
    "Here's some optional (but highly recommended) reading about pipe and I/O redirection on the command line:\n",
    "\n",
    "\n",
    "* [I/O redirection](http://linuxcommand.org/lts0060.php)\n",
    "* [Good examples of piping commands together](http://unix.stackexchange.com/questions/30759/whats-a-good-example-of-piping-commands-together)\n"
   ]
  },
  {
   "cell_type": "markdown",
   "metadata": {
    "slideshow": {
     "slide_type": "slide"
    }
   },
   "source": [
    "<a id='independent_practice'></a>\n",
    "\n",
    "## Independent Practice\n",
    "\n",
    "---\n",
    "\n",
    "**Try out the `mkdir`, `touch`, `cd`, `pwd`, and `ls` commands on your own. If you want, try out using the wildcard command as well.**"
   ]
  },
  {
   "cell_type": "markdown",
   "metadata": {},
   "source": [
    "<a id='ide'></a>\n",
    "\n",
    "\n",
    "\n",
    "## Intro to IDEs\n",
    "\n",
    "In addition to being able to write commands in the Unix OS(mac) or Windows OS(PC) command langauge in the terminal, we can also execute commands in a variaty of languages like python, Java and Git in terminal/command line as well.\n",
    "\n",
    "In your terminal you can enter into a python shell by simply typing `python`.\n",
    "\n",
    "Within the python shell we can execute python commands\n",
    "\n",
    "```python\n",
    ">>> # assigning a variable\n",
    ">>> x = 'hello world'\n",
    "\n",
    ">>> # printing a variables contents\n",
    ">>> print x\n",
    "hello world\n",
    "```\n",
    "\n",
    "Writing and trouble shooting alot of code in the terminal can be tedious as it is hard to write several line scripts.  Almost all developers don't actually write their scripts in the command line, instead they use IDEs, Integrated Developer Environments to build and test their code."
   ]
  },
  {
   "cell_type": "markdown",
   "metadata": {},
   "source": [
    "## Common IDEs for Data Science\n",
    "\n",
    "The Anaconda package manager we installed earlier comes with two useful, python based IDEs, `Spyder` and `Jupyter`.\n",
    "\n",
    "**Jupyter Notebooks**\n",
    "\n",
    "Has cell based execution which allows you run run all the code in an entire cell simultaneously.  Jupyter books also have markdown and slide show integration allowing for them to make great blog or instruction resources.  _All of the lessons in this class have been and will most likely be written in a Jupyter Notebook_.\n",
    "\n",
    "Jupyter Notebooks open in your default browser and can be opened from the Anaconda Navigator or from the command line by executing ```jupyter notebook```.\n",
    "\n",
    "- [28 Jupyter Notebook tips, tricks and shortcuts](https://www.dataquest.io/blog/jupyter-notebook-tips-tricks-shortcuts/)\n",
    "- [Markdown Cheatsheet](https://github.com/adam-p/markdown-here/wiki/Markdown-Here-Cheatsheet)\n",
    "\n",
    "**Spyder Notebooks**\n",
    "\n",
    "Has a selection based execution which allows you to run all the code that you have _selected_ simultaneously.  Spyder notebooks are very similar to R Studio and have several customizable windows for displaying output, variables and computer usage.\n",
    "\n",
    "Syder notebooks open in their own window and can be opened from the Anaconda Navigator or from the command line by executing ```spyder```.\n",
    "\n",
    "\n",
    "As far as notebooks go, one is not better than the other and it comes down to personal preferences as far as which one you use."
   ]
  },
  {
   "cell_type": "markdown",
   "metadata": {
    "slideshow": {
     "slide_type": "slide"
    }
   },
   "source": [
    "<a id='conclusion'></a>\n",
    "\n",
    "## Conclusion\n",
    "\n",
    "---\n",
    "\n",
    "Today, we learned about the Command Line and common commands we can run through it.  We also learned about file structures, absolute paths and relative paths.\n",
    "\n",
    "Additionally we reviewed running python in the command line as well has more appropriate places to build codes (IDEs).\n",
    "\n",
    "\n",
    "\n",
    "In time, you might find that simple operations are actually faster to perform from the command line."
   ]
  }
 ],
 "metadata": {
  "celltoolbar": "Slideshow",
  "kernelspec": {
   "display_name": "Python 2",
   "language": "python",
   "name": "python2"
  },
  "language_info": {
   "codemirror_mode": {
    "name": "ipython",
    "version": 2
   },
   "file_extension": ".py",
   "mimetype": "text/x-python",
   "name": "python",
   "nbconvert_exporter": "python",
   "pygments_lexer": "ipython2",
   "version": "2.7.13"
  }
 },
 "nbformat": 4,
 "nbformat_minor": 0
}
