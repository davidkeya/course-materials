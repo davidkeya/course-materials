{
 "cells": [
  {
   "cell_type": "markdown",
   "metadata": {},
   "source": [
    "<img src=\"http://imgur.com/1ZcRyrc.png\" style=\"float: left; margin: 20px; height: 55px\">\n",
    "\n",
    "# Introduction To Python\n",
    "\n",
    "_Author: Joseph Nelson (DC), Sam Stack (DC)_\n",
    "\n",
    "---\n",
    "\n",
    "### Learning Objectives\n",
    " \n",
    "**After this lesson, you will be able to:**\n",
    "\n",
    "- Define integers, strings, tuples, lists, and dictionaries\n",
    "- Demonstrate arithmetic operations and string operations\n",
    "- Demonstrate variable assignment\n",
    "\n",
    "\n",
    "### STUDENT PRE-WORK\n",
    "\n",
    "Before this lesson, you should already be able to:\n",
    "\n",
    "- Describe/define Python data types\n",
    "\n",
    "---\n",
    "### Lesson Guide\n",
    "- [Why Python](#why_py)\n",
    "- [Introduction to Data Types](#intro)\n",
    "- [Jupyter Notebook](#jupyter_nb)\n",
    "- [Python Variables](#variables)\n",
    "- [Operators](#operators)\n",
    "- [Integers and Floats](#numbers)\n",
    "- [Strings](#strings)\n",
    "\t-[String Indexing](#slicing)\n",
    "- [Printing Strings](#print)\n",
    "- [Lists](#lists)\n",
    "- [Tuples](#tuples)\n",
    "- [Dictionaries](#dictionary)\n",
    "- [Importing Packages and Documentation](#import)\n",
    "- [Practice With a Partner](#ind-practice)\n",
    "- [Conclusion](#conclusion)\n",
    "\n",
    "----"
   ]
  },
  {
   "cell_type": "markdown",
   "metadata": {},
   "source": [
    "<a id='why_py'></a>\n",
    "\n",
    "## Why Python?\n",
    "\n",
    "Python was create by Guido van Rossum an released back in 1991.  Since then, Python has greatly grown as a high-level, **general purpose** programming language with a huge **open source** community supporting it.  The language was developed to emphasize **readability** of code (specifically white-space use and syntax).  The 'Zen of Python' is a poem that explains the nature of the python functionality.\n",
    "\n",
    "\n",
    "#### _The Zen of Python_  \n",
    "_Beautiful is better than ugly.  \n",
    "Explicit is better than implicit.  \n",
    "Simple is better than complex.  \n",
    "Complex is better than complicated.  \n",
    "Flat is better than nested.  \n",
    "Sparse is better than dense.  \n",
    "Readability counts.  \n",
    "Special cases aren't special enough to break the rules. Although practicality beats purity.   \n",
    "Errors should never pass silently.  \n",
    "Unless explicitly silenced.  \n",
    "In the face of ambiguity, refuse the temptation to guess.  \n",
    "There should be one—and preferably only one—obvious way to do it. Although that way may not be obvious at first unless you're Dutch.\n",
    "Now is better than never.  \n",
    "Although never is often better than right now.  \n",
    "If the implementation is hard to explain, it's a bad idea.  \n",
    "If the implementation is easy to explain, it may be a good idea.   \n",
    "Namespaces are one honking great idea—let's do more of those. _"
   ]
  },
  {
   "cell_type": "markdown",
   "metadata": {},
   "source": [
    "## Why Python for Data Science?\n",
    "\n",
    "##### General Purpose, Open Source & Readability\n",
    "\n",
    "These are some of the more prominent reasons Python has been so widely adopted for data science.\n",
    "\n",
    "**General Purpose** - Python was not intended just to be used for software development or website development.  Instead it comes with the basic building blocks you need to develop anything you want out of it.\n",
    "\n",
    "**Open Source** - Going back to the 'basic building blocks' point; a large open source community has already created hundreds of libraries containing combinations of the foundation blocks to create more specific toolsets.  Here are a few examples:\n",
    "- Requests : Interacting with websites\n",
    "- Django : Python Web Framework\n",
    "- Pandas : Data scientist's best friend\n",
    "- Pyglet : GUI Application building\n",
    "- Tensor Flow : Google's machine learning library\n",
    "\n",
    "\n",
    "**Readability** - They're called programming languages because learning them is similar to learning a written language, but instead of learning how to communicate with a person you're learning how to communicate with a computer. When a foreign language is similar to your native language it is much easier to pick up.  The same can be said for python, whose general flow makes it alot easier for humans to read and interpret code.\n"
   ]
  },
  {
   "cell_type": "markdown",
   "metadata": {},
   "source": [
    "<a id='intro'></a>\n",
    "## Introduction: Python Data Types\n",
    "\n",
    "There are several _standard_ data types within python, today we will be reviewing the six most common.\n",
    "\n",
    "**Integers**: whole numbers from negative infinity to infinity, such as 1, 0, -5, etc.\n",
    "\n",
    "**Float**: short for \"floating point number,\" any rational number, usually used with decimals such as 2.8 or 3.14159.\n",
    "\n",
    "**Strings**: a set of letters, numbers, or other characters.\n",
    "\"Frank Underwood, I am your father.\"\n",
    "\n",
    "**Tuples**: a list with a fixed number of elements. ie x=(1,2,3) parentheses makes it a tuple.\n",
    "x = (\"Kirk\", \"Picard\", \"Spock\")\n",
    "\n",
    "**Lists**: a list without a fixed number of elements. ie x=[1,2,3] note the square brackets, a list\n",
    "x = [\"Lord\", \"of\", \"the\", \"Rings\"]\n",
    "\n",
    "**Dictionaries**: a type with multiple elements i.e. x = {1: 'a','b': 2,3: 3} where you address the elements with, e.g., a text.\n",
    "x = {'key1':'value1', 'key2':'value2'}\n",
    "\n",
    "We will review each of these more in depth as we go through the lesson as well as common ways of interacting with each of them.\n",
    "\n",
    "[Python Basic data types](https://en.wikiversity.org/wiki/Python/Basic_data_types)"
   ]
  },
  {
   "cell_type": "markdown",
   "metadata": {},
   "source": [
    "<a id='jupyter_nb'></a>\n",
    "## Jupyter Notebook\n",
    "\n",
    "Before we get started, lets go over a little bit of interacting with iPython in the Jupyter Notebook."
   ]
  },
  {
   "cell_type": "markdown",
   "metadata": {},
   "source": [
    "Code cells are run by pressing shift-enter or using the play button in the toolbar."
   ]
  },
  {
   "cell_type": "code",
   "execution_count": null,
   "metadata": {
    "collapsed": true
   },
   "outputs": [],
   "source": [
    "# this is a cell"
   ]
  },
  {
   "cell_type": "code",
   "execution_count": 1,
   "metadata": {
    "collapsed": false
   },
   "outputs": [],
   "source": [
    "# assigning a variable\n",
    "v = 1"
   ]
  },
  {
   "cell_type": "code",
   "execution_count": 2,
   "metadata": {
    "collapsed": true
   },
   "outputs": [],
   "source": [
    "# assign another\n",
    "dsi_ga = 'DSI is awesome!'"
   ]
  },
  {
   "cell_type": "code",
   "execution_count": 3,
   "metadata": {
    "collapsed": false
   },
   "outputs": [
    {
     "data": {
      "text/plain": [
       "'DSI is awesome!'"
      ]
     },
     "execution_count": 3,
     "metadata": {},
     "output_type": "execute_result"
    }
   ],
   "source": [
    "# run this!\n",
    "dsi_ga"
   ]
  },
  {
   "cell_type": "code",
   "execution_count": 4,
   "metadata": {
    "collapsed": false
   },
   "outputs": [
    {
     "name": "stdout",
     "output_type": "stream",
     "text": [
      "10\n"
     ]
    }
   ],
   "source": [
    "# print this\n",
    "print(v)"
   ]
  },
  {
   "cell_type": "markdown",
   "metadata": {},
   "source": [
    "You can also perform basic math using integers as well in the iPython notebook."
   ]
  },
  {
   "cell_type": "code",
   "execution_count": 3,
   "metadata": {
    "collapsed": false
   },
   "outputs": [
    {
     "data": {
      "text/plain": [
       "26"
      ]
     },
     "execution_count": 3,
     "metadata": {},
     "output_type": "execute_result"
    }
   ],
   "source": [
    "45-19"
   ]
  },
  {
   "cell_type": "markdown",
   "metadata": {},
   "source": [
    "<a id='variables'></a>\n",
    "## Variables\n",
    "\n",
    "Variables are names that have been assigned to specific values or data.  These names can be almost anything that you want, but there are some restrictions and best practices.\n",
    "\n",
    "**Restrictions**\n",
    "- Variable names cannot be just a number (i.e., `2`, `0.01`, `10000`)\n",
    "- Variables cannot be assigned the same name as a default or imported function (i.e., '`type`', '`print`', '`for`')\n",
    "- Variable names cannot have spaces in them.\n",
    "\n",
    "**Best Practices**\n",
    "- Variable names should be lowercase.\n",
    "- A variable's name should be representative of the value(s) it has been assigned.\n",
    "- If you must use multiple words in your variable name, use an underscore to separate them.  "
   ]
  },
  {
   "cell_type": "code",
   "execution_count": 10,
   "metadata": {
    "collapsed": false
   },
   "outputs": [
    {
     "data": {
      "text/plain": [
       "float"
      ]
     },
     "execution_count": 10,
     "metadata": {},
     "output_type": "execute_result"
    }
   ],
   "source": [
    "# assigning a float\n",
    "x = 1.0\n",
    "type(x)"
   ]
  },
  {
   "cell_type": "code",
   "execution_count": 11,
   "metadata": {
    "collapsed": false
   },
   "outputs": [
    {
     "data": {
      "text/plain": [
       "int"
      ]
     },
     "execution_count": 11,
     "metadata": {},
     "output_type": "execute_result"
    }
   ],
   "source": [
    "# assigning an int\n",
    "y = 1\n",
    "type(y)"
   ]
  },
  {
   "cell_type": "code",
   "execution_count": 12,
   "metadata": {
    "collapsed": false
   },
   "outputs": [
    {
     "data": {
      "text/plain": [
       "str"
      ]
     },
     "execution_count": 12,
     "metadata": {},
     "output_type": "execute_result"
    }
   ],
   "source": [
    "# assigning a string\n",
    "z = '1'\n",
    "type(z)"
   ]
  },
  {
   "cell_type": "markdown",
   "metadata": {},
   "source": [
    "**It is critical to remember that when assigning variables we are not stating that \"_x equals 1_\" we are stating that \"_x has been assigned the value of 1_\"**"
   ]
  },
  {
   "cell_type": "markdown",
   "metadata": {},
   "source": [
    "<a id='operators'></a>\n",
    "## Operators\n",
    "\n",
    "\"Operators are the constructs which can manipulate the value of operands.\" - [Tutorials Point: Python](https://www.tutorialspoint.com/python/python_basic_operators.htm)"
   ]
  },
  {
   "cell_type": "markdown",
   "metadata": {},
   "source": [
    "Operators can be used in a mathmatical sence to calculate (or create) the sums, difference, products or quotient of values or variables."
   ]
  },
  {
   "cell_type": "code",
   "execution_count": 13,
   "metadata": {
    "collapsed": false
   },
   "outputs": [
    {
     "name": "stdout",
     "output_type": "stream",
     "text": [
      "3\n",
      "-1\n",
      "2\n",
      "0\n"
     ]
    }
   ],
   "source": [
    "# addition\n",
    "print 1 + 2\n",
    "# subtraction\n",
    "print 1 - 2\n",
    "# multiplication\n",
    "print 1 * 2\n",
    "# division\n",
    "print 1 / 2"
   ]
  },
  {
   "cell_type": "markdown",
   "metadata": {},
   "source": [
    "As you can see, the output of the division is not correct.  This is because \"`/`\" will round down the output in order to keep the datatypes of the input and output consistent.  \n",
    "_This aspect has been removed in python 3.0_\n",
    "\n",
    "Converting one or both of the integers to floats will allow proper division."
   ]
  },
  {
   "cell_type": "code",
   "execution_count": 14,
   "metadata": {
    "collapsed": false
   },
   "outputs": [
    {
     "data": {
      "text/plain": [
       "0.5"
      ]
     },
     "execution_count": 14,
     "metadata": {},
     "output_type": "execute_result"
    }
   ],
   "source": [
    "# division of float numbers\n",
    "1 / 2.0"
   ]
  },
  {
   "cell_type": "markdown",
   "metadata": {},
   "source": [
    "There is also \"`//`\" division whos output will be a whole number."
   ]
  },
  {
   "cell_type": "code",
   "execution_count": 15,
   "metadata": {
    "collapsed": false
   },
   "outputs": [
    {
     "data": {
      "text/plain": [
       "1.0"
      ]
     },
     "execution_count": 15,
     "metadata": {},
     "output_type": "execute_result"
    }
   ],
   "source": [
    "# still a float, but a whole number float\n",
    "3.0//2"
   ]
  },
  {
   "cell_type": "markdown",
   "metadata": {},
   "source": [
    "The equal signs in python is known as the assignment operator is it is the means by which we can assign values to variables."
   ]
  },
  {
   "cell_type": "code",
   "execution_count": 16,
   "metadata": {
    "collapsed": false
   },
   "outputs": [
    {
     "data": {
      "text/plain": [
       "float"
      ]
     },
     "execution_count": 16,
     "metadata": {},
     "output_type": "execute_result"
    }
   ],
   "source": [
    "number = 2.0\n",
    "type(number)"
   ]
  },
  {
   "cell_type": "code",
   "execution_count": 17,
   "metadata": {
    "collapsed": false
   },
   "outputs": [
    {
     "data": {
      "text/plain": [
       "4"
      ]
     },
     "execution_count": 17,
     "metadata": {},
     "output_type": "execute_result"
    }
   ],
   "source": [
    "# exponent power operator\n",
    "2 ** 2"
   ]
  },
  {
   "cell_type": "code",
   "execution_count": 4,
   "metadata": {
    "collapsed": false
   },
   "outputs": [
    {
     "data": {
      "text/plain": [
       "1"
      ]
     },
     "execution_count": 4,
     "metadata": {},
     "output_type": "execute_result"
    }
   ],
   "source": [
    "# module can be used to get the remainder\n",
    "5%2"
   ]
  },
  {
   "cell_type": "markdown",
   "metadata": {},
   "source": [
    "Booleans and Boolean evaluation operators.  Booleans exist as either true or false and generally used as a means of evaluation."
   ]
  },
  {
   "cell_type": "code",
   "execution_count": 18,
   "metadata": {
    "collapsed": false
   },
   "outputs": [
    {
     "data": {
      "text/plain": [
       "False"
      ]
     },
     "execution_count": 18,
     "metadata": {},
     "output_type": "execute_result"
    }
   ],
   "source": [
    "True and False"
   ]
  },
  {
   "cell_type": "code",
   "execution_count": 19,
   "metadata": {
    "collapsed": false
   },
   "outputs": [
    {
     "data": {
      "text/plain": [
       "True"
      ]
     },
     "execution_count": 19,
     "metadata": {},
     "output_type": "execute_result"
    }
   ],
   "source": [
    "not False"
   ]
  },
  {
   "cell_type": "code",
   "execution_count": 20,
   "metadata": {
    "collapsed": false
   },
   "outputs": [
    {
     "data": {
      "text/plain": [
       "True"
      ]
     },
     "execution_count": 20,
     "metadata": {},
     "output_type": "execute_result"
    }
   ],
   "source": [
    "True or False"
   ]
  },
  {
   "cell_type": "markdown",
   "metadata": {},
   "source": [
    "Comparison Operators\n",
    "- Less Than : **`<`**,\n",
    "- Greater than : **`>`**\n",
    "- Less than or equal to : **`<=`**\n",
    "- Greater than or equal to : **`<=`**\n",
    "- Equals : **`==`**\n",
    "- Does not equal : **`!=`**\n"
   ]
  },
  {
   "cell_type": "code",
   "execution_count": 21,
   "metadata": {
    "collapsed": false
   },
   "outputs": [
    {
     "data": {
      "text/plain": [
       "(True, False, False, False, True, True)"
      ]
     },
     "execution_count": 21,
     "metadata": {},
     "output_type": "execute_result"
    }
   ],
   "source": [
    "2 > 1, 2 < 1, 2 > 2, 2 < 2, 2 >= 2, 2 <= 2"
   ]
  },
  {
   "cell_type": "code",
   "execution_count": 22,
   "metadata": {
    "collapsed": false
   },
   "outputs": [
    {
     "data": {
      "text/plain": [
       "(True, True)"
      ]
     },
     "execution_count": 22,
     "metadata": {},
     "output_type": "execute_result"
    }
   ],
   "source": [
    "# equality\n",
    "[1,2] == [1,2], [1,2] != [2,1]"
   ]
  },
  {
   "cell_type": "markdown",
   "metadata": {},
   "source": [
    "<a id='numbers'></a>\n",
    "## Numbers in Python\n",
    "\n",
    "Numbers in python can be stored four ways.  Two are very common, Floats and Integers and two are relatively uncommon, [Long](https://docs.python.org/2/library/functions.html#long) and [Complex](https://docs.python.org/2/library/functions.html#complex). Today we will be reviewing Integers and Floats as there is a good chance these will be the only ones you ever use.\n",
    "\n",
    "Integers are whole numbers. \n",
    "- 1\n",
    "- 200\n",
    "- 100009 \n",
    "\n",
    "Floats are numbers with decimols.  The name 'Float' comes from 'Floating Point' as the decimol can _float_ the length of the number.  \n",
    "- 1.11\n",
    "- 26.006\n",
    "- 3.0"
   ]
  },
  {
   "cell_type": "code",
   "execution_count": 23,
   "metadata": {
    "collapsed": false
   },
   "outputs": [
    {
     "data": {
      "text/plain": [
       "(int, float)"
      ]
     },
     "execution_count": 23,
     "metadata": {},
     "output_type": "execute_result"
    }
   ],
   "source": [
    "x_int = 1\n",
    "x_float =1.0\n",
    "\n",
    "type(x_int), type(x_float)"
   ]
  },
  {
   "cell_type": "markdown",
   "metadata": {},
   "source": [
    "If a integer or float is compatible it can be converted to the other type."
   ]
  },
  {
   "cell_type": "code",
   "execution_count": 24,
   "metadata": {
    "collapsed": false
   },
   "outputs": [
    {
     "data": {
      "text/plain": [
       "1.0"
      ]
     },
     "execution_count": 24,
     "metadata": {},
     "output_type": "execute_result"
    }
   ],
   "source": [
    "float(x_int)"
   ]
  },
  {
   "cell_type": "code",
   "execution_count": 25,
   "metadata": {
    "collapsed": false
   },
   "outputs": [
    {
     "data": {
      "text/plain": [
       "int"
      ]
     },
     "execution_count": 25,
     "metadata": {},
     "output_type": "execute_result"
    }
   ],
   "source": [
    "type(int(x_float))"
   ]
  },
  {
   "cell_type": "markdown",
   "metadata": {},
   "source": [
    "<a id='strings'></a>\n",
    "\n",
    "## Strings\n",
    "\n",
    "Strings are essentually any character combination in between quotes.  Most often they are used as a way of storing text."
   ]
  },
  {
   "cell_type": "code",
   "execution_count": 26,
   "metadata": {
    "collapsed": false
   },
   "outputs": [
    {
     "data": {
      "text/plain": [
       "str"
      ]
     },
     "execution_count": 26,
     "metadata": {},
     "output_type": "execute_result"
    }
   ],
   "source": [
    "s = \"Hello world\"\n",
    "type(s)"
   ]
  },
  {
   "cell_type": "markdown",
   "metadata": {},
   "source": [
    "Strings have alot of methods and attributes associated with them that allows us to better understand and manipulate them."
   ]
  },
  {
   "cell_type": "code",
   "execution_count": 27,
   "metadata": {
    "collapsed": false
   },
   "outputs": [
    {
     "data": {
      "text/plain": [
       "11"
      ]
     },
     "execution_count": 27,
     "metadata": {},
     "output_type": "execute_result"
    }
   ],
   "source": [
    "# length of the string\n",
    "len(s)"
   ]
  },
  {
   "cell_type": "code",
   "execution_count": 28,
   "metadata": {
    "collapsed": false
   },
   "outputs": [
    {
     "name": "stdout",
     "output_type": "stream",
     "text": [
      "Hello test\n"
     ]
    }
   ],
   "source": [
    "# replace an element of a string\n",
    "s2 = s.replace(\"world\", \"test\")\n",
    "print(s2)"
   ]
  },
  {
   "cell_type": "markdown",
   "metadata": {},
   "source": [
    "<a id='slicing'></a>\n",
    "\n",
    "\n",
    "**String Indexing**  \n",
    "\n",
    "We can extract characters at specific index locations in a string using indexing."
   ]
  },
  {
   "cell_type": "code",
   "execution_count": 29,
   "metadata": {
    "collapsed": false
   },
   "outputs": [
    {
     "data": {
      "text/plain": [
       "'H'"
      ]
     },
     "execution_count": 29,
     "metadata": {},
     "output_type": "execute_result"
    }
   ],
   "source": [
    "# indexing the first (index 0) character in the string\n",
    "s[0]"
   ]
  },
  {
   "cell_type": "markdown",
   "metadata": {},
   "source": [
    "The numbers that you enter after the variable (the [0]) are called indices.\n",
    "\n",
    "_Counting in python and many other programming languages begins at 0 as opposed to 1._  "
   ]
  },
  {
   "cell_type": "code",
   "execution_count": 30,
   "metadata": {
    "collapsed": false
   },
   "outputs": [
    {
     "data": {
      "text/plain": [
       "'Hello'"
      ]
     },
     "execution_count": 30,
     "metadata": {},
     "output_type": "execute_result"
    }
   ],
   "source": [
    "#Objects at indexes 0,1,2,3 & 4\n",
    "\n",
    "s[0:5]"
   ]
  },
  {
   "cell_type": "markdown",
   "metadata": {},
   "source": [
    "Most ranges or functions with ranges have upper ends that are **not inclusive**.  So a range of `[0:5]` starts at `0` and stops before `5`."
   ]
  },
  {
   "cell_type": "code",
   "execution_count": 31,
   "metadata": {
    "collapsed": false
   },
   "outputs": [
    {
     "data": {
      "text/plain": [
       "'world'"
      ]
     },
     "execution_count": 31,
     "metadata": {},
     "output_type": "execute_result"
    }
   ],
   "source": [
    "# from index 6 up to the end of the string\n",
    "s[6:]"
   ]
  },
  {
   "cell_type": "code",
   "execution_count": 32,
   "metadata": {
    "collapsed": false
   },
   "outputs": [
    {
     "data": {
      "text/plain": [
       "'Hello world'"
      ]
     },
     "execution_count": 32,
     "metadata": {},
     "output_type": "execute_result"
    }
   ],
   "source": [
    "# no start or end specified\n",
    "s[:]"
   ]
  },
  {
   "cell_type": "markdown",
   "metadata": {},
   "source": [
    "In addition to specifying a range, you can add a step size, or a character skip rate."
   ]
  },
  {
   "cell_type": "code",
   "execution_count": 33,
   "metadata": {
    "collapsed": false
   },
   "outputs": [
    {
     "data": {
      "text/plain": [
       "'Hlowrd'"
      ]
     },
     "execution_count": 33,
     "metadata": {},
     "output_type": "execute_result"
    }
   ],
   "source": [
    "# define step size of 2, every other character\n",
    "s[::2]"
   ]
  },
  {
   "cell_type": "markdown",
   "metadata": {},
   "source": [
    "#### Concatenating\n",
    "To add two strings together - to do this you just type the first string, an addition sign, the second string."
   ]
  },
  {
   "cell_type": "code",
   "execution_count": 35,
   "metadata": {
    "collapsed": false
   },
   "outputs": [
    {
     "name": "stdout",
     "output_type": "stream",
     "text": [
      "Helloworld\n"
     ]
    }
   ],
   "source": [
    "print 'Hello'+'world'"
   ]
  },
  {
   "cell_type": "markdown",
   "metadata": {},
   "source": [
    "You can do the same with variables referring to strings.\n",
    "In iPython notebook type:\n"
   ]
  },
  {
   "cell_type": "code",
   "execution_count": 7,
   "metadata": {
    "collapsed": false
   },
   "outputs": [
    {
     "data": {
      "text/plain": [
       "'Helloworld'"
      ]
     },
     "execution_count": 7,
     "metadata": {},
     "output_type": "execute_result"
    }
   ],
   "source": [
    "x = 'Hello'\n",
    "y = 'world'\n",
    "\n",
    "x + y"
   ]
  },
  {
   "cell_type": "markdown",
   "metadata": {},
   "source": [
    "There is also 'C-style' formating which allows us to create a string with place holder values which we can populate."
   ]
  },
  {
   "cell_type": "code",
   "execution_count": 36,
   "metadata": {
    "collapsed": false
   },
   "outputs": [
    {
     "name": "stdout",
     "output_type": "stream",
     "text": [
      "value = 1.000000\n"
     ]
    }
   ],
   "source": [
    "# C-style formatting\n",
    "print(\"value = %f\" % 1.0) \n",
    "# \"%f\" is the place holder for a float"
   ]
  },
  {
   "cell_type": "code",
   "execution_count": 37,
   "metadata": {
    "collapsed": false
   },
   "outputs": [
    {
     "name": "stdout",
     "output_type": "stream",
     "text": [
      "value1 = 3.1415, value2 = 1.5\n"
     ]
    }
   ],
   "source": [
    "# alternative, more intuitive way of formatting a string \n",
    "s3 = 'value1 = {0}, value2 = {1}'.format(3.1415, 1.5)\n",
    "print(s3)"
   ]
  },
  {
   "cell_type": "markdown",
   "metadata": {},
   "source": [
    "Multiplying is very easy and straightforward."
   ]
  },
  {
   "cell_type": "code",
   "execution_count": 9,
   "metadata": {
    "collapsed": false
   },
   "outputs": [
    {
     "data": {
      "text/plain": [
       "'Hello Hello Hello Hello Hello '"
      ]
     },
     "execution_count": 9,
     "metadata": {},
     "output_type": "execute_result"
    }
   ],
   "source": [
    "x = 'Hello '\n",
    "x * 5"
   ]
  },
  {
   "cell_type": "markdown",
   "metadata": {},
   "source": [
    "<a id='lists'></a>\n",
    "\n",
    "\n",
    "## Lists\n",
    "\n",
    "Lists are a way of storing ordered data.\n",
    "\n",
    "Lists can be composed of ints, floats, strings, other lists as well as other datatypes we have not covered yet."
   ]
  },
  {
   "cell_type": "code",
   "execution_count": 38,
   "metadata": {
    "collapsed": false
   },
   "outputs": [
    {
     "name": "stdout",
     "output_type": "stream",
     "text": [
      "<type 'list'>\n",
      "[1, 2, 3, 4]\n"
     ]
    }
   ],
   "source": [
    "l = [1,2,3,4]\n",
    "\n",
    "print(type(l))\n",
    "print(l)"
   ]
  },
  {
   "cell_type": "code",
   "execution_count": 39,
   "metadata": {
    "collapsed": true
   },
   "outputs": [],
   "source": [
    "#the contents of a variable can be reasiggned to another variable\n",
    "a = l"
   ]
  },
  {
   "cell_type": "code",
   "execution_count": 40,
   "metadata": {
    "collapsed": false
   },
   "outputs": [
    {
     "name": "stdout",
     "output_type": "stream",
     "text": [
      "[1, 2, 3, 4]\n"
     ]
    }
   ],
   "source": [
    "print a"
   ]
  },
  {
   "cell_type": "code",
   "execution_count": 41,
   "metadata": {
    "collapsed": false
   },
   "outputs": [
    {
     "name": "stdout",
     "output_type": "stream",
     "text": [
      "['Joseph', 'Bob', 'Rick']\n"
     ]
    }
   ],
   "source": [
    "# list of strings\n",
    "names = ['Joseph', 'Bob', 'Rick']\n",
    "print(names)"
   ]
  },
  {
   "cell_type": "markdown",
   "metadata": {},
   "source": [
    "Lists also have several methods that allows us to alter them, such as the `.append()` method which allows us to at another element on to the end of a lists."
   ]
  },
  {
   "cell_type": "code",
   "execution_count": 42,
   "metadata": {
    "collapsed": true
   },
   "outputs": [],
   "source": [
    "names.append('John')"
   ]
  },
  {
   "cell_type": "code",
   "execution_count": 43,
   "metadata": {
    "collapsed": false
   },
   "outputs": [
    {
     "data": {
      "text/plain": [
       "['Joseph', 'Bob', 'Rick', 'John']"
      ]
     },
     "execution_count": 43,
     "metadata": {},
     "output_type": "execute_result"
    }
   ],
   "source": [
    "names"
   ]
  },
  {
   "cell_type": "code",
   "execution_count": 44,
   "metadata": {
    "collapsed": false
   },
   "outputs": [
    {
     "name": "stdout",
     "output_type": "stream",
     "text": [
      "[2, 3]\n",
      "[1, 3]\n"
     ]
    }
   ],
   "source": [
    "# lists can be indexed in the same method as strings\n",
    "print(l[1:3])\n",
    "print(l[::2])"
   ]
  },
  {
   "cell_type": "code",
   "execution_count": 45,
   "metadata": {
    "collapsed": false
   },
   "outputs": [
    {
     "data": {
      "text/plain": [
       "'ob'"
      ]
     },
     "execution_count": 45,
     "metadata": {},
     "output_type": "execute_result"
    }
   ],
   "source": [
    "# we can slice a value in a list as well\n",
    "names[1][1:]"
   ]
  },
  {
   "cell_type": "markdown",
   "metadata": {},
   "source": [
    "In the example above the first index slice gets the string \"`Bob`\" and the second indexing aspect gets the characters in \"`Bob`\" at index 1 till the end."
   ]
  },
  {
   "cell_type": "code",
   "execution_count": 46,
   "metadata": {
    "collapsed": false
   },
   "outputs": [
    {
     "name": "stdout",
     "output_type": "stream",
     "text": [
      "[1, 'a', 1.0, (1-1j)]\n"
     ]
    }
   ],
   "source": [
    "# Lists don't have to be the same type\n",
    "l = [1, 'a', 1.0, 1-1j]\n",
    "print(l)"
   ]
  },
  {
   "cell_type": "code",
   "execution_count": 47,
   "metadata": {
    "collapsed": false
   },
   "outputs": [
    {
     "data": {
      "text/plain": [
       "[10, 12, 14, 16, 18, 20, 22, 24, 26, 28]"
      ]
     },
     "execution_count": 47,
     "metadata": {},
     "output_type": "execute_result"
    }
   ],
   "source": [
    "#We can create a list of values in a range using the 'range' function\n",
    "start = 10\n",
    "stop = 30\n",
    "step = 2\n",
    "range(start, stop, step)\n",
    "\n",
    "# consume the iterator created by range\n",
    "list(range(start, stop, step))"
   ]
  },
  {
   "cell_type": "markdown",
   "metadata": {},
   "source": [
    "Creating a list from scratch."
   ]
  },
  {
   "cell_type": "code",
   "execution_count": 48,
   "metadata": {
    "collapsed": false
   },
   "outputs": [
    {
     "name": "stdout",
     "output_type": "stream",
     "text": [
      "['A', 'd', 'd']\n"
     ]
    }
   ],
   "source": [
    "# create a new empty list\n",
    "l = []\n",
    "\n",
    "# add an elements using `append`\n",
    "l.append(\"A\")\n",
    "l.append(\"d\")\n",
    "l.append(\"d\")\n",
    "\n",
    "print(l)"
   ]
  },
  {
   "cell_type": "code",
   "execution_count": 49,
   "metadata": {
    "collapsed": false
   },
   "outputs": [
    {
     "name": "stdout",
     "output_type": "stream",
     "text": [
      "['A', 'b', 'c']\n"
     ]
    }
   ],
   "source": [
    "# reassigning a range of values with another list\n",
    "l[1:3] = [\"b\", \"c\"]\n",
    "print(l)"
   ]
  },
  {
   "cell_type": "markdown",
   "metadata": {},
   "source": [
    "Using the `.insert()` method to add values at specific indexes."
   ]
  },
  {
   "cell_type": "code",
   "execution_count": 50,
   "metadata": {
    "collapsed": false
   },
   "outputs": [
    {
     "name": "stdout",
     "output_type": "stream",
     "text": [
      "['i', 'n', 's', 'e', 'r', 't', 'A', 'b', 'c']\n"
     ]
    }
   ],
   "source": [
    "l.insert(0, \"i\")\n",
    "l.insert(1, \"n\")\n",
    "l.insert(2, \"s\")\n",
    "l.insert(3, \"e\")\n",
    "l.insert(4, \"r\")\n",
    "l.insert(5, \"t\")\n",
    "\n",
    "print(l)"
   ]
  },
  {
   "cell_type": "markdown",
   "metadata": {},
   "source": [
    "If a value already exists at an index that the new value is trying to be inserted at, the original value gets bumped to the next index.\n",
    "\n",
    "---\n",
    "The `.remove()` method can be used to remove specific values if they appear in a list."
   ]
  },
  {
   "cell_type": "code",
   "execution_count": 51,
   "metadata": {
    "collapsed": false
   },
   "outputs": [
    {
     "name": "stdout",
     "output_type": "stream",
     "text": [
      "['i', 'n', 's', 'e', 'r', 't', 'b', 'c']\n"
     ]
    }
   ],
   "source": [
    "l.remove(\"A\")\n",
    "print(l)"
   ]
  },
  {
   "cell_type": "markdown",
   "metadata": {},
   "source": [
    "On the other hand, the `del` function can be used with a list and index to delete values."
   ]
  },
  {
   "cell_type": "code",
   "execution_count": 52,
   "metadata": {
    "collapsed": false
   },
   "outputs": [
    {
     "name": "stdout",
     "output_type": "stream",
     "text": [
      "['i', 'n', 's', 'e', 'r', 't']\n"
     ]
    }
   ],
   "source": [
    "\n",
    "del l[7]\n",
    "del l[6]\n",
    "\n",
    "print(l)"
   ]
  },
  {
   "cell_type": "markdown",
   "metadata": {},
   "source": [
    "<a id='tuples'></a>\n",
    "\n",
    "\n",
    "## Tuples\n",
    "\n",
    "Tuples are similar to lists in that they store a sequence of various separate values.  However, tuples are not mutable in that once they are created the values in them can not be changed."
   ]
  },
  {
   "cell_type": "code",
   "execution_count": 53,
   "metadata": {
    "collapsed": false
   },
   "outputs": [
    {
     "name": "stdout",
     "output_type": "stream",
     "text": [
      "((10, 20), <type 'tuple'>)\n"
     ]
    }
   ],
   "source": [
    "point = (10, 20)\n",
    "print(point, type(point))"
   ]
  },
  {
   "cell_type": "code",
   "execution_count": 54,
   "metadata": {
    "collapsed": false
   },
   "outputs": [
    {
     "data": {
      "text/plain": [
       "10"
      ]
     },
     "execution_count": 54,
     "metadata": {},
     "output_type": "execute_result"
    }
   ],
   "source": [
    "# they can be sliced just list lists and strings\n",
    "point[0]"
   ]
  },
  {
   "cell_type": "markdown",
   "metadata": {},
   "source": [
    "Unpacking a variable is a common practice when iterating through python data types.  Unpacking essentually allows us to simultaneously set new variables to items in a list, tuple or dictionary.  "
   ]
  },
  {
   "cell_type": "code",
   "execution_count": 55,
   "metadata": {
    "collapsed": false
   },
   "outputs": [
    {
     "name": "stdout",
     "output_type": "stream",
     "text": [
      "('x =', 10)\n",
      "('y =', 20)\n"
     ]
    }
   ],
   "source": [
    "# unpacking\n",
    "x, y = point\n",
    "\n",
    "print(\"x =\", x)\n",
    "print(\"y =\", y)"
   ]
  },
  {
   "cell_type": "markdown",
   "metadata": {},
   "source": [
    "<a id='dictionary'></a>\n",
    "\n",
    "\n",
    "## Dictionaries\n",
    "\n",
    "Dictionaries are a non-sequential python data type.  Instead of using an ordered index to access data stored in a dictionary we instead use a system of key-value-pairs.  \n",
    "\n",
    "A key being similar to a variable name.  \n",
    "A value being similar to the value assigned to the variable.\n",
    "\n",
    "{ } enclose dictionaries (Note, that you can also construct a set with curly brackets. The first input in a dictionary pair is the 'key'. The second input in a\n",
    "dictionary pair is the 'value'. The general format looks like this:"
   ]
  },
  {
   "cell_type": "code",
   "execution_count": 56,
   "metadata": {
    "collapsed": false
   },
   "outputs": [
    {
     "name": "stdout",
     "output_type": "stream",
     "text": [
      "<type 'dict'>\n",
      "{'parameter1': 1.0, 'parameter3': 3.0, 'parameter2': 2.0}\n"
     ]
    }
   ],
   "source": [
    "params = {\"key1\" : 1.0,\n",
    "          \"key2\" : 2.0,\n",
    "          \"key3\" : 3.0,}\n",
    "\n",
    "print(type(params))\n",
    "print(params)"
   ]
  },
  {
   "cell_type": "markdown",
   "metadata": {},
   "source": [
    "The keys stay the same but the values are changeable. You can also only have one occurrence of a key in a dictionary, but you may have the values all be the same."
   ]
  },
  {
   "cell_type": "code",
   "execution_count": 57,
   "metadata": {
    "collapsed": false
   },
   "outputs": [
    {
     "data": {
      "text/plain": [
       "2.0"
      ]
     },
     "execution_count": 57,
     "metadata": {},
     "output_type": "execute_result"
    }
   ],
   "source": [
    "# value for parameter2 in the params dictionary\n",
    "params[\"key2\"]"
   ]
  },
  {
   "cell_type": "code",
   "execution_count": 58,
   "metadata": {
    "collapsed": true
   },
   "outputs": [],
   "source": [
    "# adding a new dictionary entry\n",
    "params[\"key4\"] = \"D\""
   ]
  },
  {
   "cell_type": "code",
   "execution_count": 59,
   "metadata": {
    "collapsed": false
   },
   "outputs": [
    {
     "name": "stdout",
     "output_type": "stream",
     "text": [
      "{'parameter4': 'D', 'parameter1': 1.0, 'parameter3': 3.0, 'parameter2': 2.0}\n"
     ]
    }
   ],
   "source": [
    "# print the entirity of the dictionary\n",
    "print(params)"
   ]
  },
  {
   "cell_type": "code",
   "execution_count": 60,
   "metadata": {
    "collapsed": false
   },
   "outputs": [],
   "source": [
    "# reassigning the value of a key-value-pair in the dictionary\n",
    "params[\"key1\"] = \"A\"\n",
    "params[\"key\"] = \"B\"\n",
    "\n"
   ]
  },
  {
   "cell_type": "code",
   "execution_count": 61,
   "metadata": {
    "collapsed": false
   },
   "outputs": [
    {
     "name": "stdout",
     "output_type": "stream",
     "text": [
      "hamburger = A\n",
      "parameter2 = B\n",
      "parameter3 = 3.0\n",
      "parameter4 = D\n"
     ]
    }
   ],
   "source": [
    "print(\"hamburger = \" + str(params[\"key1\"]))\n",
    "print(\"Key 1 = \" + str(params[\"key2\"]))\n",
    "print(\"Key 2 = \" + str(params[\"key3\"]))\n",
    "print(\"Key 3 = \" + str(params[\"keyr4\"]))"
   ]
  },
  {
   "cell_type": "markdown",
   "metadata": {},
   "source": [
    "<a id='import'></a>\n",
    "\n",
    "## Importing Packages and Documentation."
   ]
  },
  {
   "cell_type": "markdown",
   "metadata": {},
   "source": [
    "Not everything we will use is readily available in python, sometimes we will need to import packages which are assemblies of functions and sometimes additional data types."
   ]
  },
  {
   "cell_type": "code",
   "execution_count": 1,
   "metadata": {
    "collapsed": false
   },
   "outputs": [
    {
     "name": "stdout",
     "output_type": "stream",
     "text": [
      "1.0\n"
     ]
    }
   ],
   "source": [
    "import math\n",
    "\n",
    "x = math.cos(2 * math.pi)\n",
    "print(x)"
   ]
  },
  {
   "cell_type": "code",
   "execution_count": null,
   "metadata": {
    "collapsed": true
   },
   "outputs": [],
   "source": [
    "Import the whole module into the current namespace instead."
   ]
  },
  {
   "cell_type": "code",
   "execution_count": null,
   "metadata": {
    "collapsed": true
   },
   "outputs": [],
   "source": [
    "from math import *\n",
    "x = cos(2 * pi)\n",
    "print(x)"
   ]
  },
  {
   "cell_type": "markdown",
   "metadata": {},
   "source": [
    "There are several ways to look at documentation for a module. Within the Jupyter notebook we can use the `help()` function, or you can place your cursor inside of a function and press \"`shift + tab`\""
   ]
  },
  {
   "cell_type": "code",
   "execution_count": 2,
   "metadata": {
    "collapsed": false
   },
   "outputs": [
    {
     "name": "stdout",
     "output_type": "stream",
     "text": [
      "Help on built-in function cos in module math:\n",
      "\n",
      "cos(...)\n",
      "    cos(x)\n",
      "    \n",
      "    Return the cosine of x (measured in radians).\n",
      "\n"
     ]
    }
   ],
   "source": [
    "help(math.cos)"
   ]
  },
  {
   "cell_type": "markdown",
   "metadata": {},
   "source": [
    "<a name=\"ind-practice\"></a>\n",
    "## Independent Practice: Topic \n",
    "Pair up, using strings, lists, indexing, concatination, as well as other python elements discussed in this lesson, make up your own statements and see if your partner can tell you what will be returned BEFORE running it.\n",
    "\n",
    "\n",
    "<a name=\"conclusion\"></a>\n",
    "## Lesson Summary\n",
    "\n",
    "\n",
    "Let's check to see if we know what we learned about today:\n",
    "\n",
    "- Discuss why python is popular for data science\n",
    "- Define integers, strings, tuples, lists, and dictionaries\n",
    "- Demonstrate arithmetic operations and string operations\n",
    "- Demonstrate variable assignment\n",
    "\n",
    "\n",
    "\n",
    "### Additional Resources\n",
    "\n",
    "- [Python Code Academy](https://www.codecademy.com/learn/python)\n",
    "- [Learn Python the Hardway](https://learnpythonthehardway.org)\n",
    "- [Python Datatypes and Variables](http://www.python-course.eu/variables.php)\n",
    "- [Python IF, ELIF, ELSE](https://www.tutorialspoint.com/python/python_if_else.htm)\n",
    "- [Python Loops](https://www.tutorialspoint.com/python/python_loops.htm)\n",
    "- [Python Control Flow](https://python.swaroopch.com/control_flow.html)"
   ]
  },
  {
   "cell_type": "code",
   "execution_count": null,
   "metadata": {
    "collapsed": true
   },
   "outputs": [],
   "source": []
  }
 ],
 "metadata": {
  "anaconda-cloud": {},
  "kernelspec": {
   "display_name": "Python 2",
   "language": "python",
   "name": "python2"
  },
  "language_info": {
   "codemirror_mode": {
    "name": "ipython",
    "version": 2
   },
   "file_extension": ".py",
   "mimetype": "text/x-python",
   "name": "python",
   "nbconvert_exporter": "python",
   "pygments_lexer": "ipython2",
   "version": "2.7.13"
  }
 },
 "nbformat": 4,
 "nbformat_minor": 0
}
