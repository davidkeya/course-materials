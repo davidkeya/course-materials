{
 "cells": [
  {
   "cell_type": "markdown",
   "metadata": {},
   "source": [
    "<img src=\"http://imgur.com/1ZcRyrc.png\" style=\"float: left; margin: 20px; height: 55px\">\n",
    "\n",
    "# Guided Practice with Topic Modeling and LDA\n",
    "\n",
    "_Authors: Dave Yerrington (SF)_\n",
    "\n",
    "---\n",
    "\n",
    "> **Note: this lab is intended to be a guided lab with the instructor.**\n",
    "\n",
    "In practice it would be a very rare to need to build an unsupervised topic model like LDA from scratch. Lucky for us, sklearn comes with LDA topic modeling functionality. Another popular LDA module which we will explore in this lab is from the `gensim` package. \n",
    "\n",
    "Let's explore a brief walkthrough of LDA and topic modeling using gensim. We will work with a small collection of documents represented as a list."
   ]
  },
  {
   "cell_type": "markdown",
   "metadata": {},
   "source": [
    "### 1. Load the packages and create the small \"documents\".\n",
    "\n",
    "You may need to install the gensim package with `pip` or `conda`."
   ]
  },
  {
   "cell_type": "code",
   "execution_count": 1,
   "metadata": {
    "collapsed": true
   },
   "outputs": [],
   "source": [
    "from gensim import corpora, models, matutils\n",
    "from sklearn.feature_extraction.text import CountVectorizer, TfidfVectorizer\n",
    "from collections import defaultdict\n",
    "import pandas as pd\n",
    "\n",
    "\n",
    "doc_a = \"Brocolli is good to eat. My brother likes to eat good brocolli, but not my mother.\"\n",
    "doc_b = \"My mother spends a lot of time driving my brother around to baseball practice.\"\n",
    "doc_c = \"Some health experts suggest that driving may cause increased tension and blood pressure.\"\n",
    "doc_d = \"I often feel pressure to perform well at school, but my mother never seems to drive my brother to do better.\"\n",
    "doc_e = \"Health professionals say that brocolli is good for your health.\"\n",
    "\n",
    "# compile sample documents into a list\n",
    "documents = [doc_a, doc_b, doc_c, doc_d, doc_e]\n",
    "df        = pd.DataFrame(documents, columns=['text'])"
   ]
  },
  {
   "cell_type": "code",
   "execution_count": 2,
   "metadata": {
    "collapsed": false
   },
   "outputs": [
    {
     "data": {
      "text/html": [
       "<div>\n",
       "<table border=\"1\" class=\"dataframe\">\n",
       "  <thead>\n",
       "    <tr style=\"text-align: right;\">\n",
       "      <th></th>\n",
       "      <th>text</th>\n",
       "    </tr>\n",
       "  </thead>\n",
       "  <tbody>\n",
       "    <tr>\n",
       "      <th>0</th>\n",
       "      <td>Brocolli is good to eat. My brother likes to e...</td>\n",
       "    </tr>\n",
       "    <tr>\n",
       "      <th>1</th>\n",
       "      <td>My mother spends a lot of time driving my brot...</td>\n",
       "    </tr>\n",
       "    <tr>\n",
       "      <th>2</th>\n",
       "      <td>Some health experts suggest that driving may c...</td>\n",
       "    </tr>\n",
       "    <tr>\n",
       "      <th>3</th>\n",
       "      <td>I often feel pressure to perform well at schoo...</td>\n",
       "    </tr>\n",
       "    <tr>\n",
       "      <th>4</th>\n",
       "      <td>Health professionals say that brocolli is good...</td>\n",
       "    </tr>\n",
       "  </tbody>\n",
       "</table>\n",
       "</div>"
      ],
      "text/plain": [
       "                                                text\n",
       "0  Brocolli is good to eat. My brother likes to e...\n",
       "1  My mother spends a lot of time driving my brot...\n",
       "2  Some health experts suggest that driving may c...\n",
       "3  I often feel pressure to perform well at schoo...\n",
       "4  Health professionals say that brocolli is good..."
      ]
     },
     "execution_count": 2,
     "metadata": {},
     "output_type": "execute_result"
    }
   ],
   "source": [
    "df"
   ]
  },
  {
   "cell_type": "markdown",
   "metadata": {},
   "source": [
    "### 2. Load stop words either from NLTK or sklearn"
   ]
  },
  {
   "cell_type": "code",
   "execution_count": 3,
   "metadata": {
    "collapsed": true
   },
   "outputs": [],
   "source": [
    "from nltk.corpus import stopwords\n",
    "\n",
    "nltk_stops = stopwords.words()"
   ]
  },
  {
   "cell_type": "code",
   "execution_count": 4,
   "metadata": {
    "collapsed": true
   },
   "outputs": [],
   "source": [
    "from sklearn.feature_extraction.text import ENGLISH_STOP_WORDS\n",
    "\n",
    "custom_stop_words = list(ENGLISH_STOP_WORDS)\n",
    "\n",
    "# You can of course add your own custom stopwords\n",
    "custom_stop_words.append('mother')\n",
    "custom_stop_words.append('brother')"
   ]
  },
  {
   "cell_type": "markdown",
   "metadata": {},
   "source": [
    "### 3. Use CountVectorizer to transform our text, taking out the stopwords."
   ]
  },
  {
   "cell_type": "code",
   "execution_count": 5,
   "metadata": {
    "collapsed": true
   },
   "outputs": [],
   "source": [
    "vectorizer = CountVectorizer(stop_words=custom_stop_words)\n",
    "X = vectorizer.fit_transform(df['text'])\n"
   ]
  },
  {
   "cell_type": "markdown",
   "metadata": {},
   "source": [
    "### 4. Extract the tokens that remain after stopword removal.\n",
    "\n",
    "The `.vocabulary_` attribute of the vectorizer contains a dictionary of terms. There is also the built-in function `.get_feature_names()` which will extract the column names."
   ]
  },
  {
   "cell_type": "code",
   "execution_count": 6,
   "metadata": {
    "collapsed": false
   },
   "outputs": [
    {
     "data": {
      "text/plain": [
       "{u'baseball': 0,\n",
       " u'better': 1,\n",
       " u'blood': 2,\n",
       " u'brocolli': 3,\n",
       " u'cause': 4,\n",
       " u'drive': 5,\n",
       " u'driving': 6,\n",
       " u'eat': 7,\n",
       " u'experts': 8,\n",
       " u'feel': 9,\n",
       " u'good': 10,\n",
       " u'health': 11,\n",
       " u'increased': 12,\n",
       " u'likes': 13,\n",
       " u'lot': 14,\n",
       " u'perform': 15,\n",
       " u'practice': 16,\n",
       " u'pressure': 17,\n",
       " u'professionals': 18,\n",
       " u'say': 19,\n",
       " u'school': 20,\n",
       " u'spends': 21,\n",
       " u'suggest': 22,\n",
       " u'tension': 23,\n",
       " u'time': 24}"
      ]
     },
     "execution_count": 6,
     "metadata": {},
     "output_type": "execute_result"
    }
   ],
   "source": [
    "vectorizer.vocabulary_"
   ]
  },
  {
   "cell_type": "code",
   "execution_count": 7,
   "metadata": {
    "collapsed": false
   },
   "outputs": [
    {
     "data": {
      "text/plain": [
       "[u'baseball',\n",
       " u'better',\n",
       " u'blood',\n",
       " u'brocolli',\n",
       " u'cause',\n",
       " u'drive',\n",
       " u'driving',\n",
       " u'eat',\n",
       " u'experts',\n",
       " u'feel',\n",
       " u'good',\n",
       " u'health',\n",
       " u'increased',\n",
       " u'likes',\n",
       " u'lot',\n",
       " u'perform',\n",
       " u'practice',\n",
       " u'pressure',\n",
       " u'professionals',\n",
       " u'say',\n",
       " u'school',\n",
       " u'spends',\n",
       " u'suggest',\n",
       " u'tension',\n",
       " u'time']"
      ]
     },
     "execution_count": 7,
     "metadata": {},
     "output_type": "execute_result"
    }
   ],
   "source": [
    "vectorizer.get_feature_names()"
   ]
  },
  {
   "cell_type": "markdown",
   "metadata": {},
   "source": [
    "### 5. Get counts of tokens.\n",
    "\n",
    "Convert the matrix from the vectorizer to a dense matrix, then sum by column to get the counts per term."
   ]
  },
  {
   "cell_type": "code",
   "execution_count": 8,
   "metadata": {
    "collapsed": false
   },
   "outputs": [
    {
     "data": {
      "text/plain": [
       "baseball         1\n",
       "better           1\n",
       "blood            1\n",
       "brocolli         3\n",
       "cause            1\n",
       "drive            1\n",
       "driving          2\n",
       "eat              2\n",
       "experts          1\n",
       "feel             1\n",
       "good             3\n",
       "health           3\n",
       "increased        1\n",
       "likes            1\n",
       "lot              1\n",
       "perform          1\n",
       "practice         1\n",
       "pressure         2\n",
       "professionals    1\n",
       "say              1\n",
       "school           1\n",
       "spends           1\n",
       "suggest          1\n",
       "tension          1\n",
       "time             1\n",
       "dtype: int64"
      ]
     },
     "execution_count": 8,
     "metadata": {},
     "output_type": "execute_result"
    }
   ],
   "source": [
    "docs = pd.DataFrame(X.todense(), columns=vectorizer.get_feature_names())\n",
    "docs.sum()"
   ]
  },
  {
   "cell_type": "markdown",
   "metadata": {},
   "source": [
    "### 6. Setup the vocabulary dictionary\n",
    "\n",
    "First we need to setup the vocabulary.  Gensim's LDA expects our vocabulary to be in a format where the dictionary keys are the column indices and the values are the words themselves.\n",
    "\n",
    "Create this dictionary below."
   ]
  },
  {
   "cell_type": "code",
   "execution_count": 9,
   "metadata": {
    "collapsed": false
   },
   "outputs": [
    {
     "data": {
      "text/plain": [
       "{0: u'baseball',\n",
       " 1: u'better',\n",
       " 2: u'blood',\n",
       " 3: u'brocolli',\n",
       " 4: u'cause',\n",
       " 5: u'drive',\n",
       " 6: u'driving',\n",
       " 7: u'eat',\n",
       " 8: u'experts',\n",
       " 9: u'feel',\n",
       " 10: u'good',\n",
       " 11: u'health',\n",
       " 12: u'increased',\n",
       " 13: u'likes',\n",
       " 14: u'lot',\n",
       " 15: u'perform',\n",
       " 16: u'practice',\n",
       " 17: u'pressure',\n",
       " 18: u'professionals',\n",
       " 19: u'say',\n",
       " 20: u'school',\n",
       " 21: u'spends',\n",
       " 22: u'suggest',\n",
       " 23: u'tension',\n",
       " 24: u'time'}"
      ]
     },
     "execution_count": 9,
     "metadata": {},
     "output_type": "execute_result"
    }
   ],
   "source": [
    "# This is the fastest way to swap a dictionary key / value order.  \n",
    "# This is the format gensim LDA expects it's vocabulary.\n",
    "vocab = {v: k for k, v in vectorizer.vocabulary_.iteritems()}\n",
    "vocab"
   ]
  },
  {
   "cell_type": "markdown",
   "metadata": {},
   "source": [
    "### 7. Create a token to id mapping with gensim's `corpora.Dictionary`\n",
    "\n",
    "This dictionary class is a more standard way to work with with gensim models. There are a few standard steps we should go through:\n",
    "\n",
    "**7.1. Count the frequency of words.**\n",
    "\n",
    "We can do this easily with the python `defaultdict(int)`, which doesn't require us to already have the key in the dictionary to be able to add to it:\n",
    "\n",
    "```python\n",
    "frequency = defaultdict(int)\n",
    "\n",
    "for text in documents:\n",
    "    for token in text.split():\n",
    "        frequency[token] += 1\n",
    "```\n",
    "\n",
    "\n"
   ]
  },
  {
   "cell_type": "code",
   "execution_count": 11,
   "metadata": {
    "collapsed": false
   },
   "outputs": [
    {
     "data": {
      "text/plain": [
       "defaultdict(int,\n",
       "            {'Brocolli': 1,\n",
       "             'Health': 1,\n",
       "             'I': 1,\n",
       "             'My': 2,\n",
       "             'Some': 1,\n",
       "             'a': 1,\n",
       "             'and': 1,\n",
       "             'around': 1,\n",
       "             'at': 1,\n",
       "             'baseball': 1,\n",
       "             'better.': 1,\n",
       "             'blood': 1,\n",
       "             'brocolli': 1,\n",
       "             'brocolli,': 1,\n",
       "             'brother': 3,\n",
       "             'but': 2,\n",
       "             'cause': 1,\n",
       "             'do': 1,\n",
       "             'drive': 1,\n",
       "             'driving': 2,\n",
       "             'eat': 1,\n",
       "             'eat.': 1,\n",
       "             'experts': 1,\n",
       "             'feel': 1,\n",
       "             'for': 1,\n",
       "             'good': 3,\n",
       "             'health': 1,\n",
       "             'health.': 1,\n",
       "             'increased': 1,\n",
       "             'is': 2,\n",
       "             'likes': 1,\n",
       "             'lot': 1,\n",
       "             'may': 1,\n",
       "             'mother': 2,\n",
       "             'mother.': 1,\n",
       "             'my': 4,\n",
       "             'never': 1,\n",
       "             'not': 1,\n",
       "             'of': 1,\n",
       "             'often': 1,\n",
       "             'perform': 1,\n",
       "             'practice.': 1,\n",
       "             'pressure': 1,\n",
       "             'pressure.': 1,\n",
       "             'professionals': 1,\n",
       "             'say': 1,\n",
       "             'school,': 1,\n",
       "             'seems': 1,\n",
       "             'spends': 1,\n",
       "             'suggest': 1,\n",
       "             'tension': 1,\n",
       "             'that': 2,\n",
       "             'time': 1,\n",
       "             'to': 6,\n",
       "             'well': 1,\n",
       "             'your': 1})"
      ]
     },
     "execution_count": 11,
     "metadata": {},
     "output_type": "execute_result"
    }
   ],
   "source": [
    "frequency = defaultdict(int)\n",
    "\n",
    "for text in documents:\n",
    "    for token in text.split():\n",
    "        frequency[token] += 1\n",
    "        \n",
    "frequency"
   ]
  },
  {
   "cell_type": "markdown",
   "metadata": {},
   "source": [
    "**7.2 Remove any words that only appear once, or appear in the stopwords.**\n",
    "\n",
    "Iterate through the documents and only keep useful words/tokens."
   ]
  },
  {
   "cell_type": "code",
   "execution_count": 13,
   "metadata": {
    "collapsed": false
   },
   "outputs": [
    {
     "data": {
      "text/plain": [
       "[['good', 'My', 'brother', 'good'],\n",
       " ['My', 'mother', 'driving', 'brother'],\n",
       " ['driving'],\n",
       " ['mother', 'brother'],\n",
       " ['good']]"
      ]
     },
     "execution_count": 13,
     "metadata": {},
     "output_type": "execute_result"
    }
   ],
   "source": [
    "texts = [[token for token in text.split() if frequency[token] > 1 and token not in nltk_stops]\n",
    "          for text in documents]\n",
    "\n",
    "texts"
   ]
  },
  {
   "cell_type": "markdown",
   "metadata": {},
   "source": [
    "**7.3 Create the `corpora.Dictionary` object with the retained tokens.**"
   ]
  },
  {
   "cell_type": "code",
   "execution_count": 14,
   "metadata": {
    "collapsed": false
   },
   "outputs": [
    {
     "data": {
      "text/plain": [
       "<gensim.corpora.dictionary.Dictionary at 0x1174a2d10>"
      ]
     },
     "execution_count": 14,
     "metadata": {},
     "output_type": "execute_result"
    }
   ],
   "source": [
    "# Create gensim dictionary object\n",
    "dictionary = corpora.Dictionary(texts)\n",
    "dictionary"
   ]
  },
  {
   "cell_type": "markdown",
   "metadata": {},
   "source": [
    "**7.4 Use the `dictionary.doc2bow()` function to convert the texts to bag-of-word representations.**"
   ]
  },
  {
   "cell_type": "code",
   "execution_count": 15,
   "metadata": {
    "collapsed": false
   },
   "outputs": [
    {
     "data": {
      "text/plain": [
       "[[(0, 2), (1, 1), (2, 1)],\n",
       " [(1, 1), (2, 1), (3, 1), (4, 1)],\n",
       " [(3, 1)],\n",
       " [(2, 1), (4, 1)],\n",
       " [(0, 1)]]"
      ]
     },
     "execution_count": 15,
     "metadata": {},
     "output_type": "execute_result"
    }
   ],
   "source": [
    "# Create corpus matrix\n",
    "corpus = [dictionary.doc2bow(text) for text in texts]\n",
    "corpus"
   ]
  },
  {
   "cell_type": "markdown",
   "metadata": {},
   "source": [
    "**Why should we use this process?**\n",
    "\n",
    "The main advantage is that this dictionary object has quick helper functions.\n",
    "\n",
    "However, there are also some major performance advantages if you ever want to save your model to a file, then load it at a later time.  Tokenizations can take a while to be computed, especially when your text files are quite large. You can save these post-computed dictionary items to file, then load them from disk later which is quite a bit faster.  Also, it's possible to add new documents to your corpus without having to re-tokenize your entire set.  This is great for online systems that can take new documents on demmand.  \n",
    "\n",
    "As you work with larger datasets with text, this is a much better way to handle LDA and other Gensim models from a performance point of view."
   ]
  },
  {
   "cell_type": "markdown",
   "metadata": {},
   "source": [
    "### 8. Set up the LDA model\n",
    "\n",
    "We can create the gensim LDA model object like so:\n",
    "\n",
    "```python\n",
    "lda = models.LdaModel(\n",
    "    # supply our sparse predictor matrix wrapped in a matutils.Sparse2Corpus object\n",
    "    matutils.Sparse2Corpus(X, documents_columns=False),\n",
    "    # or alternatively use the corpus object created with the dictionary in the previous frame!\n",
    "    # corpus,\n",
    "    # The number of topics we want:\n",
    "    num_topics  =  3,\n",
    "    # how many passes over the vocabulary:\n",
    "    passes      =  20,\n",
    "    # The id2word vocabulary we made ourselves\n",
    "    id2word     =  vocab\n",
    "    # or use the gensim dictionary object!\n",
    "    # id2word     =  dictionary\n",
    ")\n",
    "```"
   ]
  },
  {
   "cell_type": "code",
   "execution_count": 16,
   "metadata": {
    "collapsed": true
   },
   "outputs": [],
   "source": [
    "lda = models.LdaModel(\n",
    "    matutils.Sparse2Corpus(X, documents_columns=False),\n",
    "    num_topics  =  3,\n",
    "    passes      =  20,\n",
    "    id2word     =  vocab\n",
    ")"
   ]
  },
  {
   "cell_type": "markdown",
   "metadata": {},
   "source": [
    "### 9. Look at the topics\n",
    "\n",
    "The model has a `.print_topics` function that accepts the number of topics to print and number of words per topic. The number before the word is the probability of occurance for that word in the topic."
   ]
  },
  {
   "cell_type": "code",
   "execution_count": 18,
   "metadata": {
    "collapsed": false
   },
   "outputs": [
    {
     "data": {
      "text/plain": [
       "[(0,\n",
       "  u'0.093*pressure + 0.093*perform + 0.093*drive + 0.093*school + 0.093*feel'),\n",
       " (1, u'0.156*good + 0.156*brocolli + 0.110*health + 0.109*eat + 0.062*likes'),\n",
       " (2,\n",
       "  u'0.100*driving + 0.057*tension + 0.057*suggest + 0.057*cause + 0.057*experts')]"
      ]
     },
     "execution_count": 18,
     "metadata": {},
     "output_type": "execute_result"
    }
   ],
   "source": [
    "lda.print_topics(num_topics=3, num_words=5)"
   ]
  },
  {
   "cell_type": "markdown",
   "metadata": {},
   "source": [
    "### 10. Get the topic scores for a document\n",
    "\n",
    "The `.get_document_topics` function accepts a bag-of-words representation for a document and returns the scores for each topic."
   ]
  },
  {
   "cell_type": "code",
   "execution_count": 21,
   "metadata": {
    "collapsed": false
   },
   "outputs": [
    {
     "data": {
      "text/plain": [
       "[(0, 0.16725301762611078), (1, 0.66572741047902195), (2, 0.16701957189486732)]"
      ]
     },
     "execution_count": 21,
     "metadata": {},
     "output_type": "execute_result"
    }
   ],
   "source": [
    "lda.get_document_topics(dictionary.doc2bow(texts[2]))"
   ]
  },
  {
   "cell_type": "markdown",
   "metadata": {},
   "source": [
    "### 11. Label and visualize the topics\n",
    "\n",
    "Lets come up with some high level labels. This is the subjective part of LDA. What do the word probabilties that represent topics mean?  Let's make some up.\n",
    "\n",
    "Plot a heatmap of the topic probabilities for each of the documents."
   ]
  },
  {
   "cell_type": "code",
   "execution_count": 22,
   "metadata": {
    "collapsed": true
   },
   "outputs": [],
   "source": [
    "topics_labels = {\n",
    "   0: \"Family Stress\",\n",
    "   1: \"Driving\",\n",
    "   2: \"Food\"\n",
    "}"
   ]
  },
  {
   "cell_type": "code",
   "execution_count": 25,
   "metadata": {
    "collapsed": false
   },
   "outputs": [
    {
     "data": {
      "text/plain": [
       "document_id  topic        \n",
       "0            Driving          0.067495\n",
       "             Family Stress    0.262425\n",
       "             Food             0.670080\n",
       "1            Driving          0.273550\n",
       "             Family Stress    0.268529\n",
       "             Food             0.457921\n",
       "2            Driving          0.665728\n",
       "             Family Stress    0.167253\n",
       "             Food             0.167019\n",
       "3            Driving          0.111993\n",
       "             Family Stress    0.112465\n",
       "             Food             0.775541\n",
       "4            Driving          0.168073\n",
       "             Family Stress    0.168824\n",
       "             Food             0.663104\n",
       "Name: probability, dtype: float64"
      ]
     },
     "execution_count": 25,
     "metadata": {},
     "output_type": "execute_result"
    }
   ],
   "source": [
    "doc_topics = [lda.get_document_topics(doc) for doc in corpus]\n",
    "\n",
    "topic_data = []\n",
    "\n",
    "for document_id, topics in enumerate(doc_topics):\n",
    "    \n",
    "    document_topics = []\n",
    "    \n",
    "    for topic, probability in topics:\n",
    "       \n",
    "        topic_data.append({\n",
    "            'document_id':  document_id,\n",
    "            'topic_id':     topic,\n",
    "            'topic':        topics_labels[topic],\n",
    "            'probability':  probability\n",
    "        })\n",
    "\n",
    "topics_df = pd.DataFrame(topic_data)\n",
    "topics_df.pivot_table(values=\"probability\", index=[\"document_id\", \"topic\"]).T"
   ]
  },
  {
   "cell_type": "code",
   "execution_count": 23,
   "metadata": {
    "collapsed": true
   },
   "outputs": [],
   "source": [
    "%matplotlib inline"
   ]
  },
  {
   "cell_type": "code",
   "execution_count": 24,
   "metadata": {
    "collapsed": false
   },
   "outputs": [
    {
     "data": {
      "text/plain": [
       "<matplotlib.axes._subplots.AxesSubplot at 0x118477990>"
      ]
     },
     "execution_count": 24,
     "metadata": {},
     "output_type": "execute_result"
    },
    {
     "data": {
      "image/png": "[encoded data removed]",
      "text/plain": [
       "<matplotlib.figure.Figure at 0x118477190>"
      ]
     },
     "metadata": {},
     "output_type": "display_data"
    }
   ],
   "source": [
    "import seaborn as sns\n",
    "\n",
    "doc_topics = [lda.get_document_topics(doc) for doc in corpus]\n",
    "\n",
    "doc_topic_probabilities = []\n",
    "\n",
    "for document in doc_topics:\n",
    "    \n",
    "    single_document = []\n",
    "    \n",
    "    for topic, probablity in document:\n",
    "        \n",
    "        single_document.append(probablity)\n",
    "        \n",
    "    doc_topic_probabilities.append(single_document)\n",
    "    \n",
    "docs_topics = pd.DataFrame(doc_topic_probabilities)\n",
    "sns.heatmap(docs_topics)\n"
   ]
  },
  {
   "cell_type": "markdown",
   "metadata": {},
   "source": [
    "### 12. Fit an LDA model with sklearn\n",
    "\n",
    "Sklearn's LDA model is in the decomposition submodule:\n",
    "\n",
    "```python\n",
    "from sklearn.decomposition import LatentDirichletAllocation\n",
    "```\n",
    "\n",
    "One of the greatest benefits of the sklearn implementation is that it comes with the familiar `.fit()`, `.transform()` and `.fit_transform()` methods.\n",
    "\n",
    "**12.1 Initialize and fit an sklearn LDA with `n_topics=3` on our output from the CountVectorizer.**"
   ]
  },
  {
   "cell_type": "code",
   "execution_count": 27,
   "metadata": {
    "collapsed": false
   },
   "outputs": [
    {
     "name": "stderr",
     "output_type": "stream",
     "text": [
      "//anaconda/lib/python2.7/site-packages/sklearn/decomposition/online_lda.py:508: DeprecationWarning: The default value for 'learning_method' will be changed from 'online' to 'batch' in the release 0.20. This warning was introduced in 0.18.\n",
      "  DeprecationWarning)\n"
     ]
    },
    {
     "data": {
      "text/plain": [
       "LatentDirichletAllocation(batch_size=128, doc_topic_prior=None,\n",
       "             evaluate_every=-1, learning_decay=0.7, learning_method=None,\n",
       "             learning_offset=10.0, max_doc_update_iter=100, max_iter=10,\n",
       "             mean_change_tol=0.001, n_jobs=1, n_topics=3, perp_tol=0.1,\n",
       "             random_state=None, topic_word_prior=None,\n",
       "             total_samples=1000000.0, verbose=0)"
      ]
     },
     "execution_count": 27,
     "metadata": {},
     "output_type": "execute_result"
    }
   ],
   "source": [
    "from sklearn.decomposition import LatentDirichletAllocation\n",
    "\n",
    "lda = LatentDirichletAllocation(n_topics=3)\n",
    "lda.fit(X)"
   ]
  },
  {
   "cell_type": "markdown",
   "metadata": {},
   "source": [
    "**12.2 Print out the topic-word distributions using the `.components_` attribute.**\n",
    "\n",
    "Each row of this matrix represents a topic, and the columns are the words. (These are not probabilities)."
   ]
  },
  {
   "cell_type": "code",
   "execution_count": 30,
   "metadata": {
    "collapsed": false
   },
   "outputs": [
    {
     "data": {
      "text/plain": [
       "array([[ 0.4686259 ,  1.28359537,  1.2695242 ,  0.45126442,  1.29628404,\n",
       "         1.28339283,  1.24262646,  0.46460671,  1.26800285,  1.24432761,\n",
       "         0.48331578,  1.26064164,  1.26550392,  0.48221946,  0.47786664,\n",
       "         1.22751348,  0.42398754,  2.09872276,  0.4617138 ,  0.45508956,\n",
       "         1.24187425,  0.47430803,  1.24181076,  1.23946787,  0.50433305],\n",
       "       [ 0.42171165,  0.44251846,  0.4335032 ,  2.83346157,  0.41743243,\n",
       "         0.42724243,  0.45708056,  2.06404518,  0.45796338,  0.53391681,\n",
       "         2.94132632,  2.0668106 ,  0.49442483,  1.25008998,  0.42392156,\n",
       "         0.48420376,  0.50375205,  0.47471725,  1.27635667,  1.27888661,\n",
       "         0.42394533,  0.47346115,  0.43471492,  0.45086331,  0.47528005],\n",
       "       [ 1.2381646 ,  0.42591884,  0.48193159,  0.47942542,  0.46027655,\n",
       "         0.4557511 ,  1.24809171,  0.4718105 ,  0.45047475,  0.46904498,\n",
       "         0.48925124,  0.4696807 ,  0.45321348,  0.43189098,  1.27584977,\n",
       "         0.44919413,  1.28123578,  0.45466396,  0.4241175 ,  0.48747429,\n",
       "         0.45099348,  1.28394932,  0.44536017,  0.47026073,  1.31041292]])"
      ]
     },
     "execution_count": 30,
     "metadata": {},
     "output_type": "execute_result"
    }
   ],
   "source": [
    "lda.components_"
   ]
  },
  {
   "cell_type": "markdown",
   "metadata": {},
   "source": [
    "**12.3 Use the `.transform()` method to convert the matrix into the topic scores.**\n",
    "\n",
    "These are the document-topic distributions."
   ]
  },
  {
   "cell_type": "code",
   "execution_count": 33,
   "metadata": {
    "collapsed": false
   },
   "outputs": [
    {
     "data": {
      "text/plain": [
       "array([[ 0.04205151,  0.91573086,  0.04221763],\n",
       "       [ 0.04900801,  0.04830734,  0.90268465],\n",
       "       [ 0.92968046,  0.03522627,  0.03509327],\n",
       "       [ 0.90252032,  0.04860767,  0.04887202],\n",
       "       [ 0.04914443,  0.90242855,  0.04842702]])"
      ]
     },
     "execution_count": 33,
     "metadata": {},
     "output_type": "execute_result"
    }
   ],
   "source": [
    "lda.transform(X)"
   ]
  },
  {
   "cell_type": "markdown",
   "metadata": {},
   "source": [
    "### 13. Further steps\n",
    "\n",
    "This has been a very basic example.  LDA typically doesn't perform well on very small datasets.  You should try to see how it behaves on your own using a larger text dataset.  Keep in mind: finding the optimal number of topics can be tricky and subjective.\n",
    "\n",
    "**Generally, you should consider:**\n",
    "- How well topics are applied to documents overall\n",
    "- The strength of topics overall, to all documents\n",
    "- Improving preprocessing such as stopword removal\n",
    "- Building a nice web interface to explore your documents (see: [LDAExplorer](https://github.com/dyerrington/LDAExplorer), and [pyLDAvis](https://github.com/bmabey/pyLDAvis/blob/master/README.rst))\n",
    "\n",
    "These general guidelines should help you tune your hyperparameter **K** for number of topics."
   ]
  },
  {
   "cell_type": "code",
   "execution_count": null,
   "metadata": {
    "collapsed": true
   },
   "outputs": [],
   "source": []
  }
 ],
 "metadata": {
  "kernelspec": {
   "display_name": "Python 2",
   "language": "python",
   "name": "python2"
  },
  "language_info": {
   "codemirror_mode": {
    "name": "ipython",
    "version": 2
   },
   "file_extension": ".py",
   "mimetype": "text/x-python",
   "name": "python",
   "nbconvert_exporter": "python",
   "pygments_lexer": "ipython2",
   "version": "2.7.12"
  }
 },
 "nbformat": 4,
 "nbformat_minor": 2
}
