{
 "cells": [
  {
   "cell_type": "markdown",
   "metadata": {},
   "source": [
    "A few weeks ago, the R community went through some handwringing about plotting packages.\n",
    "For outsiders (like me) the details aren't that important, but some brief background might be useful so we can transfer the takeaways to Python.\n",
    "The competing systems are \"base R\", which is the plotting system built into the language, and ggplot2, Hadley Wickham's implemntation of the grammar of graphics.\n",
    "For those interested in more details, checkout\n",
    "\n",
    "- http://simplystatistics.org/2016/02/11/why-i-dont-use-ggplot2/\n",
    "- http://varianceexplained.org/r/why-I-use-ggplot2/\n",
    "- http://flowingdata.com/2016/03/22/comparing-ggplot2-and-r-base-graphics/\n",
    "\n",
    "The most important takeaways, are that\n",
    "\n",
    "1. Either system is capable of producing anything the other can\n",
    "2. ggplot is usually better for exploratory analysis\n",
    "\n",
    "Item 2 is not universally agreed upon, and it certainly isn't true for every type of chart, but I'm going to use it as fact for now.\n",
    "\n",
    "I'm not foolish enough to attempt a formal analogy here, like matplotlib is python's base R.\n",
    "But there's at least a rough comparison:\n",
    "like ggplot2, the combination of pandas and seaborn allows for fast iteration and exploration. You can quickly explore a dataset and transformations of that dataset.\n",
    "When you need to, you can \"drop down\" into matplotlib for further refinement."
   ]
  },
  {
   "cell_type": "markdown",
   "metadata": {},
   "source": [
    "# Overview\n",
    "\n",
    "Here's a brief sketch of the plotting landscape as of April 2016.\n",
    "For some reason, plotting tools feel a bit more personal than other parts of this series so far, so I feel the need to blanket this who discussion in a cavet: this is my personal take, shaped by my personal background and tastes, on how to handle plotting in Python."
   ]
  },
  {
   "cell_type": "markdown",
   "metadata": {},
   "source": [
    "## [Matplotlib](http://matplotlib.org/)\n",
    "\n",
    "Matplotlib is an amazing project, and is the foundation of pandas' built-in plotting and Seaborn.\n",
    "Matplotlib handles everything from the actual drawing to the screen, to several APIs of various levels.\n",
    "I've found knowing the [pyplot api](http://matplotlib.org/api/pyplot_api.html) useful.\n",
    "You're less likely to need things like [Transforms](http://matplotlib.org/users/transforms_tutorial.html) or [artists](http://matplotlib.org/api/artist_api.html), but when you do the documentation is there.\n",
    "I'll typically start with a pandas or seaborn plot, and then make adjustments with the pyplot API.\n",
    "\n",
    "## [Pandas' builtin-plotting](http://pandas.pydata.org/pandas-docs/version/0.18.0/visualization.html)\n",
    "\n",
    "`DataFrame` and `Series` have a `.plot` namespace, with various chart types available (`line`, `hist`, `scatter`, etc.).\n",
    "Pandas objects additional metadata available that can be used to enhance plots (the Index for a better automatic x-axis then `range(n)` or Index names as axis labels for example).\n",
    "\n",
    "And since pandas had fewer backwards compatability constraints, it had a bit better default aesthetics, though matplotlib is addressing this in [matplotlib 2.0](http://matplotlib.org/style_changes.html).\n",
    "\n",
    "At this point, I see pandas `DataFrame.plot` as a useful exploratory tool for quick throwaway plots.\n",
    "\n",
    "## [Seaborn](https://stanford.edu/~mwaskom/software/seaborn/)\n",
    "\n",
    "[Seaborn](https://stanford.edu/~mwaskom/software/seaborn/), created by Michael Waskom, \"provides a high-level interface for drawing attractive statistical graphics.\" Seaborn gives a great API for quickly exploring different visual representations of your data. We'll be focusing on that today\n",
    "\n",
    "## [Bokeh](http://bokeh.pydata.org/en/latest/)\n",
    "\n",
    "[Bokeh](http://bokeh.pydata.org/en/latest/) is a (still under heavy development) visualiztion library that targets the browser.\n",
    "\n",
    "Like matplotlib, Bokeh has a few APIs at various levels of abstraction.\n",
    "They have a glyph API, which I suppose is most similar to matplotlib's Artists API, for drawing single or arrays of glpyhs (circles, rectangles, polygons, etc.).\n",
    "More recently they introduced a Charts API, for producing canned charts from data structures like dicts or DataFrames.\n",
    "\n",
    "## Other Libraries\n",
    "\n",
    "This is a (probably incomplete) list of other visualization libraries that I don't know enough about to comment on\n",
    "\n",
    "- [Lightning](http://lightning-viz.org/)\n",
    "- [HoloViews](http://holoviews.org/)\n",
    "- [Glueviz](http://www.glueviz.org/en/stable/)\n",
    "- [vispy](http://vispy.org/)\n",
    "- [bqplot](https://github.com/bloomberg/bqplot)"
   ]
  },
  {
   "cell_type": "markdown",
   "metadata": {},
   "source": [
    "# Examples"
   ]
  },
  {
   "cell_type": "markdown",
   "metadata": {},
   "source": [
    "We'll use the `diamonds` dataset from ggplot2.\n",
    "You could use Vincent Arelbundock's RDatasets to find it (`pd.read_csv('http://vincentarelbundock.github.io/Rdatasets/csv/ggplot2/diamonds.csv')`), but I wanted to checkout [feather](https://github.com/wesm/feather)."
   ]
  },
  {
   "cell_type": "code",
   "execution_count": null,
   "metadata": {
    "collapsed": true
   },
   "outputs": [],
   "source": [
    "%load_ext rpy2.ipython"
   ]
  },
  {
   "cell_type": "code",
   "execution_count": null,
   "metadata": {
    "collapsed": true
   },
   "outputs": [],
   "source": [
    "%%R\n",
    "suppressPackageStartupMessages(library(ggplot2))\n",
    "library(feather)\n",
    "write_feather(diamonds, 'diamonds.fthr')"
   ]
  },
  {
   "cell_type": "code",
   "execution_count": null,
   "metadata": {},
   "outputs": [],
   "source": [
    "import feather\n",
    "df = feather.read_dataframe('diamonds.fthr')\n",
    "df.head()"
   ]
  },
  {
   "cell_type": "code",
   "execution_count": null,
   "metadata": {},
   "outputs": [],
   "source": [
    "df.info()"
   ]
  },
  {
   "cell_type": "code",
   "execution_count": null,
   "metadata": {
    "collapsed": true
   },
   "outputs": [],
   "source": [
    "import bokeh.charts as bc\n",
    "import bokeh.plotting as bk"
   ]
  },
  {
   "cell_type": "code",
   "execution_count": null,
   "metadata": {
    "collapsed": true
   },
   "outputs": [],
   "source": [
    "from bokeh.plotting import figure\n",
    "from bokeh.embed import components"
   ]
  },
  {
   "cell_type": "markdown",
   "metadata": {},
   "source": [
    "Bokeh provides two APIs, a low-level glyph API and a higher-level Charts API."
   ]
  },
  {
   "cell_type": "code",
   "execution_count": null,
   "metadata": {
    "collapsed": true
   },
   "outputs": [],
   "source": [
    "fig = (df.assign(xy = df.x / df.y)\n",
    "         .sample(n=500)\n",
    "         .pipe(bc.Scatter, \"xy\", \"price\"))\n",
    "bk.show(fig)"
   ]
  },
  {
   "cell_type": "code",
   "execution_count": null,
   "metadata": {
    "collapsed": true
   },
   "outputs": [],
   "source": [
    "script, div = components(fig)"
   ]
  },
  {
   "cell_type": "code",
   "execution_count": null,
   "metadata": {
    "collapsed": true
   },
   "outputs": [],
   "source": [
    "with open('../content/images/script.js', 'w') as f:\n",
    "    f.write(script)\n",
    "    \n",
    "with open('../content/images/div.js', 'w') as f:\n",
    "    f.write(div)"
   ]
  },
  {
   "cell_type": "markdown",
   "metadata": {},
   "source": [
    "It's not clear to me where the scientific community will come down on Bokeh for exploratory analysis.\n",
    "The ability to share interactive graphics is compelling.\n",
    "Personally, I have a lot of intertia in matplotlib that I haven't switched to Bokeh for day-to-day exploratory analysis.\n",
    "\n",
    "I have greatly enjoyed Bokeh for building dashboards and [webapps](http://bokeh.pydata.org/en/latest/docs/user_guide/interaction.html) with bokeh server.\n",
    "It's still young, and I've hit [some rough edges](http://stackoverflow.com/questions/36610328/control-bokeh-plot-state-with-http-request).\n",
    "The Bokeh team is trying to bridge a tough space."
   ]
  },
  {
   "cell_type": "code",
   "execution_count": null,
   "metadata": {
    "collapsed": true
   },
   "outputs": [],
   "source": [
    "sns.set(context='talk', style='ticks')\n",
    "\n",
    "%matplotlib inline"
   ]
  },
  {
   "cell_type": "markdown",
   "metadata": {},
   "source": [
    "# Matplotlib"
   ]
  },
  {
   "cell_type": "markdown",
   "metadata": {},
   "source": [
    "Since it's relatively new, I should point out that matplotlib 1.5 added support for plotting labeled data."
   ]
  },
  {
   "cell_type": "code",
   "execution_count": null,
   "metadata": {},
   "outputs": [],
   "source": [
    "fig, ax = plt.subplots()\n",
    "\n",
    "ax.scatter(x='carat', y='depth', data=df, c='k', alpha=.15)\n",
    "plt.savefig('../content/images/mpl-scatter.png', transparent=True)"
   ]
  },
  {
   "cell_type": "markdown",
   "metadata": {},
   "source": [
    "This isn't limited to just `DataFrame`s.\n",
    "It supports anything that uses `__getitem__` (square-brackets) with string keys."
   ]
  },
  {
   "cell_type": "markdown",
   "metadata": {},
   "source": [
    "## Pandas Built-in Plotting"
   ]
  },
  {
   "cell_type": "markdown",
   "metadata": {},
   "source": [
    "The metadata in DataFrames gives a bit better defaults on plots."
   ]
  },
  {
   "cell_type": "code",
   "execution_count": null,
   "metadata": {},
   "outputs": [],
   "source": [
    "df.plot.scatter(x='carat', y='depth', c='k', alpha=.15)\n",
    "plt.tight_layout()\n",
    "plt.savefig('../content/images/pd-scatter.png', transparent=True)"
   ]
  },
  {
   "cell_type": "markdown",
   "metadata": {},
   "source": [
    "We get axis labels from the column names.\n",
    "Nothing major, just nice.\n",
    "\n",
    "Pandas can be more convienient for plotting a bunch of columns with a shared x-axis (the index)."
   ]
  },
  {
   "cell_type": "code",
   "execution_count": null,
   "metadata": {},
   "outputs": [],
   "source": [
    "from pandas_datareader import fred\n",
    "\n",
    "gdp = fred.FredReader(['GCEC96', 'GPDIC96'], start='2000-01-01').read()\n",
    "\n",
    "gdp.rename(columns={\"GCEC96\": \"Government Expenditure\",\n",
    "                    \"GPDIC96\": \"Private Investment\"}).plot(figsize=(12, 6))\n",
    "plt.tight_layout()\n",
    "plt.savefig('../content/images/vis-gdp.svg', transparent=True)"
   ]
  },
  {
   "cell_type": "markdown",
   "metadata": {},
   "source": [
    "## Seaborn"
   ]
  },
  {
   "cell_type": "markdown",
   "metadata": {},
   "source": [
    "The rest of this post will focus on seaborn, and why I think it's especially great for exploratory analysis.\n",
    "\n",
    "I would encourage you to read Seaborn's [introductory notes](https://stanford.edu/~mwaskom/software/seaborn/introduction.html#introduction) that lay its design philosophy and attempted goals. Some highlights:\n",
    "\n",
    "> Seaborn aims to make visualization a central part of exploring and understanding data.\n",
    "\n",
    "It does this through a consistent, understandable API.\n",
    "\n",
    "> The plotting functions try to do something useful when called with a minimal set of arguments, and they expose a number of customizable options through additional parameters.\n",
    " \n",
    "Which works great for exploratory analysis, with the option to turn that into something more complex if it looks promising.\n",
    "\n",
    "> Some of the functions plot directly into a matplotlib axes object, while others operate on an entire figure and produce plots with several panels.\n",
    "\n",
    "The fact that seaborn is built on matplotlib means that if you are familiar with the pyplot API, you're knowledge will still be useful."
   ]
  },
  {
   "cell_type": "markdown",
   "metadata": {},
   "source": [
    "Most seaborn plotting functions (one per chart-type) take a `x`, `y`, `hue`, and `data` arguments (not all are required or used, depending on the plot type). If you're working with DataFrames, you'll pass in strings referring to column names for `x` and `y`, and the DataFrame for `data`."
   ]
  },
  {
   "cell_type": "code",
   "execution_count": null,
   "metadata": {},
   "outputs": [],
   "source": [
    "sns.countplot(x='cut', data=df)\n",
    "sns.despine()\n",
    "plt.tight_layout()\n",
    "plt.savefig('../content/images/vis-countplot.svg', transparent=True)"
   ]
  },
  {
   "cell_type": "code",
   "execution_count": null,
   "metadata": {},
   "outputs": [],
   "source": [
    "sns.barplot(x='cut', y='price', data=df)\n",
    "sns.despine()\n",
    "plt.tight_layout()\n",
    "plt.savefig('../content/images/vis-barplot.svg', transparent=True)"
   ]
  },
  {
   "cell_type": "markdown",
   "metadata": {},
   "source": [
    "Bivariate relationships can easily be explored, either one at a time:"
   ]
  },
  {
   "cell_type": "code",
   "execution_count": null,
   "metadata": {},
   "outputs": [],
   "source": [
    "sns.jointplot(x='carat', y='price', data=df, size=8, alpha=.25,\n",
    "              color='k', marker='.')\n",
    "plt.tight_layout()\n",
    "plt.savefig('../content/images/vis-joinplot.png', transparent=True)"
   ]
  },
  {
   "cell_type": "markdown",
   "metadata": {},
   "source": [
    "Or many at once"
   ]
  },
  {
   "cell_type": "code",
   "execution_count": null,
   "metadata": {},
   "outputs": [],
   "source": [
    "g = sns.pairplot(df, hue='cut')\n",
    "plt.savefig('../content/images/vis-pairplot.png', transparent=True)"
   ]
  },
  {
   "cell_type": "markdown",
   "metadata": {},
   "source": [
    "`pairplot` is a concenince wrapper around `PairGrid`, and offers our first look at an important seaborn abstraction, the `Grid`. Seaborn `Grids` provide a link between matplolib `Figure`s with multiple `axes`, and features in your dataset.\n",
    "\n",
    "There are two main ways of interacting with grids. First, seaborn provides convience-wrapper functions like `pairplot`, that have good defaults for common tasks. If you need more flexibility, you can work with the `Grid` directly by mapping plotting functions over each axes."
   ]
  },
  {
   "cell_type": "code",
   "execution_count": null,
   "metadata": {
    "collapsed": true
   },
   "outputs": [],
   "source": [
    "x = df.select_dtypes(include=[np.number])"
   ]
  },
  {
   "cell_type": "code",
   "execution_count": null,
   "metadata": {},
   "outputs": [],
   "source": [
    "x[(x > x.quantile(.05)).all(1) & (x < x.quantile(.95)).all(1)]"
   ]
  },
  {
   "cell_type": "code",
   "execution_count": null,
   "metadata": {
    "collapsed": true
   },
   "outputs": [],
   "source": [
    "def core(df, α=.05):\n",
    "    mask = (df > df.quantile(α)).all(1) & (x < df.quantile(1 - α)).all(1)\n",
    "    return df[mask]"
   ]
  },
  {
   "cell_type": "code",
   "execution_count": null,
   "metadata": {},
   "outputs": [],
   "source": [
    "cmap = sns.cubehelix_palette(as_cmap=True, dark=0, light=1, reverse=True)\n",
    "\n",
    "(df.select_dtypes(include=[np.number])\n",
    "   .pipe(core)\n",
    "   .pipe(sns.PairGrid)\n",
    "   .map_upper(plt.scatter, marker='.', alpha=.25)\n",
    "   .map_diag(sns.kdeplot)\n",
    "   .map_lower(plt.hexbin, cmap=cmap, gridsize=20)\n",
    ")\n",
    "plt.savefig('../content/images/vis-pairgrid.png', transparent=True)"
   ]
  },
  {
   "cell_type": "markdown",
   "metadata": {},
   "source": [
    "`FacetGrid` is another class for producing `Grid`s, with control over how each facet (individual axes) gets determined. `PairGrid` is a special case of faceting by each `(x, y)` combination. In this next example, we'll facet by `cut`."
   ]
  },
  {
   "cell_type": "code",
   "execution_count": null,
   "metadata": {},
   "outputs": [],
   "source": [
    "g = sns.FacetGrid(df, row='cut', aspect=4, size=1.76, margin_titles=True)\n",
    "g.map(sns.kdeplot, 'price', shade=True, color='k')\n",
    "for ax in g.axes.flat:\n",
    "    ax.yaxis.set_visible(False)\n",
    "sns.despine(left=True)\n",
    "g.fig.subplots_adjust(hspace=0.1)\n",
    "g.set(xlim=(0, 15000))\n",
    "plt.savefig('../content/images/vis-kde-facet.svg', transparent=True);"
   ]
  },
  {
   "cell_type": "markdown",
   "metadata": {},
   "source": [
    "This last example shows the tight integration with matplotlib. `g.axes` is an array of `matplotlib.Axes` and `g.fig` is a `matplotlib.Figure`.\n",
    "This is a pretty common pattern when using seaborn: use a seaborn plotting method (or grid) to get a good start, and then adjust with matplotlib as needed."
   ]
  },
  {
   "cell_type": "markdown",
   "metadata": {},
   "source": [
    "I *think* (not an expert on this at all) that one thing people like about the grammar of graphics is its flexibility.\n",
    "You aren't limited to a fixed set of chart types defined by the library author.\n",
    "Instead, you construct your chart by layering scales, aesthetics and geometries.\n",
    "\n",
    "That said, I wouldn't really call what seaborn / matplotlib offer that limited.\n",
    "You can create pretty complex charts suited to your needs."
   ]
  },
  {
   "cell_type": "code",
   "execution_count": null,
   "metadata": {},
   "outputs": [],
   "source": [
    "agged = df.groupby(['cut', 'color']).mean().sort_index().reset_index()\n",
    "\n",
    "g = sns.PairGrid(agged, x_vars=agged.columns[2:], y_vars=['cut', 'color'],\n",
    "                 size=5, aspect=.65)\n",
    "g.map(sns.stripplot, orient=\"h\", size=10, palette='Blues_d')\n",
    "plt.tight_layout()\n",
    "plt.savefig('../content/images/facet-stripplot.svg', transparent=True)"
   ]
  },
  {
   "cell_type": "code",
   "execution_count": null,
   "metadata": {},
   "outputs": [],
   "source": [
    "g = sns.FacetGrid(df, col='color', hue='color', col_wrap=4)\n",
    "g.map(sns.regplot, 'carat', 'price')\n",
    "plt.savefig('../content/images/vis-factet-rag.png', transparent=True)"
   ]
  },
  {
   "cell_type": "markdown",
   "metadata": {},
   "source": [
    "Initially I had many more examples showing off seaborn, but I'll spare you.\n",
    "Seaborn's [documentation](https://stanford.edu/~mwaskom/software/seaborn/) is thorough (and just beautiful to look at).\n",
    "\n",
    "We'll end with a nice scikit-learn integration for exploring the parameter-space on a GridSearch object."
   ]
  },
  {
   "cell_type": "code",
   "execution_count": null,
   "metadata": {
    "collapsed": true
   },
   "outputs": [],
   "source": [
    "from sklearn.ensemble import RandomForestClassifier\n",
    "from sklearn.model_selection import GridSearchCV"
   ]
  },
  {
   "cell_type": "code",
   "execution_count": null,
   "metadata": {
    "collapsed": true
   },
   "outputs": [],
   "source": [
    "df = sns.load_dataset('titanic')\n",
    "\n",
    "clf = RandomForestClassifier()\n",
    "param_grid = dict(max_depth=[1, 2, 5, 10, 20, 30, 40],\n",
    "                  min_samples_split=[2, 5, 10],\n",
    "                  min_samples_leaf=[2, 3, 5])\n",
    "est = GridSearchCV(clf, param_grid=param_grid, n_jobs=4)\n",
    "\n",
    "y = df['survived']\n",
    "X = df.drop(['survived', 'who', 'alive'], axis=1)\n",
    "\n",
    "X = pd.get_dummies(X, drop_first=True)\n",
    "X = X.fillna(value=X.median())\n",
    "est.fit(X, y);\n"
   ]
  },
  {
   "cell_type": "code",
   "execution_count": null,
   "metadata": {
    "collapsed": true
   },
   "outputs": [],
   "source": [
    "scores = est.grid_scores_\n",
    "rows = []\n",
    "params = sorted(scores[0].parameters)\n",
    "for row in scores:\n",
    "    mean = row.mean_validation_score\n",
    "    std = row.cv_validation_scores.std()\n",
    "    rows.append([mean, std] + [row.parameters[k] for k in params])\n",
    "scores = pd.DataFrame(rows, columns=['mean_', 'std_'] + params)\n"
   ]
  },
  {
   "cell_type": "code",
   "execution_count": null,
   "metadata": {},
   "outputs": [],
   "source": [
    "sns.factorplot(x='max_depth', y='mean_', data=scores, col='min_samples_split',\n",
    "               hue='min_samples_leaf')\n",
    "plt.savefig('../content/images/vis-grid-search.svg', transparent=True)"
   ]
  }
 ],
 "metadata": {
  "kernelspec": {
   "display_name": "Python 3",
   "language": "python",
   "name": "python3"
  },
  "language_info": {
   "codemirror_mode": {
    "name": "ipython",
    "version": 3
   },
   "file_extension": ".py",
   "mimetype": "text/x-python",
   "name": "python",
   "nbconvert_exporter": "python",
   "pygments_lexer": "ipython3",
   "version": "3.5.2"
  }
 },
 "nbformat": 4,
 "nbformat_minor": 1
}
