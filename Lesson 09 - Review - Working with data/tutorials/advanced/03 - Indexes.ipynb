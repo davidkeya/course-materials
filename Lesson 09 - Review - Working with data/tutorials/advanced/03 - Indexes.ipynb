{
 "cells": [
  {
   "cell_type": "markdown",
   "metadata": {},
   "source": [
    "`Indexes` can be a difficult concept to grasp at first.\n",
    "I suspect this is partly becuase they're somewhat peculiar to pandas.\n",
    "These aren't like the indexes put on relational database tables for performance optimizations.\n",
    "Rather, they're more like the `row_labels` of an R DataFrame, but much more capable.\n",
    "\n",
    "`Indexes` offer\n",
    "\n",
    "- metadata container\n",
    "- easy label-based row selection\n",
    "- easy label-based alignment in operations\n",
    "- label-based concatenation\n",
    "\n",
    "To demonstrate these, we'll first fetch some more data.\n",
    "This will be weather data from sensors at a bunch of airports across the US.\n",
    "See [here](https://github.com/akrherz/iem/blob/master/scripts/asos/iem_scraper_example.py) for the example scraper I based this off of."
   ]
  },
  {
   "cell_type": "code",
   "execution_count": null,
   "metadata": {
    "collapsed": true
   },
   "outputs": [],
   "source": [
    "%matplotlib inline\n",
    "\n",
    "import json\n",
    "import glob\n",
    "import datetime\n",
    "from io import StringIO\n",
    "\n",
    "import requests\n",
    "import numpy as np\n",
    "import pandas as pd\n",
    "import seaborn as sns\n",
    "import matplotlib.pyplot as plt\n",
    "\n",
    "sns.set_style('ticks')\n",
    "\n",
    "# States are broken into networks. The networks have a list of ids, each representing a station.\n",
    "# We will take that list of ids and pass them as query parameters to the URL we built up ealier.\n",
    "states = \"\"\"AK AL AR AZ CA CO CT DE FL GA HI IA ID IL IN KS KY LA MA MD ME\n",
    " MI MN MO MS MT NC ND NE NH NJ NM NV NY OH OK OR PA RI SC SD TN TX UT VA VT\n",
    " WA WI WV WY\"\"\".split()\n",
    "\n",
    "# IEM has Iowa AWOS sites in its own labeled network\n",
    "networks = ['AWOS'] + ['{}_ASOS'.format(state) for state in states]"
   ]
  },
  {
   "cell_type": "code",
   "execution_count": null,
   "metadata": {
    "collapsed": true
   },
   "outputs": [],
   "source": [
    "def get_weather(stations, start=pd.Timestamp('2014-01-01'),\n",
    "                end=pd.Timestamp('2014-01-31')):\n",
    "    '''\n",
    "    Fetch weather data from MESONet between ``start`` and ``stop``.\n",
    "    '''\n",
    "    url = (\"http://mesonet.agron.iastate.edu/cgi-bin/request/asos.py?\"\n",
    "           \"&data=tmpf&data=relh&data=sped&data=mslp&data=p01i&data=vsby&data=gust_mph&data=skyc1&data=skyc2&data=skyc3\"\n",
    "           \"&tz=Etc/UTC&format=comma&latlon=no\"\n",
    "           \"&{start:year1=%Y&month1=%m&day1=%d}\"\n",
    "           \"&{end:year2=%Y&month2=%m&day2=%d}&{stations}\")\n",
    "    stations = \"&\".join(\"station=%s\" % s for s in stations)\n",
    "    weather = (pd.read_csv(url.format(start=start, end=end, stations=stations),\n",
    "                           comment=\"#\")\n",
    "                 .rename(columns={\"valid\": \"date\"})\n",
    "                 .rename(columns=str.strip)\n",
    "                 .assign(date=lambda df: pd.to_datetime(df['date']))\n",
    "                 .set_index([\"station\", \"date\"])\n",
    "                 .sort_index())\n",
    "    float_cols = ['tmpf', 'relh', 'sped', 'mslp', 'p01i', 'vsby', \"gust_mph\"]\n",
    "    weather[float_cols] = weather[float_cols].apply(pd.to_numeric, errors=\"corce\")\n",
    "    return weather"
   ]
  },
  {
   "cell_type": "code",
   "execution_count": null,
   "metadata": {
    "collapsed": true
   },
   "outputs": [],
   "source": [
    "def get_ids(network):\n",
    "    url = \"http://mesonet.agron.iastate.edu/geojson/network.php?network={}\"\n",
    "    r = requests.get(url.format(network))\n",
    "    md = pd.io.json.json_normalize(r.json()['features'])\n",
    "    md['network'] = network\n",
    "    return md"
   ]
  },
  {
   "cell_type": "markdown",
   "metadata": {},
   "source": [
    "Talk briefly about the gem of a method that is `json_normalize`."
   ]
  },
  {
   "cell_type": "code",
   "execution_count": null,
   "metadata": {
    "collapsed": true
   },
   "outputs": [],
   "source": [
    "url = \"http://mesonet.agron.iastate.edu/geojson/network.php?network={}\"\n",
    "r = requests.get(url.format(\"AWOS\"))\n",
    "js = r.json()"
   ]
  },
  {
   "cell_type": "code",
   "execution_count": null,
   "metadata": {},
   "outputs": [],
   "source": [
    "js['features'][:2]"
   ]
  },
  {
   "cell_type": "code",
   "execution_count": null,
   "metadata": {},
   "outputs": [],
   "source": [
    "pd.DataFrame(js['features']).head().to_html()"
   ]
  },
  {
   "cell_type": "markdown",
   "metadata": {},
   "source": [
    "[{'state': fl, 'counties': [arr]}]\n",
    "\n",
    "[{'geometry': {'coordinates': [-94.2723694444, 43.0796472222],"
   ]
  },
  {
   "cell_type": "code",
   "execution_count": null,
   "metadata": {},
   "outputs": [],
   "source": [
    "js['features'][0]"
   ]
  },
  {
   "cell_type": "code",
   "execution_count": null,
   "metadata": {},
   "outputs": [],
   "source": [
    "js['features']"
   ]
  },
  {
   "cell_type": "code",
   "execution_count": null,
   "metadata": {
    "collapsed": true
   },
   "outputs": [],
   "source": [
    "# pd.io.json.json_normalize?"
   ]
  },
  {
   "cell_type": "code",
   "execution_count": null,
   "metadata": {
    "collapsed": true
   },
   "outputs": [],
   "source": []
  },
  {
   "cell_type": "code",
   "execution_count": null,
   "metadata": {},
   "outputs": [],
   "source": [
    "stations = pd.io.json.json_normalize(js['features']).id\n",
    "url = (\"http://mesonet.agron.iastate.edu/cgi-bin/request/asos.py?\"\n",
    "       \"&data=tmpf&data=relh&data=sped&data=mslp&data=p01i&data=vsby&data=gust_mph&data=skyc1&data=skyc2&data=skyc3\"\n",
    "       \"&tz=Etc/UTC&format=comma&latlon=no\"\n",
    "       \"&{start:year1=%Y&month1=%m&day1=%d}\"\n",
    "       \"&{end:year2=%Y&month2=%m&day2=%d}&{stations}\")\n",
    "stations = \"&\".join(\"station=%s\" % s for s in stations)\n",
    "start = pd.Timestamp('2014-01-01')\n",
    "end=pd.Timestamp('2014-01-31')\n",
    "\n",
    "weather = (pd.read_csv(url.format(start=start, end=end, stations=stations),\n",
    "                       comment=\"#\"))"
   ]
  },
  {
   "cell_type": "code",
   "execution_count": null,
   "metadata": {},
   "outputs": [],
   "source": [
    "import os\n",
    "ids = pd.concat([get_ids(network) for network in networks], ignore_index=True)\n",
    "gr = ids.groupby('network')\n",
    "\n",
    "os.makedirs(\"weather\", exist_ok=True)\n",
    "\n",
    "for i, (k, v) in enumerate(gr):\n",
    "    print(\"{}/{}\".format(i, len(network)), end='\\r')\n",
    "    weather = get_weather(v['id'])\n",
    "    weather.to_csv(\"weather/{}.csv\".format(k))\n",
    "\n",
    "weather = pd.concat([\n",
    "    pd.read_csv(f, parse_dates='date', index_col=['station', 'date'])\n",
    "    for f in glob.glob('weather/*.csv')])\n",
    "\n",
    "weather.to_hdf(\"weather.h5\", \"weather\")"
   ]
  },
  {
   "cell_type": "code",
   "execution_count": null,
   "metadata": {},
   "outputs": [],
   "source": [
    "weather = pd.read_hdf(\"weather.h5\", \"weather\").sort_index()\n",
    "\n",
    "weather.head()"
   ]
  },
  {
   "cell_type": "markdown",
   "metadata": {},
   "source": [
    "OK, that was a bit of work. Here's a plot to reward ourselves."
   ]
  },
  {
   "cell_type": "code",
   "execution_count": null,
   "metadata": {
    "collapsed": true
   },
   "outputs": [],
   "source": [
    "airports = ['DSM', 'ORD', 'JFK', 'PDX']\n",
    "\n",
    "g = sns.FacetGrid(weather.sort_index().loc[airports].reset_index(),\n",
    "                  col='station', hue='station', col_wrap=2, size=4)\n",
    "g.map(sns.regplot, 'sped', 'gust_mph')\n",
    "plt.savefig('../content/images/indexes_wind_gust_facet.png');"
   ]
  },
  {
   "cell_type": "code",
   "execution_count": null,
   "metadata": {},
   "outputs": [],
   "source": [
    "airports = ['DSM', 'ORD', 'JFK', 'PDX']\n",
    "\n",
    "g = sns.FacetGrid(weather.sort_index().loc[airports].reset_index(),\n",
    "                  col='station', hue='station', col_wrap=2, size=4)\n",
    "g.map(sns.regplot, 'sped', 'gust_mph')\n",
    "plt.savefig('../content/images/indexes_wind_gust_facet.svg', transparent=True);"
   ]
  },
  {
   "cell_type": "markdown",
   "metadata": {},
   "source": [
    "# Set Operations"
   ]
  },
  {
   "cell_type": "markdown",
   "metadata": {},
   "source": [
    "Indexes are set-like (technically *multi*sets, since you can have duplicates), so they support most python `set` operations. Indexes are immutable so you won't find any of the inplace `set` operations.\n",
    "One other difference is that since `Index`es are also array like, you can't use some infix operators like `-` for `difference`. If you have a numeric index it is unclear whether you intend to perform math operations or set operations.\n",
    "You can use `&` for intersetion, `|` for union, and `^` for symmetric difference though, since there's no ambiguity.\n",
    "\n",
    "For example, lets find the set of airports that we have weather and flight information on. Since `weather` had a MultiIndex of `airport,datetime`, we'll use the `levels` attribute to get at the airport data, separate from the date data."
   ]
  },
  {
   "cell_type": "code",
   "execution_count": null,
   "metadata": {},
   "outputs": [],
   "source": [
    "# Bring in the flights data\n",
    "\n",
    "flights = pd.read_hdf('flights.h5', 'flights')\n",
    "\n",
    "weather_locs = weather.index.levels[0]\n",
    "# The `categories` attribute of a Categorical is an Index\n",
    "origin_locs = flights.origin.cat.categories\n",
    "dest_locs = flights.dest.cat.categories\n",
    "\n",
    "airports = weather_locs & origin_locs & dest_locs\n",
    "airports"
   ]
  },
  {
   "cell_type": "code",
   "execution_count": null,
   "metadata": {},
   "outputs": [],
   "source": [
    "print(\"Weather, no flights:\\n\\t\", weather_locs.difference(origin_locs | dest_locs), end='\\n\\n')\n",
    "\n",
    "print(\"Flights, no weather:\\n\\t\", (origin_locs | dest_locs).difference(weather_locs), end='\\n\\n')\n",
    "\n",
    "print(\"Dropped Stations:\\n\\t\", (origin_locs | dest_locs) ^ weather_locs)"
   ]
  },
  {
   "cell_type": "markdown",
   "metadata": {},
   "source": [
    "# Flavors\n",
    "\n",
    "Pandas has many subclasses of the regular `Index`, each tailored to a specific kind of data.\n",
    "Most of the time these will be created for you automatically, so you don't have to worry about which one to choose.\n",
    "\n",
    "1. [`Index`](http://pandas.pydata.org/pandas-docs/version/0.18.0/generated/pandas.Index.html#pandas.Index)\n",
    "2. `Int64Index`\n",
    "3. `RangeIndex` (Memory-saving special case of `Int64Index`)\n",
    "4. `FloatIndex`\n",
    "5. `DatetimeIndex`: Datetime64[ns] precision data\n",
    "6. `PeriodIndex`: Regularly-spaced, arbitrary precision datetime data.\n",
    "7. `TimedeltaIndex`: Timedelta data\n",
    "8. `CategoricalIndex`:\n",
    "\n",
    "Some of these are purely optimizations, others use information about the data to provide additional methods.\n",
    "And while sometimes you might work with indexes directly (like the set operations above), most of they time you'll be operating on a Series or DataFrame, which in turn makes use of its Index."
   ]
  },
  {
   "cell_type": "markdown",
   "metadata": {},
   "source": [
    "### Row Slicing\n",
    "We saw in part one that they're great for making *row* subsetting as easy as column subsetting."
   ]
  },
  {
   "cell_type": "code",
   "execution_count": null,
   "metadata": {},
   "outputs": [],
   "source": [
    "weather.loc['DSM'].head()"
   ]
  },
  {
   "cell_type": "markdown",
   "metadata": {},
   "source": [
    "Without indexes we'd probably resort to boolean masks."
   ]
  },
  {
   "cell_type": "code",
   "execution_count": null,
   "metadata": {},
   "outputs": [],
   "source": [
    "weather2 = weather.reset_index()\n",
    "weather2[weather2['station'] == 'DSM'].head()"
   ]
  },
  {
   "cell_type": "markdown",
   "metadata": {},
   "source": [
    "Slightly less convenient, but still doable."
   ]
  },
  {
   "cell_type": "markdown",
   "metadata": {},
   "source": [
    "### Indexes for Easier Arithmetic, Analysis"
   ]
  },
  {
   "cell_type": "markdown",
   "metadata": {},
   "source": [
    "It's nice to have your metadata (labels on each observation) next to you actual values. But if you store them in an array, they'll get in the way. Say we wanted to translate the farenheit temperature to celcius."
   ]
  },
  {
   "cell_type": "code",
   "execution_count": null,
   "metadata": {},
   "outputs": [],
   "source": [
    "# With indecies\n",
    "temp = weather['tmpf']\n",
    "\n",
    "c = (temp - 32) * 5 / 9\n",
    "c.to_frame()"
   ]
  },
  {
   "cell_type": "code",
   "execution_count": null,
   "metadata": {},
   "outputs": [],
   "source": [
    "# without\n",
    "temp2 = weather.reset_index()[['station', 'date', 'tmpf']]\n",
    "\n",
    "temp2['tmpf'] = (temp2['tmpf'] - 32) * 5 / 9\n",
    "temp2.head()"
   ]
  },
  {
   "cell_type": "markdown",
   "metadata": {},
   "source": [
    "Again, not terrible, but not as good.\n",
    "And, what if you had wanted to keep farenheit around as well, instead of overwriting it like we did?\n",
    "Then you'd need to make a copy of everything, including the `station` and `date` columns.\n",
    "We don't have that problem, since indexes are mutable and safely shared between DataFrames / Series."
   ]
  },
  {
   "cell_type": "code",
   "execution_count": null,
   "metadata": {},
   "outputs": [],
   "source": [
    "temp.index is c.index"
   ]
  },
  {
   "cell_type": "markdown",
   "metadata": {},
   "source": [
    "### Indexes for Alignment\n",
    "\n",
    "I've saved the best for last.\n",
    "Automatic alignment, or reindexing, is fundamental to pandas.\n",
    "\n",
    "All binary operations (add, multiply, etc...) between Series/DataFrames first *align* and then proceed."
   ]
  },
  {
   "cell_type": "markdown",
   "metadata": {},
   "source": [
    "Let's suppose we have hourly observations on temperature and windspeed.\n",
    "And suppose some of the observations were invalid, and not reported (simulated below by sampling from the full dataset). We'll assume the missing windspeed observations were potentially different from the missing temperature observations."
   ]
  },
  {
   "cell_type": "code",
   "execution_count": null,
   "metadata": {
    "collapsed": true
   },
   "outputs": [],
   "source": [
    "dsm = weather.loc['DSM']\n",
    "\n",
    "hourly = dsm.resample('H').mean()\n",
    "\n",
    "temp = hourly['tmpf'].sample(frac=.5, random_state=1).sort_index()\n",
    "sped = hourly['sped'].sample(frac=.5, random_state=2).sort_index()"
   ]
  },
  {
   "cell_type": "code",
   "execution_count": null,
   "metadata": {},
   "outputs": [],
   "source": [
    "temp.head().to_frame()"
   ]
  },
  {
   "cell_type": "code",
   "execution_count": null,
   "metadata": {},
   "outputs": [],
   "source": [
    "sped.head()"
   ]
  },
  {
   "cell_type": "markdown",
   "metadata": {},
   "source": [
    "Notice that the two indexes aren't identical.\n",
    "\n",
    "Suppose that the `windspeed : temperature` ratio is meaningful.\n",
    "When we go to compute that, pandas will automatically align the two by index label."
   ]
  },
  {
   "cell_type": "code",
   "execution_count": null,
   "metadata": {},
   "outputs": [],
   "source": [
    "sped / temp"
   ]
  },
  {
   "cell_type": "markdown",
   "metadata": {},
   "source": [
    "This lets you focus on doing the operation, rather than manually aligning things, ensuring that the arrays are the same length and in the same order.\n",
    "By deault, missing values are inserted where the two don't align.\n",
    "You can use the method version of any binary operation to specify a `fill_value`"
   ]
  },
  {
   "cell_type": "code",
   "execution_count": null,
   "metadata": {},
   "outputs": [],
   "source": [
    "sped.div(temp, fill_value=1)"
   ]
  },
  {
   "cell_type": "markdown",
   "metadata": {},
   "source": [
    "And since I couldn't find anywhere else to put it, you can control the axis the operation is aligned along as well."
   ]
  },
  {
   "cell_type": "code",
   "execution_count": null,
   "metadata": {},
   "outputs": [],
   "source": [
    "hourly.div(sped, axis='index')"
   ]
  },
  {
   "cell_type": "markdown",
   "metadata": {},
   "source": [
    "The non row-labeled version of this is messy."
   ]
  },
  {
   "cell_type": "code",
   "execution_count": null,
   "metadata": {},
   "outputs": [],
   "source": [
    "temp2 = temp.reset_index()\n",
    "sped2 = sped.reset_index()\n",
    "\n",
    "# Find rows where the operation is defined\n",
    "common_dates = pd.Index(temp2.date) & sped2.date\n",
    "pd.concat([\n",
    "    # concat to not lose date information\n",
    "    sped2.loc[sped2['date'].isin(common_dates), 'date'],\n",
    "    (sped2.loc[sped2.date.isin(common_dates), 'sped'] /\n",
    "     temp2.loc[temp2.date.isin(common_dates), 'tmpf'])],\n",
    "    axis=1).dropna(how='all')"
   ]
  },
  {
   "cell_type": "markdown",
   "metadata": {},
   "source": [
    "Yeah, I prefer the `temp / sped` version.\n",
    "\n",
    "Alignment isn't limited to arithmetic operations, although those are the most obvious and easiest to demonstrate."
   ]
  },
  {
   "cell_type": "markdown",
   "metadata": {},
   "source": [
    "# Merging\n",
    "\n",
    "There are two ways of merging DataFrames / Series in pandas\n",
    "\n",
    "1. Relational Database style with `pd.merge`\n",
    "2. Array style with `pd.concat`\n",
    "\n",
    "Personally, I think in terms of the `concat` style.\n",
    "I learned pandas before I ever really used SQL, so it comes more naturally to me I suppose.\n",
    "`pd.merge` has more flexibilty, though I think *most* of the time you don't need this flexibilty."
   ]
  },
  {
   "cell_type": "markdown",
   "metadata": {},
   "source": [
    "### Concat Version"
   ]
  },
  {
   "cell_type": "code",
   "execution_count": null,
   "metadata": {},
   "outputs": [],
   "source": [
    "pd.concat([temp, sped], axis=1).head()"
   ]
  },
  {
   "cell_type": "markdown",
   "metadata": {},
   "source": [
    "The `axis` parameter controls how the data should be stacked, `0` for vertically, `1` for horizontally.\n",
    "The `join` parameter controls the merge behavior on the shared axis, (the Index for `axis=1`). By default it's like a union of the two indexes, or an outer join."
   ]
  },
  {
   "cell_type": "code",
   "execution_count": null,
   "metadata": {},
   "outputs": [],
   "source": [
    "pd.concat([temp, sped], axis=1, join='inner')"
   ]
  },
  {
   "cell_type": "markdown",
   "metadata": {},
   "source": [
    "### Merge Version\n",
    "\n",
    "Since we're joining by index here the merge version is quite similar.\n",
    "We'll see an example later of a one-to-many join where the two differ."
   ]
  },
  {
   "cell_type": "code",
   "execution_count": null,
   "metadata": {},
   "outputs": [],
   "source": [
    "pd.merge(temp.to_frame(), sped.to_frame(), left_index=True, right_index=True).head()"
   ]
  },
  {
   "cell_type": "code",
   "execution_count": null,
   "metadata": {},
   "outputs": [],
   "source": [
    "pd.merge(temp.to_frame(), sped.to_frame(), left_index=True, right_index=True,\n",
    "         how='outer').head()"
   ]
  },
  {
   "cell_type": "markdown",
   "metadata": {},
   "source": [
    "Like I said, I typically prefer `concat` to `merge`.\n",
    "The exception here is one-to-many type joins. Let's walk through one of those,\n",
    "where we join the flight data to the weather data.\n",
    "To focus just on the merge, we'll aggregate hour weather data to be daily, rather than trying to find the closest recorded weather observation to each departure (you could do that, but it's not the focus right now). We'll then join the one `(airport, date)` record to the many `(airport, date, flight)` records."
   ]
  },
  {
   "cell_type": "markdown",
   "metadata": {},
   "source": [
    "Quick tangent, to get the weather data to daily frequency, we'll need to resample (more on that in the timeseries section). The resample essentially involves breaking the recorded values into daily buckets and computing the aggregation function on each bucket. The only wrinkle is that we have to resample *by station*, so we'll use the `pd.TimeGrouper` helper."
   ]
  },
  {
   "cell_type": "code",
   "execution_count": null,
   "metadata": {
    "collapsed": true
   },
   "outputs": [],
   "source": [
    "idx_cols = ['unique_carrier', 'origin', 'dest', 'tail_num', 'fl_num', 'fl_date']\n",
    "data_cols = ['crs_dep_time', 'dep_delay', 'crs_arr_time', 'arr_delay',\n",
    "             'taxi_out', 'taxi_in', 'wheels_off', 'wheels_on', 'distance']\n",
    "\n",
    "df = flights.set_index(idx_cols)[data_cols].sort_index()"
   ]
  },
  {
   "cell_type": "code",
   "execution_count": null,
   "metadata": {},
   "outputs": [],
   "source": [
    "def mode(x):\n",
    "    '''\n",
    "    Arbitrarily break ties.\n",
    "    '''\n",
    "    return x.value_counts().index[0]\n",
    "\n",
    "aggfuncs = {'tmpf': 'mean', 'relh': 'mean',\n",
    "            'sped': 'mean', 'mslp': 'mean',\n",
    "            'p01i': 'mean', 'vsby': 'mean',\n",
    "            'gust_mph': 'mean', 'skyc1': mode,\n",
    "            'skyc2': mode, 'skyc3': mode}\n",
    "# TimeGrouper works on a DatetimeIndex, so we move `station` to the\n",
    "# columns and then groupby it as well.\n",
    "daily = (weather.reset_index(level=\"station\")\n",
    "                .groupby([pd.TimeGrouper('1d'), \"station\"])\n",
    "                .agg(aggfuncs))\n",
    "\n",
    "daily.head()"
   ]
  },
  {
   "cell_type": "markdown",
   "metadata": {},
   "source": [
    "### The merge version"
   ]
  },
  {
   "cell_type": "code",
   "execution_count": null,
   "metadata": {},
   "outputs": [],
   "source": [
    "m = pd.merge(flights, daily.reset_index().rename(columns={'date': 'fl_date', 'station': 'origin'}),\n",
    "             on=['fl_date', 'origin']).set_index(idx_cols).sort_index()\n",
    "\n",
    "m.head()"
   ]
  },
  {
   "cell_type": "code",
   "execution_count": null,
   "metadata": {},
   "outputs": [],
   "source": [
    "m.sample(n=10000).pipe((sns.jointplot, 'data'), 'sped', 'dep_delay')\n",
    "plt.savefig('../content/images/indexes_sped_delay_join.svg', transparent=True)"
   ]
  },
  {
   "cell_type": "code",
   "execution_count": null,
   "metadata": {},
   "outputs": [],
   "source": [
    "m.groupby('skyc1').dep_delay.agg(['mean', 'count']).sort_values(by='mean')"
   ]
  },
  {
   "cell_type": "code",
   "execution_count": null,
   "metadata": {
    "collapsed": true
   },
   "outputs": [],
   "source": [
    "import statsmodels.api as sm"
   ]
  },
  {
   "cell_type": "code",
   "execution_count": null,
   "metadata": {},
   "outputs": [],
   "source": [
    "mod = sm.OLS.from_formula('dep_delay ~ C(skyc1) + distance + tmpf + relh + sped + mslp', data=m)\n",
    "res = mod.fit()\n",
    "res.summary()"
   ]
  },
  {
   "cell_type": "code",
   "execution_count": null,
   "metadata": {},
   "outputs": [],
   "source": [
    "fig, ax = plt.subplots()\n",
    "ax.scatter(res.fittedvalues, res.resid, color='k', marker='.', alpha=.25)\n",
    "ax.set(xlabel='Predicted', ylabel='Residual')\n",
    "sns.despine()\n",
    "plt.savefig('../content/images/indexes_resid_fit.png', transparent=True)"
   ]
  },
  {
   "cell_type": "code",
   "execution_count": null,
   "metadata": {},
   "outputs": [],
   "source": [
    "weather.head()"
   ]
  },
  {
   "cell_type": "code",
   "execution_count": null,
   "metadata": {
    "collapsed": true
   },
   "outputs": [],
   "source": [
    "import numpy as np\n",
    "import pandas as pd\n",
    "\n",
    "\n",
    "def read(fp):\n",
    "    df = (pd.read_csv(fp)\n",
    "            .rename(columns=str.lower)\n",
    "            .drop('unnamed: 36', axis=1)\n",
    "            .pipe(extract_city_name)\n",
    "            .pipe(time_to_datetime, ['dep_time', 'arr_time', 'crs_arr_time', 'crs_dep_time'])\n",
    "            .assign(fl_date=lambda x: pd.to_datetime(x['fl_date']),\n",
    "                    dest=lambda x: pd.Categorical(x['dest']),\n",
    "                    origin=lambda x: pd.Categorical(x['origin']),\n",
    "                    tail_num=lambda x: pd.Categorical(x['tail_num']),\n",
    "                    unique_carrier=lambda x: pd.Categorical(x['unique_carrier']),\n",
    "                    cancellation_code=lambda x: pd.Categorical(x['cancellation_code'])))\n",
    "    return df\n",
    "\n",
    "def extract_city_name(df):\n",
    "    '''\n",
    "    Chicago, IL -> Chicago for origin_city_name and dest_city_name\n",
    "    '''\n",
    "    cols = ['origin_city_name', 'dest_city_name']\n",
    "    city = df[cols].apply(lambda x: x.str.extract(\"(.*), \\w{2}\", expand=False))\n",
    "    df = df.copy()\n",
    "    df[['origin_city_name', 'dest_city_name']] = city\n",
    "    return df\n",
    "\n",
    "def time_to_datetime(df, columns):\n",
    "    '''\n",
    "    Combine all time items into datetimes.\n",
    "    \n",
    "    2014-01-01,0914 -> 2014-01-01 09:14:00\n",
    "    '''\n",
    "    df = df.copy()\n",
    "    def converter(col):\n",
    "        timepart = (col.astype(str)\n",
    "                       .str.replace('\\.0$', '')  # NaNs force float dtype\n",
    "                       .str.pad(4, fillchar='0'))\n",
    "        return  pd.to_datetime(df['fl_date'] + ' ' +\n",
    "                               timepart.str.slice(0, 2) + ':' +\n",
    "                               timepart.str.slice(2, 4),\n",
    "                               errors='coerce')\n",
    "        return datetime_part\n",
    "    df[columns] = df[columns].apply(converter)\n",
    "    return df\n",
    "\n",
    "\n",
    "flights = read(\"878167309_T_ONTIME.csv\")"
   ]
  },
  {
   "cell_type": "code",
   "execution_count": null,
   "metadata": {
    "collapsed": true
   },
   "outputs": [],
   "source": [
    "locs = weather.index.levels[0] & flights.origin.unique()"
   ]
  },
  {
   "cell_type": "code",
   "execution_count": null,
   "metadata": {},
   "outputs": [],
   "source": [
    "(weather.reset_index(level='station')\n",
    " .query('station in @locs')\n",
    " .groupby(['station', pd.TimeGrouper('H')])).mean()"
   ]
  },
  {
   "cell_type": "code",
   "execution_count": null,
   "metadata": {
    "collapsed": true
   },
   "outputs": [],
   "source": [
    "df = (flights.copy()[['unique_carrier', 'tail_num', 'origin', 'dep_time']]\n",
    "      .query('origin in @locs'))"
   ]
  },
  {
   "cell_type": "code",
   "execution_count": null,
   "metadata": {
    "collapsed": true
   },
   "outputs": [],
   "source": []
  },
  {
   "cell_type": "code",
   "execution_count": null,
   "metadata": {},
   "outputs": [],
   "source": [
    "weather.loc['DSM']"
   ]
  },
  {
   "cell_type": "code",
   "execution_count": null,
   "metadata": {},
   "outputs": [],
   "source": [
    "df = df"
   ]
  },
  {
   "cell_type": "code",
   "execution_count": null,
   "metadata": {},
   "outputs": [],
   "source": [
    "dep.head()"
   ]
  },
  {
   "cell_type": "code",
   "execution_count": null,
   "metadata": {},
   "outputs": [],
   "source": [
    "flights.dep_time"
   ]
  },
  {
   "cell_type": "code",
   "execution_count": null,
   "metadata": {},
   "outputs": [],
   "source": [
    "flights.dep_time.unique()"
   ]
  },
  {
   "cell_type": "code",
   "execution_count": null,
   "metadata": {
    "collapsed": true
   },
   "outputs": [],
   "source": [
    "stations"
   ]
  },
  {
   "cell_type": "code",
   "execution_count": null,
   "metadata": {},
   "outputs": [],
   "source": [
    "flights.dep_time.head()"
   ]
  },
  {
   "cell_type": "code",
   "execution_count": null,
   "metadata": {
    "collapsed": true
   },
   "outputs": [],
   "source": []
  }
 ],
 "metadata": {
  "kernelspec": {
   "display_name": "Python 3",
   "language": "python",
   "name": "python3"
  },
  "language_info": {
   "codemirror_mode": {
    "name": "ipython",
    "version": 3
   },
   "file_extension": ".py",
   "mimetype": "text/x-python",
   "name": "python",
   "nbconvert_exporter": "python",
   "pygments_lexer": "ipython3",
   "version": "3.5.2"
  }
 },
 "nbformat": 4,
 "nbformat_minor": 1
}
