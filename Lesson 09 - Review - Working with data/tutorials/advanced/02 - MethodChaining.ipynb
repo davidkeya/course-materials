{
 "cells": [
  {
   "cell_type": "markdown",
   "metadata": {},
   "source": [
    "*Author's Note*\n",
    "\n",
    "Good news everyone, Wes has announced a 2nd edition of *Python for Data Analysis*.\n",
    "\n",
    "<blockquote class=\"twitter-tweet\" data-lang=\"en\"><p lang=\"en\" dir=\"ltr\">Dear Twitter friends: I have started the process of writing the 2nd edition of Python for Data Analysis -- coming late 2016 or early 2017!</p>&mdash; Wes McKinney (@wesmckinn) <a href=\"https://twitter.com/wesmckinn/status/715320179173888001\">March 30, 2016</a></blockquote> <script async src=\"//platform.twitter.com/widgets.js\" charset=\"utf-8\"></script>\n",
    "\n",
    "This book.\n",
    "\n",
    "\n",
    "Part of the reason I started out this series was because..."
   ]
  },
  {
   "cell_type": "markdown",
   "metadata": {},
   "source": [
    "Method chaining is in style at the moment.\n",
    "\n",
    "Over the past several releases, we've added methods that enable method chaining.\n",
    "\n",
    "- [assign](http://pandas.pydata.org/pandas-docs/stable/generated/pandas.DataFrame.assign.html) (0.16.0): For adding new columns to a DataFrame in a chain (inspired by dplyr's `mutate`)\n",
    "- [pipe](http://pandas.pydata.org/pandas-docs/stable/generated/pandas.DataFrame.pipe.html) (0.16.2): For including user-defined methods in method chains.\n",
    "- [rename](http://pandas.pydata.org/pandas-docs/version/0.18.0/whatsnew.html#changes-to-rename) (0.18.0): For altering axis names (in additional to changing the actual labels as before).\n",
    "- [Window methods](http://pandas.pydata.org/pandas-docs/version/0.18.0/whatsnew.html#window-functions-are-now-methods) (0.18): Took the top-level `pd.rolling_*` and `pd.expanding_*` functions and made them NDFrame methods with a `groupby`-like API."
   ]
  },
  {
   "cell_type": "markdown",
   "metadata": {},
   "source": [
    "My scripts will typically start off with largeish change at the start getting things into a managable state. It's nice to have all that munging done with. To get your data into a nice and tidy state, where you can start to do Science."
   ]
  },
  {
   "cell_type": "code",
   "execution_count": 7,
   "metadata": {
    "collapsed": true
   },
   "outputs": [],
   "source": [
    "import numpy as np\n",
    "import pandas as pd\n",
    "\n",
    "\n",
    "def read(fp):\n",
    "    df = (pd.read_csv(fp)\n",
    "            .rename(columns=str.lower)\n",
    "            .drop('unnamed: 36', axis=1)\n",
    "            .pipe(extract_city_name)\n",
    "            .pipe(time_to_datetime, ['dep_time', 'arr_time', 'crs_arr_time', 'crs_dep_time'])\n",
    "            .assign(fl_date=lambda x: pd.to_datetime(x['fl_date']),\n",
    "                    dest=lambda x: pd.Categorical(x['dest']),\n",
    "                    origin=lambda x: pd.Categorical(x['origin']),\n",
    "                    tail_num=lambda x: pd.Categorical(x['tail_num']),\n",
    "                    unique_carrier=lambda x: pd.Categorical(x['unique_carrier']),\n",
    "                    cancellation_code=lambda x: pd.Categorical(x['cancellation_code'])))\n",
    "    return df\n",
    "\n",
    "def extract_city_name(df):\n",
    "    '''\n",
    "    Chicago, IL -> Chicago for origin_city_name and dest_city_name\n",
    "    '''\n",
    "    cols = ['origin_city_name', 'dest_city_name']\n",
    "    city = df[cols].apply(lambda x: x.str.extract(\"(.*), \\w{2}\", expand=False))\n",
    "    df = df.copy()\n",
    "    df[['origin_city_name', 'dest_city_name']] = city\n",
    "    return df\n",
    "\n",
    "def time_to_datetime(df, columns):\n",
    "    '''\n",
    "    Combine all time items into datetimes.\n",
    "    \n",
    "    2014-01-01,0914 -> 2014-01-01 09:14:00\n",
    "    '''\n",
    "    df = df.copy()\n",
    "    def converter(col):\n",
    "        timepart = (col.astype(str)\n",
    "                       .str.replace('\\.0$', '')  # NaNs force float dtype\n",
    "                       .str.pad(4, fillchar='0'))\n",
    "        return  pd.to_datetime(df['fl_date'] + ' ' +\n",
    "                               timepart.str.slice(0, 2) + ':' +\n",
    "                               timepart.str.slice(2, 4),\n",
    "                               errors='coerce')\n",
    "        return datetime_part\n",
    "    df[columns] = df[columns].apply(converter)\n",
    "    return df\n",
    "\n",
    "\n",
    "# df = read(\"878167309_T_ONTIME.csv\")\n",
    "# df.info()"
   ]
  },
  {
   "cell_type": "markdown",
   "metadata": {},
   "source": [
    "I find them readable, some people don't. Both the code and the flow of execution are top to bottom, unlike heavily nested function calls.\n",
    "\n",
    "My favorite example demonstrating this comes from Hadley Wickham. Compare these two ways of telling the same story:\n",
    "\n",
    "```R\n",
    "tumble_after(\n",
    "    broke(\n",
    "        fell_down(\n",
    "            fetch(went_up(jack_jill, \"hill\"), \"water\"),\n",
    "            jack),\n",
    "        \"crown\"),\n",
    "    \"jill\"\n",
    ")\n",
    "```\n",
    "\n",
    "and \n",
    "\n",
    "```R\n",
    "jack_jill %>%\n",
    "    went_up(\"hill\") %>%\n",
    "    fetch(\"water\") %>%\n",
    "    fell_down(\"jack\") %>%\n",
    "    broke(\"crown\") %>%\n",
    "    tumble_after(\"jill\")\n",
    "```\n",
    "\n",
    "Even if you weren't aware that in R %>% (pronounced *pipe*) calls the function on the right with the thing on the left as an argument, you can still make out what's going on. Compare that with the first style, where you need to unravel the code to figure out the order of execution and which arguments are being passed where.\n",
    "\n",
    "Admittedly, you probably wouldn't write the first one.\n",
    "It'd be something like\n",
    "\n",
    "```\n",
    "on_hill = went_up(jack_jill, 'hill')\n",
    "with_water = fetch(on_hill, 'water')\n",
    "fallen = fell_down(with_water, 'jack')\n",
    "broken = broke(fallen, 'jack')\n",
    "after = tmple_after(broken, 'jill')\n",
    "```\n",
    "\n",
    "I don't like this version because I spend more time than I'd like to admit coming up with appropriate names for variables[^names]. That's bothersome when we don't *really* care about the `on_hill` variable. We're just passing it into the next step.\n",
    "\n",
    "[^names]: When implementing `assign`, pandas' version of dplyr's `mutate`, we spent *a lot* of time finding the right name. We ended up having 110 comments in the [PR](https://github.com/pydata/pandas/pull/9239), plus more in the issue, for a roughly 15 line method. Most of those were about the name.\n",
    "\n",
    "A fourth way of writing the same thing may be available. Suppose you owned a `JackAndJill` object, and could define the methods on it. Then you'd have something like R's `%>%` example.\n",
    "\n",
    "```\n",
    "jack_jill = JackAndJill()\n",
    "(jack_jill.went_up('hill')\n",
    "    .fetch('water')\n",
    "    .fell_down('jack')\n",
    "    .broke('crown')\n",
    "    .tumble_after('jill')\n",
    ")\n",
    "```\n",
    "\n",
    "But the problem is you don't own the `ndarray` or `DataFrame` or [`DataArray`](http://xarray.pydata.org/en/stable/data-structures.html#dataarray), and the exact method you want may not exist.\n",
    "Monekypatching on your own methods is fragile.\n",
    "It's not easy to correctly subclass pandas' DataFrame to extend it with your own methods.\n",
    "Composition, where you create a class that holds onto a DataFrame internally, may be fine for your own code, but it won't interact well with the rest of the ecosystem.\n",
    "\n",
    "Perhaps you could submit a pull request to pandas implementing your method.\n",
    "But then you'd need to convince the maintainers that it's broadly useful enough to merit its inclusion (and worth their time to maintain it). But `DataFrame` has something like 250+ methods, so we're reluctant to add more.\n",
    "\n",
    "Enter `DataFrame.pipe`. All the benefits of having your specific function as a method on the DataFrame, without us having to maintain it. A win-win.\n",
    "\n",
    "```python\n",
    "jack_jill = pd.DataFrame()\n",
    "(jack_jill.pipe(went_up, 'hill')\n",
    "    .pipe(fetch, 'water')\n",
    "    .pipe(fell_down, 'jack')\n",
    "    .pipe(broke, 'crown')\n",
    "    .pipe(tumble_after, 'jill')\n",
    ")\n",
    "```\n",
    "\n",
    "This really is just right-to-left function execution. The first argument to `pipe`, a callable, is called with the DataFrame on the left, and any additional arguments you specify."
   ]
  },
  {
   "cell_type": "markdown",
   "metadata": {},
   "source": [
    "## Costs\n",
    "\n",
    "One drawback to excessivly long chains is that debugging can be harder. If something looks wrong at the end, you don't have intermediate values to inspect. There's a close parallel here to python's generators. Generators are great for keeping memory consumption down, but they can be hard to debug since values are consumed.\n",
    "\n",
    "For my typical exploratory workflow, this isn't really a big problem. I'm working with a single dataset that isn't being updated, and the path from raw data to usuable data isn't so large.\n",
    "\n",
    "For very large workflows, you'll probably want to move away from pandas to to something more structured, like [Airflow](http://pythonhosted.org/airflow/) or [Luigi](http://luigi.readthedocs.org/en/stable/index.html).\n",
    "\n",
    "When writing medium sized [ETL](https://en.wikipedia.org/wiki/Extract,_transform,_load) jobs in python that will be run repeatedly, I'll use decorators to inspect and log properties about the DataFrames at each step of the process."
   ]
  },
  {
   "cell_type": "markdown",
   "metadata": {},
   "source": [
    "```python\n",
    "from functools import wraps\n",
    "import logging\n",
    "\n",
    "def log_shape(func):\n",
    "    @wraps(func)\n",
    "    def wrapper(*args, **kwargs):\n",
    "        result = func(*args, **kwargs)\n",
    "        logging.info(\"%s,%s\" % (func.__name__, result.shape))\n",
    "        return result\n",
    "    return wrapper\n",
    "\n",
    "def log_dtypes(func):\n",
    "    @wraps(func)\n",
    "    def wrapper(*args, **kwargs):\n",
    "        result = func(*args, **kwargs)\n",
    "        logging.info(\"%s,%s\" % (func.__name__, result.dtypes))\n",
    "        return result\n",
    "    return wrapper\n",
    "\n",
    "\n",
    "@log_shape\n",
    "@log_dtypes\n",
    "def load(fp):\n",
    "    df = pd.read_csv(fp, index_col=0, parse_dates=True)\n",
    "\n",
    "@log_shape\n",
    "@log_dtypes\n",
    "def update_events(df, new_events):\n",
    "    df.loc[new_events.index, 'foo'] = new_events\n",
    "    return df\n",
    "```\n",
    "\n",
    "This plays nicely with [`engarde`](http://engarde.readthedocs.org), a little library I wrote to validate data as it flows through the pipeline."
   ]
  },
  {
   "cell_type": "markdown",
   "metadata": {},
   "source": [
    "## Inplace?\n",
    "\n",
    "Most pandas methods have an `inplace` keyword that's `False` by default.\n",
    "In general, you shouldn't do inplace operations.\n",
    "\n",
    "First, if you like method chains then you simply can't use inplace since the return value is `None`, terminating the chain.\n",
    "\n",
    "Second, I suspect people have a mental model of `inplace` operations happening, you know, inplace. That is, extra memory doesn't need to be allocated for the result. But that might not actually be true. There are many methods in pandas that look like\n",
    "\n",
    "```python\n",
    "def dataframe_method(self, inplace=False)\n",
    "    data = self if inplace else self.copy()\n",
    "    # result = ...\n",
    "    if inplace:\n",
    "        self._update_inplace(result)\n",
    "    else:\n",
    "        return result\n",
    "```\n",
    "\n",
    "There's a lot of defensive copying in pandas.\n",
    "Part of this comes down to pandas being built on top of NumPy, and not having full control over how memory is handled and shared.\n",
    "We saw it above when we defined our own functions `extract_city_name` and `time_to_datetime`.\n",
    "Without the `copy`, adding the columns would modify the input DataFrame, which just isn't polite.\n",
    "\n",
    "Finally, inplace operations don't make sense in projects like [ibis](http://www.ibis-project.org) or [dask](http://dask.pydata.org/en/latest/), where the expression you're writing isn't immediately executed."
   ]
  },
  {
   "cell_type": "markdown",
   "metadata": {},
   "source": [
    "I feel like we haven't done much actual coding."
   ]
  },
  {
   "cell_type": "code",
   "execution_count": 1,
   "metadata": {
    "collapsed": true
   },
   "outputs": [],
   "source": [
    "import seaborn as sns\n",
    "sns.set(style='white', context='talk')"
   ]
  },
  {
   "cell_type": "code",
   "execution_count": 2,
   "metadata": {},
   "outputs": [
    {
     "name": "stderr",
     "output_type": "stream",
     "text": [
      "/home/stefan/.virtualenvs/ga-py3/lib/python3.5/site-packages/statsmodels/compat/pandas.py:56: FutureWarning: The pandas.core.datetools module is deprecated and will be removed in a future version. Please use the pandas.tseries module instead.\n",
      "  from pandas.core import datetools\n"
     ]
    }
   ],
   "source": [
    "import statsmodels.api as sm"
   ]
  },
  {
   "cell_type": "markdown",
   "metadata": {},
   "source": [
    "Does a plane with multiple flights on the same day get backed up, causing later flights to be delayed more?"
   ]
  },
  {
   "cell_type": "code",
   "execution_count": 3,
   "metadata": {},
   "outputs": [
    {
     "ename": "NameError",
     "evalue": "name 'df' is not defined",
     "output_type": "error",
     "traceback": [
      "\u001b[0;31m---------------------------------------------------------------------------\u001b[0m",
      "\u001b[0;31mNameError\u001b[0m                                 Traceback (most recent call last)",
      "\u001b[0;32m<ipython-input-3-e2907dc1efee>\u001b[0m in \u001b[0;36m<module>\u001b[0;34m()\u001b[0m\n\u001b[0;32m----> 1\u001b[0;31m flights = (df[['fl_date', 'tail_num', 'dep_time', 'dep_delay', 'distance']]\n\u001b[0m\u001b[1;32m      2\u001b[0m            \u001b[0;34m.\u001b[0m\u001b[0mdropna\u001b[0m\u001b[0;34m(\u001b[0m\u001b[0;34m)\u001b[0m\u001b[0;34m\u001b[0m\u001b[0m\n\u001b[1;32m      3\u001b[0m            \u001b[0;34m.\u001b[0m\u001b[0msort_values\u001b[0m\u001b[0;34m(\u001b[0m\u001b[0;34m'dep_time'\u001b[0m\u001b[0;34m)\u001b[0m\u001b[0;34m\u001b[0m\u001b[0m\n\u001b[1;32m      4\u001b[0m            .assign(turn = lambda x:\n\u001b[1;32m      5\u001b[0m                 \u001b[0mx\u001b[0m\u001b[0;34m.\u001b[0m\u001b[0mgroupby\u001b[0m\u001b[0;34m(\u001b[0m\u001b[0;34m[\u001b[0m\u001b[0;34m'fl_date'\u001b[0m\u001b[0;34m,\u001b[0m \u001b[0;34m'tail_num'\u001b[0m\u001b[0;34m]\u001b[0m\u001b[0;34m)\u001b[0m\u001b[0;34m\u001b[0m\u001b[0m\n",
      "\u001b[0;31mNameError\u001b[0m: name 'df' is not defined"
     ]
    }
   ],
   "source": [
    "flights = (df[['fl_date', 'tail_num', 'dep_time', 'dep_delay', 'distance']]\n",
    "           .dropna()\n",
    "           .sort_values('dep_time')\n",
    "           .assign(turn = lambda x:\n",
    "                x.groupby(['fl_date', 'tail_num'])\n",
    "                 .dep_time\n",
    "                 .transform('rank').astype(int)))\n",
    "\n",
    "fig, ax = plt.subplots(figsize=(15, 5))\n",
    "sns.boxplot(x='turn', y='dep_delay', data=flights, ax=ax)\n",
    "sns.despine()\n",
    "plt.savefig('mc_turn.svg', transparent=True)"
   ]
  },
  {
   "cell_type": "markdown",
   "metadata": {},
   "source": [
    "Do flights later in the day have longer delays?"
   ]
  },
  {
   "cell_type": "code",
   "execution_count": null,
   "metadata": {
    "collapsed": true
   },
   "outputs": [],
   "source": [
    "plt.figure(figsize=(15, 5))\n",
    "(df[['fl_date', 'tail_num', 'dep_time', 'dep_delay', 'distance']]\n",
    "    .dropna()\n",
    "    .assign(hour=lambda x: x.dep_time.dt.hour)\n",
    "    .query('5 < dep_delay < 600')\n",
    "    .pipe((sns.boxplot, 'data'), 'hour', 'dep_delay'))\n",
    "sns.despine()\n",
    "plt.savefig('../content/images/delay_by_hour.svg', transparent=True)"
   ]
  },
  {
   "cell_type": "markdown",
   "metadata": {},
   "source": [
    "Let's call everyone above 10 hours an outlier and throw them out."
   ]
  },
  {
   "cell_type": "code",
   "execution_count": null,
   "metadata": {
    "collapsed": true
   },
   "outputs": [],
   "source": [
    "fig, ax = plt.subplots(figsize=(15, 5))\n",
    "sns.boxplot(x='hour', y='dep_delay', data=flights[flights.dep_delay < 600], ax=ax)\n",
    "sns.despine()\n",
    "plt.savefig('../content/images/mc_no_days.svg', transparent=True)"
   ]
  },
  {
   "cell_type": "markdown",
   "metadata": {},
   "source": [
    "Let's condition on there being a delay at all."
   ]
  },
  {
   "cell_type": "code",
   "execution_count": null,
   "metadata": {
    "collapsed": true
   },
   "outputs": [],
   "source": [
    "fig, ax = plt.subplots(figsize=(15, 5))\n",
    "sns.boxplot(x='hour', y='dep_delay', data=flights.query('5 < dep_delay < 600'), ax=ax)\n",
    "sns.despine()\n",
    "plt.savefig('../content/images/mc_delays.svg', transparent=True)"
   ]
  },
  {
   "cell_type": "markdown",
   "metadata": {},
   "source": [
    "Which flights are the worst?"
   ]
  },
  {
   "cell_type": "code",
   "execution_count": null,
   "metadata": {
    "collapsed": true
   },
   "outputs": [],
   "source": [
    "# Groupby.agg accepts dict of {column: {ouput_name: agg_func}}\n",
    "air = (df.groupby(['origin', 'dest'])\n",
    "         .agg({'dep_delay': {'dep_mean': 'mean', 'dep_count': 'count'},\n",
    "               'arr_delay': {'arr_mean': 'mean', 'arr_count': 'count'}}))\n",
    "air.columns = air.columns.droplevel()"
   ]
  },
  {
   "cell_type": "code",
   "execution_count": null,
   "metadata": {
    "collapsed": true
   },
   "outputs": [],
   "source": [
    "air[air.arr_count > 50].sort_values('dep_mean', ascending=False).head(10)"
   ]
  },
  {
   "cell_type": "markdown",
   "metadata": {},
   "source": [
    "Which airlines are the worst?"
   ]
  },
  {
   "cell_type": "code",
   "execution_count": null,
   "metadata": {
    "collapsed": true
   },
   "outputs": [],
   "source": [
    "airlines = df.groupby('unique_carrier').dep_delay.agg(['mean', 'count'])\n",
    "airlines['mean'].sort_values().plot.barh()\n",
    "sns.despine()"
   ]
  },
  {
   "cell_type": "markdown",
   "metadata": {},
   "source": [
    "B6 is Jet Blue."
   ]
  },
  {
   "cell_type": "markdown",
   "metadata": {},
   "source": [
    "I wanted to try out scikit-learn's [new Gaussian Process module](http://scikit-learn.org/dev/modules/gaussian_process.html) so here's a pretty picture."
   ]
  },
  {
   "cell_type": "code",
   "execution_count": null,
   "metadata": {
    "collapsed": true
   },
   "outputs": [],
   "source": [
    "print(delay.head().to_html())"
   ]
  },
  {
   "cell_type": "code",
   "execution_count": null,
   "metadata": {
    "collapsed": true
   },
   "outputs": [],
   "source": [
    "planes = df.assign(year=df.fl_date.dt.year).groupby(\"tail_num\")\n",
    "delay = (planes.agg({\"year\": \"count\",\n",
    "                     \"distance\": \"mean\",\n",
    "                     \"arr_delay\": \"mean\"})\n",
    "               .rename(columns={\"distance\": \"dist\",\n",
    "                                \"arr_delay\": \"delay\",\n",
    "                                \"year\": \"count\"})\n",
    "               .query(\"count > 20 & dist < 2000\"))\n",
    "delay.head()"
   ]
  },
  {
   "cell_type": "code",
   "execution_count": null,
   "metadata": {
    "collapsed": true
   },
   "outputs": [],
   "source": [
    "X = delay['dist']\n",
    "y = delay['delay']"
   ]
  },
  {
   "cell_type": "code",
   "execution_count": null,
   "metadata": {
    "collapsed": true
   },
   "outputs": [],
   "source": [
    "from sklearn.gaussian_process import GaussianProcessRegressor\n",
    "from sklearn.gaussian_process.kernels import RBF, WhiteKernel\n",
    "\n",
    "kernel = (1.0 * RBF(length_scale=10.0, length_scale_bounds=(1e2, 1e4))\n",
    "    + WhiteKernel(noise_level=.5, noise_level_bounds=(1e-1, 1e+5)))\n",
    "gp = GaussianProcessRegressor(kernel=kernel,\n",
    "                              alpha=0.0).fit(X.reshape(-1, 1), y)\n",
    "\n",
    "X_ = np.linspace(X.min(), X.max(), 1000)\n",
    "y_mean, y_cov = gp.predict(X_[:, np.newaxis], return_cov=True)"
   ]
  },
  {
   "cell_type": "code",
   "execution_count": null,
   "metadata": {
    "collapsed": true
   },
   "outputs": [],
   "source": [
    "%matplotlib inline\n",
    "sns.set(style='white', context='talk')"
   ]
  },
  {
   "cell_type": "code",
   "execution_count": null,
   "metadata": {
    "collapsed": true
   },
   "outputs": [],
   "source": [
    "ax = delay.plot(kind='scatter', x='dist', y = 'delay', figsize=(12, 6),\n",
    "                color='k', alpha=.25, s=delay['count'] / 10)\n",
    "\n",
    "ax.plot(X_, y_mean, lw=2, zorder=9)\n",
    "ax.fill_between(X_, y_mean - np.sqrt(np.diag(y_cov)),\n",
    "                y_mean + np.sqrt(np.diag(y_cov)),\n",
    "                alpha=0.25)\n",
    "\n",
    "sizes = (delay['count'] / 10).round(0)\n",
    "\n",
    "for area in np.linspace(sizes.min(), sizes.max(), 3).astype(int):\n",
    "    plt.scatter([], [], c='k', alpha=0.7, s=area,\n",
    "                label=str(area * 10) + ' flights')\n",
    "plt.legend(scatterpoints=1, frameon=False, labelspacing=1)\n",
    "\n",
    "ax.set_xlim(0, 2100)\n",
    "ax.set_ylim(-20, 65)\n",
    "sns.despine()\n",
    "plt.tight_layout()\n",
    "plt.savefig(\"../content/images/mc_flights.svg\", transparent=True)\n",
    "plt.savefig(\"../content/images/mc_flights.png\")"
   ]
  },
  {
   "cell_type": "code",
   "execution_count": null,
   "metadata": {
    "collapsed": true
   },
   "outputs": [],
   "source": [
    "df.head()"
   ]
  },
  {
   "cell_type": "markdown",
   "metadata": {},
   "source": [
    "Until next time."
   ]
  },
  {
   "cell_type": "code",
   "execution_count": null,
   "metadata": {
    "collapsed": true
   },
   "outputs": [],
   "source": [
    "import statsmodels.tsa.api as smt"
   ]
  },
  {
   "cell_type": "code",
   "execution_count": null,
   "metadata": {
    "collapsed": true
   },
   "outputs": [],
   "source": [
    "jdaily = df.groupby('fl_date').dep_delay.mean().sort_index()"
   ]
  },
  {
   "cell_type": "code",
   "execution_count": null,
   "metadata": {
    "collapsed": true
   },
   "outputs": [],
   "source": [
    "df.groupby(['origin', 'fl_date']).dep_delay.mean()"
   ]
  },
  {
   "cell_type": "code",
   "execution_count": null,
   "metadata": {
    "collapsed": true
   },
   "outputs": [],
   "source": [
    "hourly = (\n",
    "    df.dropna(subset=['dep_time', 'unique_carrier'])\n",
    "      .loc[df['unique_carrier']\n",
    "           .isin(df['unique_carrier'].value_counts().index[:5])]\n",
    "   .set_index('dep_time')\n",
    "   .groupby(['unique_carrier', pd.TimeGrouper(\"H\")])\n",
    "   .fl_num.count()\n",
    "   .unstack(0).fillna(0).plot())"
   ]
  },
  {
   "cell_type": "code",
   "execution_count": null,
   "metadata": {
    "collapsed": true
   },
   "outputs": [],
   "source": [
    "sns.set_style('ticks')"
   ]
  },
  {
   "cell_type": "code",
   "execution_count": null,
   "metadata": {
    "collapsed": true
   },
   "outputs": [],
   "source": [
    "(df.dropna(subset=['dep_time', 'unique_carrier'])\n",
    "   .loc[df['unique_carrier']\n",
    "       .isin(df['unique_carrier'].value_counts().index[:5])]\n",
    "   .set_index('dep_time')\n",
    "   .groupby(['unique_carrier', pd.TimeGrouper(\"H\")])\n",
    "   .fl_num.count()\n",
    "   .unstack(0)\n",
    "   .fillna(0)\n",
    "   .rolling(24)\n",
    "   .sum()\n",
    "   .rename_axis(\"Flights per Day\", axis=1)\n",
    "   .plot()\n",
    ")\n",
    "sns.despine()\n",
    "plt.savefig(\"../content/images/flights_per_day.svg\", transparent=True)"
   ]
  },
  {
   "cell_type": "code",
   "execution_count": null,
   "metadata": {
    "collapsed": true
   },
   "outputs": [],
   "source": [
    "hourly.unstack(0).fillna(0).plot()\n",
    "sns.despine()k"
   ]
  },
  {
   "cell_type": "code",
   "execution_count": null,
   "metadata": {
    "collapsed": true
   },
   "outputs": [],
   "source": [
    "top = hourly.index.get_level_values('unique_carrier').value_counts().index[:5]"
   ]
  },
  {
   "cell_type": "code",
   "execution_count": null,
   "metadata": {
    "collapsed": true
   },
   "outputs": [],
   "source": [
    "gr.fl_num.count().index.get_level_values(0).value_counts().sort_values()"
   ]
  },
  {
   "cell_type": "code",
   "execution_count": null,
   "metadata": {
    "collapsed": true
   },
   "outputs": [],
   "source": [
    "gr.unstack()"
   ]
  },
  {
   "cell_type": "code",
   "execution_count": null,
   "metadata": {
    "collapsed": true
   },
   "outputs": [],
   "source": [
    "gr.unstack(1).fillna(0).pipe(p)"
   ]
  },
  {
   "cell_type": "code",
   "execution_count": null,
   "metadata": {
    "collapsed": true
   },
   "outputs": [],
   "source": [
    "df.head()"
   ]
  },
  {
   "cell_type": "code",
   "execution_count": null,
   "metadata": {
    "collapsed": true
   },
   "outputs": [],
   "source": [
    "gr = df.set_index(['dep_time']).groupby(['unique_carrier', pd.TimeGrouper(\"Min\")])"
   ]
  },
  {
   "cell_type": "code",
   "execution_count": null,
   "metadata": {
    "collapsed": true
   },
   "outputs": [],
   "source": [
    "smt.seasonal_decompose()"
   ]
  }
 ],
 "metadata": {
  "kernelspec": {
   "display_name": "Python 3",
   "language": "python",
   "name": "python3"
  },
  "language_info": {
   "codemirror_mode": {
    "name": "ipython",
    "version": 3
   },
   "file_extension": ".py",
   "mimetype": "text/x-python",
   "name": "python",
   "nbconvert_exporter": "python",
   "pygments_lexer": "ipython3",
   "version": "3.5.2"
  }
 },
 "nbformat": 4,
 "nbformat_minor": 1
}
