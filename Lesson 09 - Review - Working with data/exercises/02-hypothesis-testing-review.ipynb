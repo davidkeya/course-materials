{
 "cells": [
  {
   "cell_type": "markdown",
   "metadata": {
    "slideshow": {
     "slide_type": "slide"
    }
   },
   "source": [
    "### Statistics Fundamentals, revisited"
   ]
  },
  {
   "cell_type": "code",
   "execution_count": 5,
   "metadata": {
    "ExecuteTime": {
     "end_time": "2017-08-07T22:33:24.227240Z",
     "start_time": "2017-08-07T22:33:24.198919Z"
    },
    "collapsed": true,
    "slideshow": {
     "slide_type": "fragment"
    }
   },
   "outputs": [],
   "source": [
    "import pandas as pd\n",
    "import numpy as np\n",
    "from scipy.stats import norm, skew, kurtosis, t\n",
    "from scipy.stats.mstats import normaltest\n",
    "from IPython.display import *\n",
    "import matplotlib.pyplot as plt\n",
    "plt.style.use('ggplot')\n",
    "%matplotlib inline"
   ]
  },
  {
   "cell_type": "markdown",
   "metadata": {
    "slideshow": {
     "slide_type": "slide"
    }
   },
   "source": [
    "#### The Normal Distribution\n",
    "$\\tilde{X}$: normally distributed, mean $\\mu_X$, standard deviation $\\sigma_X$:\n",
    "\n",
    "$$ X \\sim N(\\mu_x, \\sigma_x )$$\n",
    "\n",
    "has probability density function (pdf):\n",
    "\n",
    "$$ \\text{pdf}(x,\\mu,\\sigma) = \\frac{1}{\\sigma \\sqrt{2 \\pi}}\n",
    "e^{-\\frac{1}{2}\\left(\\frac{\\mu - x}{\\sigma}\\right)^2}$$"
   ]
  },
  {
   "cell_type": "markdown",
   "metadata": {
    "slideshow": {
     "slide_type": "slide"
    }
   },
   "source": [
    "#### Exponential & Logarithmic Functions"
   ]
  },
  {
   "cell_type": "code",
   "execution_count": 6,
   "metadata": {
    "ExecuteTime": {
     "end_time": "2017-08-07T22:34:04.755688Z",
     "start_time": "2017-08-07T22:34:04.486453Z"
    },
    "code_folding": [],
    "slideshow": {
     "slide_type": "fragment"
    }
   },
   "outputs": [
    {
     "data": {
      "image/png": "[encoded data removed]",
      "text/plain": [
       "<matplotlib.figure.Figure at 0x107ae2f90>"
      ]
     },
     "metadata": {},
     "output_type": "display_data"
    }
   ],
   "source": [
    "x = np.linspace(-5, 5, 1000) # 1K even-spaced numbers\n",
    "x_ = np.copy(x)\n",
    "x_[x_<=0] = np.nan # need positive vals for log\n",
    "data = pd.DataFrame({'Exponential': np.exp(x), \n",
    "                     'Logarithmic': np.log(x_), 'x': x}, index=x)\n",
    "data.plot(xlim=[-5, 5], ylim=[-5, 5], style={'x': 'k--'}, figsize=(4,4));"
   ]
  },
  {
   "cell_type": "markdown",
   "metadata": {
    "ExecuteTime": {
     "end_time": "2016-07-08T13:40:09.396132",
     "start_time": "2016-07-08T13:40:09.389417"
    },
    "code_folding": [
     2,
     3
    ],
    "slideshow": {
     "slide_type": "slide"
    }
   },
   "source": [
    "#### Standard Normal Distribution\n",
    "\n",
    "Using\n",
    "$$\\mu = 0, $$ and \n",
    "$$\\sigma = 1 $$\n",
    "the above simplifies to:\n",
    "$$ \\text{pdf}(x) = \\frac {e^{- \\frac {x^{2}}{2}}} {\\sqrt{2 \\pi}} $$\n"
   ]
  },
  {
   "cell_type": "markdown",
   "metadata": {
    "slideshow": {
     "slide_type": "slide"
    }
   },
   "source": [
    "#### Standardizing normal distributions\n",
    "We can standardize any variable that has a normal distribution so that it has a standard normal distribution by subtracting the mean and dividing by the standard deviation. In other words:\n",
    "\n",
    "$$ X \\sim N(\\mu_x, \\sigma_x ) \\iff \\frac{X - \\mu_x}{\\sigma_x} \\sim N(0, 1)$$"
   ]
  },
  {
   "cell_type": "code",
   "execution_count": 7,
   "metadata": {
    "ExecuteTime": {
     "end_time": "2017-08-07T22:35:27.944123Z",
     "start_time": "2017-08-07T22:35:27.938085Z"
    },
    "collapsed": true,
    "slideshow": {
     "slide_type": "notes"
    }
   },
   "outputs": [],
   "source": [
    "from ipywidgets import interact, interactive, fixed\n",
    "import ipywidgets as widgets\n",
    "x = np.linspace(-10, 10, 10000)"
   ]
  },
  {
   "cell_type": "code",
   "execution_count": 8,
   "metadata": {
    "ExecuteTime": {
     "end_time": "2017-08-07T22:35:33.877967Z",
     "start_time": "2017-08-07T22:35:33.451669Z"
    },
    "code_folding": [],
    "scrolled": true,
    "slideshow": {
     "slide_type": "slide"
    }
   },
   "outputs": [
    {
     "data": {
      "image/png": "[encoded data removed]",
      "text/plain": [
       "<matplotlib.figure.Figure at 0x1088bc450>"
      ]
     },
     "metadata": {},
     "output_type": "display_data"
    }
   ],
   "source": [
    "@interact(mu=(-10.0,10.0,0.5), sigma=(1.0, 5))\n",
    "def normal_pdf(mu=0, sigma=1):\n",
    "    y = norm.pdf(x, loc=mu, scale=sigma)\n",
    "    df = pd.Series(y, x, name='Normal Distribution')\n",
    "    df.plot(figsize=(10, 4), ylim=[0, np.max(norm.pdf(x))*1.05], legend=True)\n",
    "    plt.fill_between(x, df.values, alpha=0.3)\n",
    "    plt.fill_between(x[np.where(np.logical_and(x>=mu-2*sigma, x<=mu+2*sigma))], df[mu-2*sigma:mu+2*sigma].values, alpha=0.5)    \n",
    "    plt.fill_between(x[np.where(np.logical_and(x>=mu-sigma, x<=mu+sigma))], df[mu-sigma:mu+sigma].values, alpha=0.5)"
   ]
  },
  {
   "cell_type": "markdown",
   "metadata": {
    "slideshow": {
     "slide_type": "slide"
    }
   },
   "source": [
    "#### The 68 - 95 - 99 rule revisited"
   ]
  },
  {
   "cell_type": "markdown",
   "metadata": {
    "slideshow": {
     "slide_type": "fragment"
    }
   },
   "source": [
    "#### Question: write a loop that prints the percentage of values within 1, 2 and 3 standard deviations from the mean."
   ]
  },
  {
   "cell_type": "markdown",
   "metadata": {},
   "source": [
    "Answer:"
   ]
  },
  {
   "cell_type": "markdown",
   "metadata": {
    "slideshow": {
     "slide_type": "fragment"
    }
   },
   "source": [
    "#### Question: How do these relate to confidence intervals?"
   ]
  },
  {
   "cell_type": "markdown",
   "metadata": {
    "slideshow": {
     "slide_type": "notes"
    }
   },
   "source": [
    "Answer: "
   ]
  },
  {
   "cell_type": "code",
   "execution_count": 11,
   "metadata": {
    "ExecuteTime": {
     "end_time": "2017-08-07T22:38:40.427379Z",
     "start_time": "2017-08-07T22:38:40.418574Z"
    },
    "collapsed": true,
    "slideshow": {
     "slide_type": "notes"
    }
   },
   "outputs": [],
   "source": [
    "## Setting up the base data independent of interactive feature\n",
    "x = np.linspace(-3, 3, 10000)\n",
    "data = pd.DataFrame({'pdf': norm.pdf(x), 'cdf': norm.cdf(x)}, index=x)"
   ]
  },
  {
   "cell_type": "code",
   "execution_count": 12,
   "metadata": {
    "ExecuteTime": {
     "end_time": "2017-08-07T22:38:41.574004Z",
     "start_time": "2017-08-07T22:38:41.001753Z"
    },
    "code_folding": [],
    "scrolled": false,
    "slideshow": {
     "slide_type": "slide"
    }
   },
   "outputs": [
    {
     "data": {
      "image/png": "[encoded data removed]",
      "text/plain": [
       "<matplotlib.figure.Figure at 0x108e2dcd0>"
      ]
     },
     "metadata": {},
     "output_type": "display_data"
    }
   ],
   "source": [
    "@interact(value=(-3.0,3.0, 0.1))\n",
    "def normal_cdf(value):\n",
    "    ax = data.plot(figsize=(10, 4), ylim=[0, 1.05], title='Standard Normal Distribution');    \n",
    "    idx = np.abs(x-value).argmin()\n",
    "    plt.fill_between(x[0:idx], 0, norm.pdf(x[:idx]), alpha=0.5)\n",
    "    plt.axvline(value, 0, norm.cdf(x[idx])/1.05, ls='--', c='black')\n",
    "    plt.axhline(norm.cdf(value), xmin=0, xmax=(value + 3) / 6, ls='--', c='black')\n",
    "    ax.text(0.75, 0.85, '$p(x\\\\leq%.2f)=%.2f$'%(value, norm.cdf(value)), transform=ax.transAxes, fontsize=14, verticalalignment='top', bbox=dict(boxstyle='round', facecolor='darkgrey', alpha=0.5));"
   ]
  },
  {
   "cell_type": "markdown",
   "metadata": {
    "slideshow": {
     "slide_type": "slide"
    }
   },
   "source": [
    "#### Question: Using the slider, calculate $P( \\tilde{x} \\leq -1)$"
   ]
  },
  {
   "cell_type": "markdown",
   "metadata": {
    "slideshow": {
     "slide_type": "notes"
    }
   },
   "source": [
    "Answer:"
   ]
  },
  {
   "cell_type": "markdown",
   "metadata": {
    "slideshow": {
     "slide_type": "fragment"
    }
   },
   "source": [
    "#### Question: Calculate $P( \\tilde{x} \\geq -1)$"
   ]
  },
  {
   "cell_type": "markdown",
   "metadata": {
    "slideshow": {
     "slide_type": "notes"
    }
   },
   "source": [
    "Answer:"
   ]
  },
  {
   "cell_type": "markdown",
   "metadata": {
    "slideshow": {
     "slide_type": "fragment"
    }
   },
   "source": [
    "#### Question: Calculate $P( -1 \\leq \\tilde{x} \\leq 1)$:"
   ]
  },
  {
   "cell_type": "markdown",
   "metadata": {
    "slideshow": {
     "slide_type": "slide"
    }
   },
   "source": [
    "#### Statistical Functions"
   ]
  },
  {
   "cell_type": "markdown",
   "metadata": {
    "slideshow": {
     "slide_type": "fragment"
    }
   },
   "source": [
    "[scipy.stats](http://docs.scipy.org/doc/scipy/reference/stats.html) makes dozens of distributions and related functionality available. Let's look in more detail at one example, [scipy.stats.norm](http://docs.scipy.org/doc/scipy/reference/generated/scipy.stats.norm.html#scipy.stats.norm)."
   ]
  },
  {
   "cell_type": "markdown",
   "metadata": {
    "slideshow": {
     "slide_type": "fragment"
    }
   },
   "source": [
    "#### Calculate $\\mu$, $\\sigma$, skewness and kurtosis for  \n",
    "$$X \\sim N(\\mu_X=10, \\sigma_X=20)$$"
   ]
  },
  {
   "cell_type": "markdown",
   "metadata": {},
   "source": [
    "Answer:"
   ]
  },
  {
   "cell_type": "markdown",
   "metadata": {
    "slideshow": {
     "slide_type": "slide"
    }
   },
   "source": [
    "#### Which method returns the probability that values are below the given value? "
   ]
  },
  {
   "cell_type": "markdown",
   "metadata": {
    "slideshow": {
     "slide_type": "notes"
    }
   },
   "source": [
    "Answer:"
   ]
  },
  {
   "cell_type": "markdown",
   "metadata": {
    "slideshow": {
     "slide_type": "fragment"
    }
   },
   "source": [
    "#### Which method returns the probability that values are above the given value? "
   ]
  },
  {
   "cell_type": "markdown",
   "metadata": {
    "slideshow": {
     "slide_type": "notes"
    }
   },
   "source": [
    "Answer:"
   ]
  },
  {
   "cell_type": "markdown",
   "metadata": {
    "slideshow": {
     "slide_type": "fragment"
    }
   },
   "source": [
    "#### Redo the calculations that used the slider."
   ]
  },
  {
   "cell_type": "markdown",
   "metadata": {
    "slideshow": {
     "slide_type": "slide"
    }
   },
   "source": [
    "#### Which method returns the percentile, i.e. the value for which  values are below with the given probability?"
   ]
  },
  {
   "cell_type": "markdown",
   "metadata": {
    "slideshow": {
     "slide_type": "fragment"
    }
   },
   "source": [
    "#### Question: Calculate $X$ for $P(\\tilde{x} \\leq X) = 0.25$."
   ]
  },
  {
   "cell_type": "markdown",
   "metadata": {
    "slideshow": {
     "slide_type": "notes"
    }
   },
   "source": [
    "Answer:"
   ]
  },
  {
   "cell_type": "markdown",
   "metadata": {
    "slideshow": {
     "slide_type": "slide"
    }
   },
   "source": [
    "#### Let's plot two different distributions"
   ]
  },
  {
   "cell_type": "markdown",
   "metadata": {
    "slideshow": {
     "slide_type": "fragment"
    }
   },
   "source": [
    "#### Question: plot the lognormal distribution (take a look at the docs)"
   ]
  },
  {
   "cell_type": "markdown",
   "metadata": {
    "slideshow": {
     "slide_type": "fragment"
    }
   },
   "source": [
    "#### Question: plot the logistic distribution"
   ]
  },
  {
   "cell_type": "markdown",
   "metadata": {
    "slideshow": {
     "slide_type": "slide"
    }
   },
   "source": [
    "#### Critical values for hypothesis tests"
   ]
  },
  {
   "cell_type": "markdown",
   "metadata": {
    "slideshow": {
     "slide_type": "fragment"
    }
   },
   "source": [
    "So far, we looked at the probability that values lie between upper and lower bounds defined by standard deviations from the mean.\n",
    "\n",
    "We can also identify values that correspond to certain cumulative probabilities. These will be useful for hypothesis testing."
   ]
  },
  {
   "cell_type": "markdown",
   "metadata": {
    "slideshow": {
     "slide_type": "slide"
    }
   },
   "source": [
    "#### Question: write a function that print the values for which 1%, 5%, and 10% for values are smaller / larger. Do the same for 'two-tailed' tests."
   ]
  },
  {
   "cell_type": "markdown",
   "metadata": {
    "slideshow": {
     "slide_type": "fragment"
    }
   },
   "source": [
    "Answer:"
   ]
  },
  {
   "cell_type": "markdown",
   "metadata": {
    "slideshow": {
     "slide_type": "slide"
    }
   },
   "source": [
    "### Samples & Sample Statistics"
   ]
  },
  {
   "cell_type": "markdown",
   "metadata": {
    "slideshow": {
     "slide_type": "fragment"
    }
   },
   "source": [
    "Our data are always a **sample** of a **population** or **universe**, which contains all our elements of interest.\n",
    "\n",
    "If sampling has random, so that each member of the population had equal probability to be selected, the values in the sample will be distributed just as the population."
   ]
  },
  {
   "cell_type": "markdown",
   "metadata": {
    "slideshow": {
     "slide_type": "slide"
    }
   },
   "source": [
    "One task of a data scientist is to use information contained in our sample to estimate unknown values for population paramters, like the mean, or the standard deviation, or differences between means for different groups. "
   ]
  },
  {
   "cell_type": "markdown",
   "metadata": {
    "slideshow": {
     "slide_type": "slide"
    }
   },
   "source": [
    "The values we compute from our sample data to estimate population parameters are called **sample statistics**. Because our data constitute a random sample, the sample statistics are also random in nature, and have a **sampling distribution** that depends on the (assumed) distribution of the underlying sample."
   ]
  },
  {
   "cell_type": "markdown",
   "metadata": {
    "slideshow": {
     "slide_type": "slide"
    }
   },
   "source": [
    "#### The distribution of the sample mean $\\bar{X}$\n",
    "\n",
    "* **Central Limit Theorem**: N > 30 => normal distribution\n",
    "* **unbiased estimate**: $\\bar{X} = \\mu_X$\n",
    "* **standard error**: $s_{\\bar{X}} = \\frac{s_X}{\\sqrt{N}}$\n",
    "\n",
    "$$ \\bar{X} \\sim N(\\mu_X, \\frac {\\sigma_X^2}{N}) $$"
   ]
  },
  {
   "cell_type": "markdown",
   "metadata": {
    "slideshow": {
     "slide_type": "slide"
    }
   },
   "source": [
    "#### Standardizing the Sample Mean Distribution\n",
    "We can standardize the sample mean by subtracting the mean, and dividing by the sample standard deviation so that it follows a **standard** normal distribution:\n",
    "\n",
    "$$ \\frac {\\bar{X} - \\mu_X}{\\frac {\\sigma_X}{\\sqrt{N}}} \\sim N(0, 1) = Z$$"
   ]
  },
  {
   "cell_type": "markdown",
   "metadata": {
    "slideshow": {
     "slide_type": "slide"
    }
   },
   "source": [
    "#### Sample Mean Confidence Interval\n",
    "\n",
    "Now we can calculate the probabilities that the mean lies in a given interval using the standard normal distribution:\n",
    "$$ P(a< \\bar{X} < b) = P\\left(\\frac{a-\\mu_X}{\\sigma_X} < Z < \\frac{b-\\mu_X}{\\sigma_X}\\right) $$"
   ]
  },
  {
   "cell_type": "markdown",
   "metadata": {
    "slideshow": {
     "slide_type": "slide"
    }
   },
   "source": [
    "#### Question: How likely is it to observe $\\bar{X}=2$ if $\\mu_X=0$?"
   ]
  },
  {
   "cell_type": "markdown",
   "metadata": {
    "slideshow": {
     "slide_type": "notes"
    }
   },
   "source": [
    "Answer:"
   ]
  },
  {
   "cell_type": "markdown",
   "metadata": {
    "slideshow": {
     "slide_type": "slide"
    }
   },
   "source": [
    "#### When $\\sigma_X$ is unknown: The student t-Distribution\n",
    "Our discussion of the distribution of our estimate of the sample mean above assumed that we know the true standard deviation of the population $\\sigma_X$. \n",
    "\n",
    "However, we typlically rely on our estimate of the sample standard deviation instead. This estimate also has a sampling distribution, and combining the estimates of the mean and the standard deviation yields a new distribution, the `t distribution`, which takes a `degrees of freedom` parameter."
   ]
  },
  {
   "cell_type": "markdown",
   "metadata": {
    "slideshow": {
     "slide_type": "slide"
    }
   },
   "source": [
    "#### For small samples (N<120), t has higher kurtosis than N(0, 1)"
   ]
  },
  {
   "cell_type": "code",
   "execution_count": 7,
   "metadata": {
    "ExecuteTime": {
     "end_time": "2017-05-02T21:57:03.468626Z",
     "start_time": "2017-05-02T21:57:03.247266Z"
    },
    "code_folding": [
     0
    ],
    "slideshow": {
     "slide_type": "fragment"
    }
   },
   "outputs": [
    {
     "data": {
      "image/png": "[encoded data removed]",
      "text/plain": [
       "<matplotlib.figure.Figure at 0x10a3e6610>"
      ]
     },
     "metadata": {},
     "output_type": "display_data"
    }
   ],
   "source": [
    "def plot_t_distribution(df_list=[20, 200]):\n",
    "    x = np.linspace(-3, 3, 1000)\n",
    "    for df in df_list:\n",
    "        plt.plot(x, t.pdf(x, df=df), label='t ~ {}'.format(df))\n",
    "    plt.plot(x, norm.pdf(x), label='N(0, 1)', ls='--', c='black')\n",
    "    plt.legend(loc='best', shadow=True);\n",
    "plot_t_distribution()"
   ]
  },
  {
   "cell_type": "markdown",
   "metadata": {
    "slideshow": {
     "slide_type": "slide"
    }
   },
   "source": [
    "#### Use a list comprehension to show the base stats for the t Distribution with $\\text{df}=10, 20, ... 200"
   ]
  },
  {
   "cell_type": "markdown",
   "metadata": {},
   "source": [
    "Answer:"
   ]
  },
  {
   "cell_type": "markdown",
   "metadata": {
    "slideshow": {
     "slide_type": "slide"
    }
   },
   "source": [
    "#### Example: Sample Mean\n",
    "Using our estimate $s_X$, we now get for the distribution of the sample mean:\n",
    "\n",
    "$$ \\frac {\\bar{X} - \\mu_X}{\\frac {s_X}{\\sqrt{N}}} \\sim  t_{N-1}$$"
   ]
  },
  {
   "cell_type": "markdown",
   "metadata": {
    "slideshow": {
     "slide_type": "slide"
    }
   },
   "source": [
    "#### Confidence Interval\n",
    "A confidence interval estimate consists of a lower bound and an upper bound within which we expect $x$ to reside with given probability. \n",
    "\n",
    "A confidence interval estimate for the sample mean obtains these values from the matching sampling distribution - the $t$ distribution."
   ]
  },
  {
   "cell_type": "markdown",
   "metadata": {
    "slideshow": {
     "slide_type": "slide"
    }
   },
   "source": [
    "So for confidence level $1 - \\alpha$, for instance 95%:\n",
    "$$ P\\left(t_{N-1, \\frac{\\alpha}{2}} \\leq \\frac {\\bar{X} - \\mu_X}{\\frac {s_X}{\\sqrt{N}}} \\leq t_{N-1, 1-\\frac{\\alpha}{2}}\\right) = 1 - \\alpha $$\n",
    "This implies the following confidence interval boundaries \n",
    "$$ P\\left(\\bar{X} - t_{N-1, 1-\\frac{\\alpha}{2}} \\frac{s_X}{\\sqrt{N}} \\leq \\mu_X \\leq \\bar{X} + t_{N-1, 1-\\frac{\\alpha}{2}} \\frac{s_X}{\\sqrt{N}} \\right) = 1 - \\alpha $$"
   ]
  },
  {
   "cell_type": "markdown",
   "metadata": {
    "slideshow": {
     "slide_type": "slide"
    }
   },
   "source": [
    "#### Question: Let's calculate a confidence interval for the following values:"
   ]
  },
  {
   "cell_type": "code",
   "execution_count": null,
   "metadata": {
    "collapsed": true,
    "slideshow": {
     "slide_type": "fragment"
    }
   },
   "outputs": [],
   "source": [
    "np.random.seed(42)\n",
    "values = np.random.randint(-100, 100, 50)\n",
    "values"
   ]
  },
  {
   "cell_type": "markdown",
   "metadata": {
    "slideshow": {
     "slide_type": "slide"
    }
   },
   "source": [
    "#### Hypothesis Test: Null Hypothesis\n",
    "Now let's test the hypothesis that the population mean equals a certain value, given our sample mean estimate, which is our **test statistic**.\n",
    "\n",
    "$$ H_0: \\mu_x=a$$\n",
    "$$ H_1: \\mu_x\\neq a$$"
   ]
  },
  {
   "cell_type": "markdown",
   "metadata": {
    "slideshow": {
     "slide_type": "slide"
    }
   },
   "source": [
    "Similar to our confidence interval estimate, we are going to create an interval that assumes that our $H_0$ is true. If our sample value falls outside this interval, we reject $H_0$. If not, we cannot reject $H_0$. \n",
    "\n",
    "Note that rejecting $H_0$ does not imply that $H_1$ is necessarily true; the value that we observed just happens to make $H_0$ very unlikely.\n",
    "\n",
    "$$ \\left( a \\pm t_{N-1, 1-\\alpha/2}\\frac{s_X}{N} \\right)$$"
   ]
  },
  {
   "cell_type": "markdown",
   "metadata": {
    "slideshow": {
     "slide_type": "slide"
    }
   },
   "source": [
    "#### p-value\n",
    "\n",
    "Just how unlikely is our sample finding **if** $H_0$ is true? We simply obtain this value from the distribution that assumes $H_0$ is true as we did above. The resulting value is our p-value.\n",
    "\n",
    "$$P(x\\geq \\bar{X}) = 1 - cdf_{H_0}(\\bar{X})$$"
   ]
  },
  {
   "cell_type": "markdown",
   "metadata": {
    "slideshow": {
     "slide_type": "slide"
    }
   },
   "source": [
    "#### Significance of Regression Coefficients\n",
    "Under certain assumptions (esp. normally distributed errors), the regression coefficients are normally distributed:\n",
    "\n",
    "$$ \\hat{\\beta_i} \\sim N\\left(\\beta, \\frac{\\sigma_Y^2}{\\sum_{i=1}^{N}(X_i-\\bar{X})^2}\\right) $$"
   ]
  },
  {
   "cell_type": "markdown",
   "metadata": {
    "slideshow": {
     "slide_type": "slide"
    }
   },
   "source": [
    "#### Hypothesis Tests\n",
    "For the hypothesis that a parameter equals certain value $a$:\n",
    "\n",
    "$$H_0: \\beta_1=a$$\n",
    "$$H_1: \\beta_1\\neq a$$\n",
    "We calculate critical values as follows:\n",
    "\n",
    "$$\\left|\\frac{\\hat{\\beta_j}-a}{s_{\\hat{\\beta_j}}}\\right| > t_{\\left(n-k-1-\\frac{\\alpha}{2}\\right)}$$"
   ]
  },
  {
   "cell_type": "markdown",
   "metadata": {
    "slideshow": {
     "slide_type": "slide"
    }
   },
   "source": [
    "### Advertisement Regression Example\n",
    "#### Run a regression for our advertisement data and interpret the results"
   ]
  },
  {
   "cell_type": "code",
   "execution_count": null,
   "metadata": {
    "collapsed": true,
    "slideshow": {
     "slide_type": "fragment"
    }
   },
   "outputs": [],
   "source": [
    "data = pd.read_csv('http://www-bcf.usc.edu/~gareth/ISL/Advertising.csv', \n",
    "                   index_col=0)\n",
    "data.info()"
   ]
  },
  {
   "cell_type": "markdown",
   "metadata": {
    "slideshow": {
     "slide_type": "slide"
    }
   },
   "source": [
    "#### Apply seaborn coefplot to this dataset. What are the available options?"
   ]
  },
  {
   "cell_type": "markdown",
   "metadata": {
    "slideshow": {
     "slide_type": "slide"
    }
   },
   "source": [
    "### Simulating the Standard Error of the Mean\n",
    "Let's simulate the standard error of the mean by selecting random samples from a hypothetical population with $\\mu = 1000 $ and $\\sigma = 200 $.\n",
    "\n",
    "* Simulate 1,000 samples of various sizes N=100, 200, 300, ... 5,000\n",
    "* calculate the mean for each sample, and \n",
    "* the standard error of the means for each sample size\n",
    "* plot the result"
   ]
  },
  {
   "cell_type": "code",
   "execution_count": null,
   "metadata": {
    "collapsed": true
   },
   "outputs": [],
   "source": []
  }
 ],
 "metadata": {
  "celltoolbar": "Slideshow",
  "kernelspec": {
   "display_name": "Python 3",
   "language": "python",
   "name": "python3"
  },
  "language_info": {
   "codemirror_mode": {
    "name": "ipython",
    "version": 3
   },
   "file_extension": ".py",
   "mimetype": "text/x-python",
   "name": "python",
   "nbconvert_exporter": "python",
   "pygments_lexer": "ipython3",
   "version": "3.5.2"
  },
  "latex_envs": {
   "bibliofile": "biblio.bib",
   "cite_by": "apalike",
   "current_citInitial": 1,
   "eqLabelWithNumbers": true,
   "eqNumInitial": 0
  },
  "nav_menu": {},
  "toc": {
   "navigate_menu": true,
   "number_sections": true,
   "sideBar": true,
   "threshold": "2",
   "toc_cell": true,
   "toc_section_display": "block",
   "toc_window_display": true
  },
  "widgets": {
   "state": {
    "1e1c42d9cdea4f48aeeedd6da384e525": {
     "views": [
      {
       "cell_index": 8
      }
     ]
    },
    "a94d7a6a46ff40ce9b8e700e9cc14cd2": {
     "views": [
      {
       "cell_index": 15
      }
     ]
    }
   },
   "version": "1.2.0"
  }
 },
 "nbformat": 4,
 "nbformat_minor": 1
}
