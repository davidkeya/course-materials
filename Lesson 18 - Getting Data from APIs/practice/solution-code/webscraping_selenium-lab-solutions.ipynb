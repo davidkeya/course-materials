{
 "cells": [
  {
   "cell_type": "markdown",
   "metadata": {
    "collapsed": true
   },
   "source": [
    "<img src=\"http://imgur.com/1ZcRyrc.png\" style=\"float: left; margin: 20px; height: 55px\">\n",
    "\n",
    "# Webscraping OpenTable with Selenium: Guided Lab\n",
    "\n",
    "_Authors: Joseph Nelson (DC)_\n",
    "\n",
    "---\n",
    "\n",
    "> *Note: this lab is intended to be instructor-guided.*\n",
    "\n",
    "\n",
    "In today's codealong lab, we will build a scraper using urllib and BeautifulSoup. We will remedy some of the pitfalls of automated scraping by using a a \"headless\" browser called Selenium.\n",
    "\n",
    "You will be scraping OpenTable's DC listings. We're interested in knowing the restaurant's **name, location, price, and how many people booked it today.**\n",
    "\n",
    "OpenTable provides all of this information on this given page: http://www.opentable.com/washington-dc-restaurant-listings."
   ]
  },
  {
   "cell_type": "markdown",
   "metadata": {},
   "source": [
    "### 1. Inspect the elements of this page to assure we can find each of the bits of information in which we're interested."
   ]
  },
  {
   "cell_type": "markdown",
   "metadata": {},
   "source": [
    "### 2. Use `urllib` and `BeautifulSoup` to read the contents of the HTML."
   ]
  },
  {
   "cell_type": "code",
   "execution_count": 33,
   "metadata": {
    "collapsed": true,
    "scrolled": true
   },
   "outputs": [],
   "source": [
    "from bs4 import BeautifulSoup\n",
    "import urllib"
   ]
  },
  {
   "cell_type": "code",
   "execution_count": 34,
   "metadata": {
    "collapsed": false
   },
   "outputs": [],
   "source": [
    "# set the url we want to visit\n",
    "url = \"http://www.opentable.com/washington-dc-restaurant-listings\"\n",
    "\n",
    "# visit that url, and grab the html of said page\n",
    "html = urllib.urlopen(url).read()"
   ]
  },
  {
   "cell_type": "markdown",
   "metadata": {},
   "source": [
    "### 3. Print out the HTML (only print a fraction of it). What is in it?"
   ]
  },
  {
   "cell_type": "code",
   "execution_count": 35,
   "metadata": {
    "collapsed": false
   },
   "outputs": [
    {
     "data": {
      "text/plain": [
       "521081"
      ]
     },
     "execution_count": 35,
     "metadata": {},
     "output_type": "execute_result"
    }
   ],
   "source": [
    "len(html)"
   ]
  },
  {
   "cell_type": "code",
   "execution_count": 36,
   "metadata": {
    "collapsed": false
   },
   "outputs": [
    {
     "data": {
      "text/plain": [
       "'          <!DOCTYPE html><html lang=\"en\"><head><meta charset=\"utf-8\"/><meta http-equiv=\"X-UA-Compatible\" content=\"IE=9; IE=8; IE=7; IE=EDGE\"/> <title>Washington, D.C. Area Restaurants List | OpenTable</title>  <meta  name=\"description\" content=\"Find Washington, D.C. Area restaurants. Search by location, cuisine, or price to refine restaurant results in the Washington, D.C. Area area.\" > </meta>  <meta  name=\"robots\" content=\"noindex\" > </meta>    <link rel=\"shortcut icon\" href=\"//components.otstatic.com/components/favicon/1.0.4/favicon/favicon.ico\" type=\"image/x-icon\"/><link rel=\"icon\" href=\"//components.otstatic.com/components/favicon/1.0.4/favicon/favicon-16.png\" sizes=\"16x16\"/><link rel=\"icon\" href=\"//components.otstatic.com/components/favicon/1.0.4/favicon/favicon-32.png\" sizes=\"32x32\"/><link rel=\"icon\" href=\"//components.otstatic.com/components/favicon/1.0.4/favicon/favicon-48.png\" sizes=\"48x48\"/><link rel=\"icon\" href=\"//components.otstatic.com/components/favicon/1.0.4/favicon/fav'"
      ]
     },
     "execution_count": 36,
     "metadata": {},
     "output_type": "execute_result"
    }
   ],
   "source": [
    "html[0:1000]"
   ]
  },
  {
   "cell_type": "code",
   "execution_count": 37,
   "metadata": {
    "collapsed": true
   },
   "outputs": [],
   "source": [
    "# This is the raw HTML of the page."
   ]
  },
  {
   "cell_type": "markdown",
   "metadata": {},
   "source": [
    "### 4. Use Beautiful Soup to convert the raw HTML into a soup object."
   ]
  },
  {
   "cell_type": "code",
   "execution_count": 38,
   "metadata": {
    "collapsed": true
   },
   "outputs": [],
   "source": [
    "# we need to convert this into a soup object\n",
    "soup = BeautifulSoup(html, 'html.parser', from_encoding=\"utf-8\")"
   ]
  },
  {
   "cell_type": "markdown",
   "metadata": {},
   "source": [
    "### 5. Extract the name of each restaurant.\n",
    "\n",
    "Let's first find each restaurant name listed on the page we've loaded. How do we find the page location of the restaurant? \n",
    "\n",
    "> *Hint: we need to know where in the **html** the restaurant element is housed.*\n",
    "\n",
    "**5.A See if you can find the restaurant name on the page. Keep in mind there are many restaurants loaded on the page.**"
   ]
  },
  {
   "cell_type": "code",
   "execution_count": 39,
   "metadata": {
    "collapsed": false
   },
   "outputs": [
    {
     "name": "stdout",
     "output_type": "stream",
     "text": [
      "[<span class=\"rest-row-name-text\">Harold Black</span>, <span class=\"rest-row-name-text\">Centrolina</span>, <span class=\"rest-row-name-text\">Chez Billy Sud</span>, <span class=\"rest-row-name-text\">CIRCA at Foggy Bottom</span>, <span class=\"rest-row-name-text\">Rasika</span>, <span class=\"rest-row-name-text\">Ambar</span>, <span class=\"rest-row-name-text\">Mokomandy</span>, <span class=\"rest-row-name-text\">NoPa Kitchen + Bar (Washington D.C.)</span>, <span class=\"rest-row-name-text\">Blue Duck Tavern</span>, <span class=\"rest-row-name-text\">Osteria Morini DC</span>, <span class=\"rest-row-name-text\">SEI restaurant &amp; lounge</span>, <span class=\"rest-row-name-text\">Rasika West End</span>, <span class=\"rest-row-name-text\">Ghibellina</span>, <span class=\"rest-row-name-text\">Floriana</span>, <span class=\"rest-row-name-text\">Peacock Caf\\xe9</span>, <span class=\"rest-row-name-text\">Medium Rare - Cleveland Park</span>, <span class=\"rest-row-name-text\">Captain Gregory's</span>, <span class=\"rest-row-name-text\">Kingbird at The Watergate Hotel</span>, <span class=\"rest-row-name-text\">Daikaya Izakaya (2F)</span>, <span class=\"rest-row-name-text\">Bistrot Lepic &amp; Wine Bar</span>]\n"
     ]
    }
   ],
   "source": [
    "# print the restaurant names\n",
    "print soup.find_all('span', {'class': 'rest-row-name-text'})[0:20]"
   ]
  },
  {
   "cell_type": "markdown",
   "metadata": {},
   "source": [
    "**5.B Create a list of _only_ the restaurant names (no tags).**\n"
   ]
  },
  {
   "cell_type": "code",
   "execution_count": 40,
   "metadata": {
    "collapsed": false
   },
   "outputs": [],
   "source": [
    "r_names = []\n",
    "# for each element you find, print out the restaurant name\n",
    "for entry in soup.find_all('span', {'class': 'rest-row-name-text'}):\n",
    "    r_names.append(entry.renderContents())"
   ]
  },
  {
   "cell_type": "code",
   "execution_count": 41,
   "metadata": {
    "collapsed": false
   },
   "outputs": [
    {
     "data": {
      "text/plain": [
       "['Harold Black',\n",
       " 'Centrolina',\n",
       " 'Chez Billy Sud',\n",
       " 'CIRCA at Foggy Bottom',\n",
       " 'Rasika',\n",
       " 'Ambar',\n",
       " 'Mokomandy',\n",
       " 'NoPa Kitchen + Bar (Washington D.C.)',\n",
       " 'Blue Duck Tavern',\n",
       " 'Osteria Morini DC',\n",
       " 'SEI restaurant &amp; lounge',\n",
       " 'Rasika West End',\n",
       " 'Ghibellina',\n",
       " 'Floriana',\n",
       " 'Peacock Caf\\xc3\\xa9',\n",
       " 'Medium Rare - Cleveland Park',\n",
       " \"Captain Gregory's\",\n",
       " 'Kingbird at The Watergate Hotel',\n",
       " 'Daikaya Izakaya (2F)',\n",
       " 'Bistrot Lepic &amp; Wine Bar']"
      ]
     },
     "execution_count": 41,
     "metadata": {},
     "output_type": "execute_result"
    }
   ],
   "source": [
    "r_names[0:20]"
   ]
  },
  {
   "cell_type": "markdown",
   "metadata": {},
   "source": [
    "### 6. Repeat this process but for location.\n",
    "\n",
    "For example, barmini by Jose Andres is in the location listed as \"Penn Quarter\" in our search results."
   ]
  },
  {
   "cell_type": "code",
   "execution_count": 42,
   "metadata": {
    "collapsed": false
   },
   "outputs": [
    {
     "name": "stdout",
     "output_type": "stream",
     "text": [
      "[<span class=\"rest-row-meta--location rest-row-meta-text\">Capitol Hill</span>, <span class=\"rest-row-meta--location rest-row-meta-text\">Downtown</span>, <span class=\"rest-row-meta--location rest-row-meta-text\">Georgetown</span>, <span class=\"rest-row-meta--location rest-row-meta-text\">Foggy Bottom</span>, <span class=\"rest-row-meta--location rest-row-meta-text\">Penn Quarter</span>]\n"
     ]
    }
   ],
   "source": [
    "# first, see if you can identify the location for all elements -- print it out\n",
    "print soup.find_all('span', {'class': 'rest-row-meta--location rest-row-meta-text'})[0:5]"
   ]
  },
  {
   "cell_type": "code",
   "execution_count": 43,
   "metadata": {
    "collapsed": false
   },
   "outputs": [
    {
     "data": {
      "text/plain": [
       "['Capitol Hill',\n",
       " 'Downtown',\n",
       " 'Georgetown',\n",
       " 'Foggy Bottom',\n",
       " 'Penn Quarter',\n",
       " 'Capitol Hill',\n",
       " 'Sterling',\n",
       " 'Penn Quarter',\n",
       " 'West End',\n",
       " 'Navy Yard']"
      ]
     },
     "execution_count": 43,
     "metadata": {},
     "output_type": "execute_result"
    }
   ],
   "source": [
    "r_loc = []\n",
    "for entry in soup.find_all('span', {'class': 'rest-row-meta--location rest-row-meta-text'}):\n",
    "    r_loc.append(entry.renderContents())\n",
    "    \n",
    "r_loc[0:10]"
   ]
  },
  {
   "cell_type": "markdown",
   "metadata": {},
   "source": [
    "### 7. Get the price for each restaurant.\n",
    "\n",
    "The price is number of dollar signs on a scale of one to four for each restaurant. We'll follow the same process."
   ]
  },
  {
   "cell_type": "code",
   "execution_count": 44,
   "metadata": {
    "collapsed": false
   },
   "outputs": [
    {
     "name": "stdout",
     "output_type": "stream",
     "text": [
      "[<div class=\"rest-row-pricing\"> <i>  $    $      </i>   $    $      </div>, <div class=\"rest-row-pricing\"> <i>  $    $      </i>   $    $      </div>, <div class=\"rest-row-pricing\"> <i>  $    $      </i>   $    $      </div>, <div class=\"rest-row-pricing\"> <i>  $    $      </i>   $    $      </div>, <div class=\"rest-row-pricing\"> <i>  $    $    $    </i>   $        </div>]\n"
     ]
    }
   ],
   "source": [
    "# print out all prices\n",
    "print soup.find_all('div', {'class': 'rest-row-pricing'})[0:5]"
   ]
  },
  {
   "cell_type": "code",
   "execution_count": 45,
   "metadata": {
    "collapsed": false
   },
   "outputs": [
    {
     "data": {
      "text/plain": [
       "['  $    $      ',\n",
       " '  $    $      ',\n",
       " '  $    $      ',\n",
       " '  $    $      ',\n",
       " '  $    $    $    ',\n",
       " '  $    $      ',\n",
       " '  $    $      ',\n",
       " '  $    $      ',\n",
       " '  $    $    $    ',\n",
       " '  $    $      ']"
      ]
     },
     "execution_count": 45,
     "metadata": {},
     "output_type": "execute_result"
    }
   ],
   "source": [
    "r_dollars = []\n",
    "# get EACH number of dollar signs per restaurant\n",
    "# this one is trickier to eliminate the html. Hint: try a nested find\n",
    "for entry in soup.find_all('div', {'class': 'rest-row-pricing'}):\n",
    "    r_dollars.append(entry.find('i').renderContents())\n",
    "    \n",
    "r_dollars[0:10]"
   ]
  },
  {
   "cell_type": "markdown",
   "metadata": {},
   "source": [
    "**7.B Convert the dollar sign strings to a count of the number of dollar signs.**\n",
    "\n",
    "Can you figure out a way to simply print out the number of dollar signs per restaurant listed?"
   ]
  },
  {
   "cell_type": "code",
   "execution_count": 46,
   "metadata": {
    "collapsed": false
   },
   "outputs": [
    {
     "data": {
      "text/plain": [
       "[2, 2, 2, 2, 3, 2, 2, 2, 3, 2]"
      ]
     },
     "execution_count": 46,
     "metadata": {},
     "output_type": "execute_result"
    }
   ],
   "source": [
    "r_dollar_count = []\n",
    "\n",
    "for entry in soup.find_all('div', {'class': 'rest-row-pricing'}):\n",
    "    price = entry.find('i').renderContents()\n",
    "    r_dollar_count.append(price.count('$'))\n",
    "    \n",
    "r_dollar_count[0:10]"
   ]
  },
  {
   "cell_type": "markdown",
   "metadata": {},
   "source": [
    "### 8. Can you find the number of times a restaurant was booked.\n",
    "\n",
    "In the next cell, print out a sample of objects that contain the number of times the restaurant was booked.\n",
    "\n",
    "> *Note: if you can't, why do you think this is happening?*"
   ]
  },
  {
   "cell_type": "code",
   "execution_count": 47,
   "metadata": {
    "collapsed": false
   },
   "outputs": [
    {
     "name": "stdout",
     "output_type": "stream",
     "text": [
      "[]\n"
     ]
    }
   ],
   "source": [
    "# print out all objects that contain the number of times the restaurant was booked\n",
    "print soup.find_all('span', {'class': 'tadpole'})[0:20]"
   ]
  },
  {
   "cell_type": "markdown",
   "metadata": {},
   "source": [
    "That's weird -- an empty set. Did we find the wrong element? What's going on here? Discuss.\n",
    "\n",
    "How can we debug this? Any ideas?"
   ]
  },
  {
   "cell_type": "code",
   "execution_count": 48,
   "metadata": {
    "collapsed": false
   },
   "outputs": [
    {
     "name": "stdout",
     "output_type": "stream",
     "text": [
      "<span class=\"menu-list-link-meta\">3743</span>\n",
      "<span class=\"menu-list-link-meta\">809</span>\n",
      "<span class=\"menu-list-link-meta\">1810</span>\n",
      "<span class=\"menu-list-link-meta\">1124</span>\n",
      "<span itemprop=\"name\">Home</span>\n",
      "<span itemprop=\"item\"><span itemprop=\"name\">United States</span></span>\n",
      "<span itemprop=\"name\">United States</span>\n",
      "<span itemprop=\"name\">Washington, D.C. Area</span>\n",
      "<span class=\"filters\" data-target=\"Regions-filter-menu\"><span class=\"location-icon filter-icon\"></span> <span class=\"filter-list-title\">Regions</span> <span class=\"filter-count\"></span></span>\n",
      "<span class=\"location-icon filter-icon\"></span>\n",
      "<span class=\"filter-list-title\">Regions</span>\n",
      "<span class=\"filter-count\"></span>\n",
      "<span title=\"District of Columbia\"> District of Columbia </span>\n",
      "<span title=\"Maryland - DC Suburbs\"> Maryland - DC Suburbs </span>\n",
      "<span title=\"Virginia - DC Suburbs\"> Virginia - DC Suburbs </span>\n",
      "<span class=\"filters\" data-target=\"Cuisines-filter-menu\"><span class=\"cuisine-icon filter-icon\"></span> <span class=\"filter-list-title\">Cuisine</span> <span class=\"filter-count\"></span></span>\n",
      "<span class=\"cuisine-icon filter-icon\"></span>\n",
      "<span class=\"filter-list-title\">Cuisine</span>\n",
      "<span class=\"filter-count\"></span>\n",
      "<span title=\"All Cuisines\">All Cuisines</span>\n",
      "<span title=\"American\"> American </span>\n",
      "<span title=\"Italian\"> Italian </span>\n",
      "<span title=\"Steakhouse\"> Steakhouse </span>\n",
      "<span title=\"Seafood\"> Seafood </span>\n",
      "<span title=\"French\"> French </span>\n",
      "<span title=\"Indian\"> Indian </span>\n",
      "<span title=\"Mexican\"> Mexican </span>\n",
      "<span title=\"Japanese\"> Japanese </span>\n",
      "<span title=\"British\"> British </span>\n",
      "<span title=\"Chinese\"> Chinese </span>\n"
     ]
    }
   ],
   "source": [
    "# let's first try printing out all 'span' class objects\n",
    "for entry in soup.find_all('span')[0:30]:\n",
    "    print entry"
   ]
  },
  {
   "cell_type": "code",
   "execution_count": 49,
   "metadata": {
    "collapsed": true
   },
   "outputs": [],
   "source": [
    "# Can't find the booking count in the object. This requires javascript."
   ]
  },
  {
   "cell_type": "markdown",
   "metadata": {},
   "source": [
    "## Enter Selenium\n",
    "\n",
    "---\n",
    "\n",
    "Selenium is a headless browser. That means it enables us to mock human browsing behavior -- even waiting for JavaScript elements to load.\n",
    "\n",
    "If you do not already have Selenium installed, you can do so via pip. Simply: `pip install selenium`"
   ]
  },
  {
   "cell_type": "code",
   "execution_count": 50,
   "metadata": {
    "collapsed": false
   },
   "outputs": [],
   "source": [
    "# import\n",
    "from selenium import webdriver"
   ]
  },
  {
   "cell_type": "markdown",
   "metadata": {},
   "source": [
    "Selenium requires us to determine a default browser to run. I'm going to opt for Firefox, but Chromium is also a very common choice. http://selenium-python.readthedocs.io/faq.html"
   ]
  },
  {
   "cell_type": "markdown",
   "metadata": {
    "collapsed": true
   },
   "source": [
    "### 9. What is going to happen when I run the next cell?\n",
    "\n",
    "The chromedriver has been provided in the 'chromedriver' folder so no reason to download another."
   ]
  },
  {
   "cell_type": "code",
   "execution_count": 81,
   "metadata": {
    "collapsed": false
   },
   "outputs": [],
   "source": [
    "# create a driver called driver\n",
    "driver = webdriver.Chrome(executable_path=\"../chromedriver/chromedriver\")"
   ]
  },
  {
   "cell_type": "markdown",
   "metadata": {},
   "source": [
    "Pretty crazy, right? Let's close that driver. \n",
    "\n",
    "In case you're wondering. this should have opened up a new browswer window.  Check all of your desktop displays if you didn't see it automatically pop up. "
   ]
  },
  {
   "cell_type": "code",
   "execution_count": 82,
   "metadata": {
    "collapsed": false
   },
   "outputs": [],
   "source": [
    "# close it\n",
    "driver.close()"
   ]
  },
  {
   "cell_type": "markdown",
   "metadata": {},
   "source": [
    "### 10. Use the driver to visit `www.python.org`"
   ]
  },
  {
   "cell_type": "code",
   "execution_count": 53,
   "metadata": {
    "collapsed": false
   },
   "outputs": [],
   "source": [
    "# let's boot it up, and visit a URL of our choice\n",
    "driver = webdriver.Chrome(executable_path=\"../chromedriver/chromedriver\")\n",
    "driver.get(\"http://www.python.org\")"
   ]
  },
  {
   "cell_type": "markdown",
   "metadata": {},
   "source": [
    "Awesome. Now we're getting somewhere: programmatically controlling our browser like a human."
   ]
  },
  {
   "cell_type": "markdown",
   "metadata": {},
   "source": [
    "### 11. Visit the OpenTable page using the driver\n",
    "\n",
    "Let's return to our problem at hand. We need to visit the OpenTable listing for DC. Once there, we need to get the html to load. \n",
    "\n",
    "In the next cell, prove you can programmatically visit the page."
   ]
  },
  {
   "cell_type": "code",
   "execution_count": 54,
   "metadata": {
    "collapsed": true
   },
   "outputs": [],
   "source": [
    "# visit our OpenTable page\n",
    "driver = webdriver.Chrome(executable_path=\"../chromedriver/chromedriver\")\n",
    "driver.get(\"http://www.opentable.com/washington-dc-restaurant-listings\")\n",
    "# always good to check we've got the page we think we do\n",
    "assert \"OpenTable\" in driver.title"
   ]
  },
  {
   "cell_type": "markdown",
   "metadata": {},
   "source": [
    "### 12. Resolve the javascript issue using the driver and find the bookings.\n",
    "\n",
    "What we can do in this case is:\n",
    "1. Request that the page load\n",
    "2. wait one second\n",
    "3. grab the source html from the page \n",
    "\n",
    "Because the page should believe I'm visiting from a live connection on a browser client, the JavaScript should render to be a part of the page source. I can then grab the page source.\n",
    "\n",
    "**Once you have the HTML with the javascript rendered, repeat the processes above to find the bookings.**"
   ]
  },
  {
   "cell_type": "code",
   "execution_count": 55,
   "metadata": {
    "collapsed": true
   },
   "outputs": [],
   "source": [
    "# import sleep\n",
    "from time import sleep"
   ]
  },
  {
   "cell_type": "code",
   "execution_count": 56,
   "metadata": {
    "collapsed": true
   },
   "outputs": [],
   "source": [
    "# visit our relevant page\n",
    "driver = webdriver.Chrome(executable_path=\"../chromedriver/chromedriver\")\n",
    "driver.get(\"http://www.opentable.com/washington-dc-restaurant-listings\")\n",
    "# wait one second\n",
    "sleep(1)\n",
    "#grab the page source\n",
    "html = driver.page_source"
   ]
  },
  {
   "cell_type": "code",
   "execution_count": 57,
   "metadata": {
    "collapsed": false
   },
   "outputs": [],
   "source": [
    "# BeautifulSoup it!\n",
    "html = BeautifulSoup(html, 'lxml')"
   ]
  },
  {
   "cell_type": "code",
   "execution_count": 58,
   "metadata": {
    "collapsed": true
   },
   "outputs": [],
   "source": [
    "# Now, let's return to our earlier problem: how do we locate bookings on the page?"
   ]
  },
  {
   "cell_type": "code",
   "execution_count": 59,
   "metadata": {
    "collapsed": false
   },
   "outputs": [
    {
     "name": "stdout",
     "output_type": "stream",
     "text": [
      "[<div class=\"booking\"><span class=\"tadpole\"></span>Booked 44 times today</div>, <div class=\"booking\"><span class=\"tadpole\"></span>Booked 62 times today</div>, <div class=\"booking\"><span class=\"tadpole\"></span>Booked 45 times today</div>, <div class=\"booking\"><span class=\"tadpole\"></span>Booked 53 times today</div>, <div class=\"booking\"><span class=\"tadpole\"></span>Booked 150 times today</div>, <div class=\"booking\"><span class=\"tadpole\"></span>Booked 77 times today</div>, <div class=\"booking\"><span class=\"tadpole\"></span>Booked 15 times today</div>, <div class=\"booking\"><span class=\"tadpole\"></span>Booked 36 times today</div>, <div class=\"booking\"><span class=\"tadpole\"></span>Booked 129 times today</div>, <div class=\"booking\"><span class=\"tadpole\"></span>Booked 96 times today</div>]\n"
     ]
    }
   ],
   "source": [
    "# print out the number bookings for all restaurants\n",
    "print html.find_all('div', {'class':'booking'})[0:10]"
   ]
  },
  {
   "cell_type": "code",
   "execution_count": 61,
   "metadata": {
    "collapsed": false
   },
   "outputs": [
    {
     "data": {
      "text/plain": [
       "[u'Booked 44 times today',\n",
       " u'Booked 62 times today',\n",
       " u'Booked 45 times today',\n",
       " u'Booked 53 times today',\n",
       " u'Booked 150 times today',\n",
       " u'Booked 77 times today',\n",
       " u'Booked 15 times today',\n",
       " u'Booked 36 times today',\n",
       " u'Booked 129 times today',\n",
       " u'Booked 96 times today',\n",
       " u'Booked 26 times today',\n",
       " u'Booked 121 times today',\n",
       " u'Booked 66 times today',\n",
       " u'Booked 41 times today',\n",
       " u'Booked 23 times today']"
      ]
     },
     "execution_count": 61,
     "metadata": {},
     "output_type": "execute_result"
    }
   ],
   "source": [
    "r_bookings = []\n",
    "for booking in html.find_all('div', {'class':'booking'}):\n",
    "    r_bookings.append(booking.text)\n",
    "    \n",
    "r_bookings[0:15]"
   ]
  },
  {
   "cell_type": "code",
   "execution_count": 62,
   "metadata": {
    "collapsed": true
   },
   "outputs": [],
   "source": [
    "# We've succeeded!\n",
    "\n",
    "# But we can clean this up a little bit. \n",
    "# We're going to use regular expressions (regex) to grab only the \n",
    "# digits that are available in each of the text.\n",
    "\n",
    "# The best way to get good at regex is to, well, just keep trying and testing: http://pythex.org/"
   ]
  },
  {
   "cell_type": "code",
   "execution_count": 63,
   "metadata": {
    "collapsed": true
   },
   "outputs": [],
   "source": [
    "# import regex\n",
    "import re"
   ]
  },
  {
   "cell_type": "code",
   "execution_count": 64,
   "metadata": {
    "collapsed": true
   },
   "outputs": [],
   "source": [
    "# Given we haven't covered regex, I'll show you how to use the search function to match any given digit."
   ]
  },
  {
   "cell_type": "code",
   "execution_count": 65,
   "metadata": {
    "collapsed": false
   },
   "outputs": [
    {
     "data": {
      "text/plain": [
       "[44, 62, 45, 53, 150, 77, 15, 36, 129, 96, 26, 121, 66, 41, 23]"
      ]
     },
     "execution_count": 65,
     "metadata": {},
     "output_type": "execute_result"
    }
   ],
   "source": [
    "r_bookings_num = []\n",
    "# for each entry, grab the text\n",
    "for booking in html.find_all('div', {'class':'booking'}):\n",
    "    # match all digits\n",
    "    match = re.search(r'\\d+', booking.text)\n",
    "    # append if found\n",
    "    if match:\n",
    "        r_bookings_num.append(int(match.group()))\n",
    "    # otherwise 0\n",
    "    else:\n",
    "        r_bookings_num.append(0)\n",
    "        \n",
    "r_bookings_num[0:15]"
   ]
  },
  {
   "cell_type": "markdown",
   "metadata": {},
   "source": [
    "### 13. Can we get all of the items we want from the page in a single `find_all`?\n",
    "\n",
    "To be most efficient, we want to only do a single loop for each entry on the page. That means we want to find what element all of other other elements (name, location, price, bookings) is housed within. Where on the page is each entry located?"
   ]
  },
  {
   "cell_type": "code",
   "execution_count": 66,
   "metadata": {
    "collapsed": false
   },
   "outputs": [],
   "source": [
    "# print out all entries\n",
    "entries = html.find_all('div', {'class':'result content-section-list-row cf with-times'})"
   ]
  },
  {
   "cell_type": "markdown",
   "metadata": {},
   "source": [
    "### 14. Does every single entry have each element we want?"
   ]
  },
  {
   "cell_type": "code",
   "execution_count": 67,
   "metadata": {
    "collapsed": true
   },
   "outputs": [],
   "source": [
    "# I did this previously. I know for a fact that not every element has a \n",
    "# number of recent bookings. That's probably exactly why OpenTable houses \n",
    "# this in JavaScript: they want to continously update the number of bookings \n",
    "# with the most relevant number of values."
   ]
  },
  {
   "cell_type": "code",
   "execution_count": 68,
   "metadata": {
    "collapsed": false
   },
   "outputs": [
    {
     "name": "stdout",
     "output_type": "stream",
     "text": [
      "<div class=\"booking\"><span class=\"tadpole\"></span>Booked 44 times today</div>\n",
      "<div class=\"booking\"><span class=\"tadpole\"></span>Booked 62 times today</div>\n",
      "<div class=\"booking\"><span class=\"tadpole\"></span>Booked 45 times today</div>\n",
      "<div class=\"booking\"><span class=\"tadpole\"></span>Booked 53 times today</div>\n",
      "<div class=\"booking\"><span class=\"tadpole\"></span>Booked 150 times today</div>\n",
      "<div class=\"booking\"><span class=\"tadpole\"></span>Booked 77 times today</div>\n",
      "<div class=\"booking\"><span class=\"tadpole\"></span>Booked 15 times today</div>\n",
      "<div class=\"booking\"><span class=\"tadpole\"></span>Booked 36 times today</div>\n",
      "<div class=\"booking\"><span class=\"tadpole\"></span>Booked 129 times today</div>\n",
      "<div class=\"booking\"><span class=\"tadpole\"></span>Booked 96 times today</div>\n",
      "<div class=\"booking\"><span class=\"tadpole\"></span>Booked 26 times today</div>\n",
      "<div class=\"booking\"><span class=\"tadpole\"></span>Booked 121 times today</div>\n",
      "<div class=\"booking\"><span class=\"tadpole\"></span>Booked 66 times today</div>\n",
      "<div class=\"booking\"><span class=\"tadpole\"></span>Booked 41 times today</div>\n",
      "<div class=\"booking\"><span class=\"tadpole\"></span>Booked 23 times today</div>\n",
      "<div class=\"booking\"><span class=\"tadpole\"></span>Booked 6 times today</div>\n",
      "<div class=\"booking\"><span class=\"tadpole\"></span>Booked 18 times today</div>\n",
      "<div class=\"booking\"><span class=\"tadpole\"></span>Booked 41 times today</div>\n",
      "<div class=\"booking\"><span class=\"tadpole\"></span>Booked 63 times today</div>\n",
      "<div class=\"booking\"><span class=\"tadpole\"></span>Booked 16 times today</div>\n",
      "<div class=\"booking\"><span class=\"tadpole\"></span>Booked 11 times today</div>\n",
      "<div class=\"booking\"><span class=\"tadpole\"></span>Booked 18 times today</div>\n",
      "<div class=\"booking\"><span class=\"tadpole\"></span>Booked 344 times today</div>\n",
      "<div class=\"booking\"><span class=\"tadpole\"></span>Booked 40 times today</div>\n",
      "<div class=\"booking\"><span class=\"tadpole\"></span>Booked 25 times today</div>\n",
      "<div class=\"booking\"><span class=\"tadpole\"></span>Booked 67 times today</div>\n",
      "None\n",
      "<div class=\"booking\"><span class=\"tadpole\"></span>Booked 18 times today</div>\n",
      "<div class=\"booking\"><span class=\"tadpole\"></span>Booked 40 times today</div>\n",
      "<div class=\"booking\"><span class=\"tadpole\"></span>Booked 37 times today</div>\n",
      "<div class=\"booking\"><span class=\"tadpole\"></span>Booked 20 times today</div>\n",
      "<div class=\"booking\"><span class=\"tadpole\"></span>Booked 335 times today</div>\n",
      "<div class=\"booking\"><span class=\"tadpole\"></span>Booked 68 times today</div>\n",
      "<div class=\"booking\"><span class=\"tadpole\"></span>Booked 39 times today</div>\n",
      "<div class=\"booking\"><span class=\"tadpole\"></span>Booked 21 times today</div>\n",
      "<div class=\"booking\"><span class=\"tadpole\"></span>Booked 24 times today</div>\n",
      "<div class=\"booking\"><span class=\"tadpole\"></span>Booked 85 times today</div>\n",
      "<div class=\"booking\"><span class=\"tadpole\"></span>Booked 68 times today</div>\n",
      "<div class=\"booking\"><span class=\"tadpole\"></span>Booked 49 times today</div>\n",
      "<div class=\"booking\"><span class=\"tadpole\"></span>Booked 153 times today</div>\n",
      "<div class=\"booking\"><span class=\"tadpole\"></span>Booked 21 times today</div>\n",
      "<div class=\"booking\"><span class=\"tadpole\"></span>Booked 308 times today</div>\n",
      "<div class=\"booking\"><span class=\"tadpole\"></span>Booked 179 times today</div>\n",
      "<div class=\"booking\"><span class=\"tadpole\"></span>Booked 38 times today</div>\n",
      "<div class=\"booking\"><span class=\"tadpole\"></span>Booked 31 times today</div>\n",
      "<div class=\"booking\"><span class=\"tadpole\"></span>Booked 33 times today</div>\n",
      "<div class=\"booking\"><span class=\"tadpole\"></span>Booked 124 times today</div>\n",
      "<div class=\"booking\"><span class=\"tadpole\"></span>Booked 4 times today</div>\n",
      "<div class=\"booking\"><span class=\"tadpole\"></span>Booked 25 times today</div>\n",
      "<div class=\"booking\"><span class=\"tadpole\"></span>Booked 6 times today</div>\n"
     ]
    }
   ],
   "source": [
    "# what happens when a booking is not available?\n",
    "# print out some booking entries, using the identification code we wrote above\n",
    "for entry in html.find_all('div', {'class':'result content-section-list-row cf with-times'})[0:50]:\n",
    "    print entry.find('div', {'class':'booking'})"
   ]
  },
  {
   "cell_type": "markdown",
   "metadata": {},
   "source": [
    "### 15. Use python exceptions to handle cases when bookings aren't found.\n",
    "\n",
    "When a booking is not found, store `'ZERO'`."
   ]
  },
  {
   "cell_type": "code",
   "execution_count": 69,
   "metadata": {
    "collapsed": false
   },
   "outputs": [
    {
     "name": "stdout",
     "output_type": "stream",
     "text": [
      "3\n"
     ]
    }
   ],
   "source": [
    "# if we find the element we want, we print it. Otherwise, we print 'ZERO'\n",
    "entries = []\n",
    "for entry in html.find_all('div', {'class':'result content-section-list-row cf with-times'}):\n",
    "    try:\n",
    "        entries.append(entry.find('div', {'class':'booking'}).text)\n",
    "    except:\n",
    "        entries.append('ZERO')\n",
    "        \n",
    "print entries.count('ZERO')"
   ]
  },
  {
   "cell_type": "markdown",
   "metadata": {},
   "source": [
    "### 16. Putting it all together in a dataframe.\n",
    "\n",
    "**Loop through each entry. For each entry:**\n",
    "1. Grab the relevant information we want (name, location, price, bookings). \n",
    "2. Produce a dataframe with the columns \"name\",\"location\",\"price\",\"bookings\" that contains the 100 entries we would like."
   ]
  },
  {
   "cell_type": "code",
   "execution_count": 70,
   "metadata": {
    "collapsed": true
   },
   "outputs": [],
   "source": [
    "# I'm going to create my empty df first\n",
    "import pandas as pd\n",
    "dc_eats = pd.DataFrame(columns=[\"name\",\"location\",\"price\",\"bookings\"])"
   ]
  },
  {
   "cell_type": "code",
   "execution_count": 71,
   "metadata": {
    "collapsed": false
   },
   "outputs": [],
   "source": [
    "# loop through each entry\n",
    "for entry in html.find_all('div', {'class':'result content-section-list-row cf with-times'}):\n",
    "    # grab the name\n",
    "    name = entry.find('span', {'class': 'rest-row-name-text'}).text\n",
    "    # grab the location\n",
    "    location = entry.find('span', {'class': 'rest-row-meta--location rest-row-meta-text'}).renderContents()\n",
    "    # grab the price\n",
    "    price = entry.find('div', {'class': 'rest-row-pricing'}).find('i').renderContents().count('$')\n",
    "    # try to find the number of bookings\n",
    "    try:\n",
    "        temp = entry.find('div', {'class':'booking'}).text\n",
    "        match = re.search(r'\\d+', temp)\n",
    "        if match:\n",
    "            bookings = match.group()\n",
    "    except:\n",
    "        bookings = 'NA'\n",
    "    # add to df\n",
    "    dc_eats.loc[len(dc_eats)]=[name, location, price, bookings]"
   ]
  },
  {
   "cell_type": "code",
   "execution_count": 72,
   "metadata": {
    "collapsed": false
   },
   "outputs": [
    {
     "data": {
      "text/html": [
       "<div>\n",
       "<table border=\"1\" class=\"dataframe\">\n",
       "  <thead>\n",
       "    <tr style=\"text-align: right;\">\n",
       "      <th></th>\n",
       "      <th>name</th>\n",
       "      <th>location</th>\n",
       "      <th>price</th>\n",
       "      <th>bookings</th>\n",
       "    </tr>\n",
       "  </thead>\n",
       "  <tbody>\n",
       "    <tr>\n",
       "      <th>0</th>\n",
       "      <td>Harold Black</td>\n",
       "      <td>Capitol Hill</td>\n",
       "      <td>2.0</td>\n",
       "      <td>44</td>\n",
       "    </tr>\n",
       "    <tr>\n",
       "      <th>1</th>\n",
       "      <td>Centrolina</td>\n",
       "      <td>Downtown</td>\n",
       "      <td>2.0</td>\n",
       "      <td>62</td>\n",
       "    </tr>\n",
       "    <tr>\n",
       "      <th>2</th>\n",
       "      <td>Chez Billy Sud</td>\n",
       "      <td>Georgetown</td>\n",
       "      <td>2.0</td>\n",
       "      <td>45</td>\n",
       "    </tr>\n",
       "    <tr>\n",
       "      <th>3</th>\n",
       "      <td>CIRCA at Foggy Bottom</td>\n",
       "      <td>Foggy Bottom</td>\n",
       "      <td>2.0</td>\n",
       "      <td>53</td>\n",
       "    </tr>\n",
       "    <tr>\n",
       "      <th>4</th>\n",
       "      <td>Rasika</td>\n",
       "      <td>Penn Quarter</td>\n",
       "      <td>3.0</td>\n",
       "      <td>150</td>\n",
       "    </tr>\n",
       "  </tbody>\n",
       "</table>\n",
       "</div>"
      ],
      "text/plain": [
       "                    name      location  price bookings\n",
       "0           Harold Black  Capitol Hill    2.0       44\n",
       "1             Centrolina      Downtown    2.0       62\n",
       "2         Chez Billy Sud    Georgetown    2.0       45\n",
       "3  CIRCA at Foggy Bottom  Foggy Bottom    2.0       53\n",
       "4                 Rasika  Penn Quarter    3.0      150"
      ]
     },
     "execution_count": 72,
     "metadata": {},
     "output_type": "execute_result"
    }
   ],
   "source": [
    "# check out our work\n",
    "dc_eats.head()"
   ]
  },
  {
   "cell_type": "markdown",
   "metadata": {},
   "source": [
    "### 17. [Bonus] Sending keys over the driver.\n",
    "\n",
    "We can send keys to the page using the driver. Below is a demonstration of how to search the page using the Selenium driver."
   ]
  },
  {
   "cell_type": "code",
   "execution_count": 73,
   "metadata": {
    "collapsed": false
   },
   "outputs": [],
   "source": [
    "# we can send keys as well\n",
    "# import\n",
    "from selenium.webdriver.common.keys import Keys"
   ]
  },
  {
   "cell_type": "code",
   "execution_count": 75,
   "metadata": {
    "collapsed": false
   },
   "outputs": [],
   "source": [
    "# open the driver\n",
    "driver = webdriver.Chrome(executable_path=\"../chromedriver/chromedriver\")\n",
    "# visit Python\n",
    "driver.get(\"http://www.python.org\")\n",
    "# verify we're in the right place\n",
    "assert \"Python\" in driver.title"
   ]
  },
  {
   "cell_type": "code",
   "execution_count": 76,
   "metadata": {
    "collapsed": true
   },
   "outputs": [],
   "source": [
    "# find the search position\n",
    "elem = driver.find_element_by_name(\"q\")\n",
    "# clear it\n",
    "elem.clear()\n",
    "# type in pycon\n",
    "elem.send_keys(\"pycon\")\n"
   ]
  },
  {
   "cell_type": "code",
   "execution_count": 77,
   "metadata": {
    "collapsed": true
   },
   "outputs": [],
   "source": [
    "# send those keys\n",
    "elem.send_keys(Keys.RETURN)\n",
    "# no results\n",
    "assert \"No results found.\" not in driver.page_source"
   ]
  },
  {
   "cell_type": "code",
   "execution_count": 78,
   "metadata": {
    "collapsed": true
   },
   "outputs": [],
   "source": [
    "# close\n",
    "driver.close()"
   ]
  },
  {
   "cell_type": "code",
   "execution_count": 80,
   "metadata": {
    "collapsed": false
   },
   "outputs": [],
   "source": [
    "# all at once:\n",
    "driver = webdriver.Chrome(executable_path=\"../chromedriver/chromedriver\")\n",
    "driver.get(\"http://www.python.org\")\n",
    "assert \"Python\" in driver.title\n",
    "elem = driver.find_element_by_name(\"q\")\n",
    "elem.clear()\n",
    "elem.send_keys(\"pycon\")\n",
    "elem.send_keys(Keys.RETURN)\n",
    "assert \"No results found.\" not in driver.page_source\n",
    "driver.close()"
   ]
  },
  {
   "cell_type": "markdown",
   "metadata": {},
   "source": [
    "## Additional resources\n",
    "\n",
    "---\n",
    "\n",
    "The above example (and many others) are available in the Selenium docs: http://selenium-python.readthedocs.io/getting-started.html\n",
    "\n",
    "What is especially important is exploring functionality like locating elements: http://selenium-python.readthedocs.io/locating-elements.html#locating-elements\n",
    "\n",
    "FAQ:\n",
    "http://selenium-python.readthedocs.io/faq.html"
   ]
  }
 ],
 "metadata": {
  "kernelspec": {
   "display_name": "Python 2",
   "language": "python",
   "name": "python2"
  },
  "language_info": {
   "codemirror_mode": {
    "name": "ipython",
    "version": 2
   },
   "file_extension": ".py",
   "mimetype": "text/x-python",
   "name": "python",
   "nbconvert_exporter": "python",
   "pygments_lexer": "ipython2",
   "version": "2.7.13"
  }
 },
 "nbformat": 4,
 "nbformat_minor": 0
}
