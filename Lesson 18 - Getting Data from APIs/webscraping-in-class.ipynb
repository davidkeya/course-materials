{
 "cells": [
  {
   "cell_type": "markdown",
   "metadata": {
    "collapsed": true
   },
   "source": [
    "<img src=\"http://imgur.com/1ZcRyrc.png\" style=\"float: left; margin: 20px; height: 55px\">\n",
    "\n",
    "# Web Scraping\n",
    "\n",
    "_Author: Dave Yerrington (SF)_\n",
    "\n",
    "---"
   ]
  },
  {
   "cell_type": "markdown",
   "metadata": {},
   "source": [
    "## Before Class\n",
    "\n",
    "#### Install Selenium\n",
    "\n",
    "Selenium is a headless browser. It allows us to render JavaScript just as a human-navigated browser would.\n",
    "\n",
    "To install Selenium, use one of the following:\n",
    "- **Anaconda:** `conda install -c conda-forge selenium`\n",
    "- **pip:** `pip install selenium`\n",
    "\n",
    "\n",
    "#### Install GeckoDriver\n",
    "\n",
    "You will also need GeckoDriver (this assumes you are using Homebrew for Mac): \n",
    "\n",
    "- ```brew install geckodriver```\n",
    "\n",
    "#### Install Firefox\n",
    "\n",
    "Additionally, you will need to have downloaded the [Firefox browser](https://www.mozilla.org/en-US/firefox/new/?utm_source=google&utm_medium=cpc&utm_campaign=Firefox-Brand-US-GGL-Exact&utm_term=firefox&utm_content=A144_A203_A006336&gclid=Cj0KEQjwnPLKBRC-j7nt1b7OlZwBEiQAv8lMLJUyReT6cPzSYdmEA6uD3YDoieuuuusddgAU7XH6smEaAoje8P8HAQ&gclsrc=aw.ds) for the application in this lesson."
   ]
  },
  {
   "cell_type": "markdown",
   "metadata": {},
   "source": [
    "## Learning Objectives\n",
    "- Revisit how to locate elements on a webpage\n",
    "- Aquire unstructure data from the internet using Beautiful soup.\n",
    "- Discuss limitations associated with simple requests and urllib libraries\n",
    "- Introduce Selenium as a solution, and implement a scraper using selenium"
   ]
  },
  {
   "cell_type": "markdown",
   "metadata": {},
   "source": [
    "## Lesson Guide\n",
    "\n",
    "- [Introduction](#intro)\n",
    "- [Building a web scraper](#building-scraper)\n",
    "- [Retrieving data from the HTML page](#retrieving-data)\n",
    "    - [Retrieving the restaurant names](#retrieving-names)\n",
    "    - [Challenge: Retrieving the restaurant locations](#retrieving-locations)\n",
    "    - [Retrieving the restaurant prices](#retrieving-prices)\n",
    "    - [Retrieving the restaurant number of bookings](#retrieving-bookings)\n",
    "\n",
    "\n",
    "- [Introducting Selenium](#selenium)\n",
    "    - [Running JavaScript before scraping](#selenium-js)\n",
    "    - [Using regex to only get digits](#selenium-regex)\n",
    "    - [Challenge: Use Pandas to create a DataFrame of bookings](#challenge-pandas)\n",
    "    - [Auto-typing using Selenium](#selenium-typing)\n",
    "\n",
    "\n",
    "- [Summary](#summary)"
   ]
  },
  {
   "cell_type": "markdown",
   "metadata": {},
   "source": [
    "<a id=\"intro\"></a>\n",
    "## Introduction\n",
    "\n",
    "In this codealong lesson, we'll build a web scraper using urllib and BeautifulSoup. We will also explore how to use a headless browser called Selenium.\n",
    "\n",
    "We'll begin by scraping OpenTable's DC listings. We're interested in knowing the restaurant's **name, location, price, and how many people booked it today.**\n",
    "\n",
    "OpenTable provides all of this information on this given page: http://www.opentable.com/washington-dc-restaurant-listings\n",
    "\n",
    "Let's inspect the elements of this page to assure we can find each of the bits of information in which we're interested.\n",
    "\n",
    "---"
   ]
  },
  {
   "cell_type": "markdown",
   "metadata": {},
   "source": [
    "<a id=\"building-scraper\"></a>\n",
    "## Building a web scraper\n",
    "\n",
    "Now, let's build a web scraper for OpenTable using urllib and Beautiful Soup:"
   ]
  },
  {
   "cell_type": "code",
   "execution_count": 1,
   "metadata": {
    "collapsed": true,
    "scrolled": false
   },
   "outputs": [],
   "source": [
    "# import our necessary first packages\n",
    "from bs4 import BeautifulSoup\n",
    "import urllib"
   ]
  },
  {
   "cell_type": "code",
   "execution_count": 2,
   "metadata": {
    "collapsed": true
   },
   "outputs": [],
   "source": [
    "# set the url we want to visit\n",
    "url = \"http://www.opentable.com/washington-dc-restaurant-listings\"\n",
    "\n",
    "# visit that url, and grab the html of said page\n",
    "html = urllib.urlopen(url).read()"
   ]
  },
  {
   "cell_type": "markdown",
   "metadata": {},
   "source": [
    "At this point, what is in html?"
   ]
  },
  {
   "cell_type": "code",
   "execution_count": 3,
   "metadata": {},
   "outputs": [
    {
     "data": {
      "text/plain": [
       "'          <!DOCTYPE html><html lang=\"en\"><head><meta charset=\"utf-8\"/><meta http-equiv=\"X-UA-Compatible\" content=\"IE=9; IE=8; IE=7; IE=EDGE\"/> <title>Washington, D.C. Area Restaurants List | OpenTable</title>  <meta  name=\"description\" content=\"Find Washington, D.C. Area restaurants. Search by location, cuisine, or price to refine restaurant results in the Washington, D.C. Area area.\" > </meta>  <meta  name=\"robots\" content=\"noindex\" > </meta>     <link rel=\"shortcut icon\" href=\"//components.ots'"
      ]
     },
     "execution_count": 3,
     "metadata": {},
     "output_type": "execute_result"
    }
   ],
   "source": [
    "html[:500]"
   ]
  },
  {
   "cell_type": "markdown",
   "metadata": {},
   "source": [
    "We will need to convert this html objct into a soup object so we can parse it using python and BS4"
   ]
  },
  {
   "cell_type": "code",
   "execution_count": 4,
   "metadata": {
    "collapsed": true
   },
   "outputs": [],
   "source": [
    "# convert this into a soup object\n",
    "soup = BeautifulSoup(html, 'html.parser', from_encoding=\"utf-8\")"
   ]
  },
  {
   "cell_type": "markdown",
   "metadata": {},
   "source": [
    "<a id=\"retrieving-data\"></a>\n",
    "### Retrieving data from the HTML page"
   ]
  },
  {
   "cell_type": "markdown",
   "metadata": {},
   "source": [
    "Let's first find each restaurant name listed on the page we've loaded. How do we find the page location of the restaurant? (Hint: We need to know where in the **HTML** the restaurant element is housed.) In order to find the HTML that renders the restaurant location, we can use Google Chrome's Inspect tool:\n",
    "\n",
    "> http://www.opentable.com/washington-dc-restaurant-listings\n",
    "\n",
    "> 1. Visit the URL above. \n",
    "\n",
    "> 2. Right-click on an element you are interested in, then choose Inspect (in Chrome). \n",
    "\n",
    "> 3. This will open the Developer Tools and show the HTML used to render the selected page element. \n",
    "\n",
    "> Throughout this lesson, we will use this method to find tags associated with elements of the page we want to scrape.\n",
    "\n",
    "See if you can find the restaurant name on the page. Keep in mind there are many restaurants loaded on the page."
   ]
  },
  {
   "cell_type": "code",
   "execution_count": 5,
   "metadata": {
    "scrolled": true
   },
   "outputs": [
    {
     "data": {
      "text/plain": [
       "[<span class=\"rest-row-name-text\">Ruffino's - Arlington</span>,\n",
       " <span class=\"rest-row-name-text\">Joe's Place Pizza and Pasta</span>,\n",
       " <span class=\"rest-row-name-text\">Founding Farmers - DC</span>,\n",
       " <span class=\"rest-row-name-text\">Farmers Fishers Bakers</span>,\n",
       " <span class=\"rest-row-name-text\">Filomena Ristorante</span>,\n",
       " <span class=\"rest-row-name-text\">Ambar - Arlington</span>,\n",
       " <span class=\"rest-row-name-text\">Rasika West End</span>,\n",
       " <span class=\"rest-row-name-text\">Blue Duck Tavern</span>,\n",
       " <span class=\"rest-row-name-text\">Founding Farmers - Tysons</span>,\n",
       " <span class=\"rest-row-name-text\">BlackSalt</span>,\n",
       " <span class=\"rest-row-name-text\">Kapnos Taverna Arlington</span>,\n",
       " <span class=\"rest-row-name-text\">Et Voila</span>,\n",
       " <span class=\"rest-row-name-text\">Tupelo Honey - Arlington</span>,\n",
       " <span class=\"rest-row-name-text\">SER</span>,\n",
       " <span class=\"rest-row-name-text\">The Melting Pot - Arlington VA</span>,\n",
       " <span class=\"rest-row-name-text\">1789 Restaurant</span>,\n",
       " <span class=\"rest-row-name-text\">The Liberty Tavern</span>,\n",
       " <span class=\"rest-row-name-text\">Chez Billy Sud</span>,\n",
       " <span class=\"rest-row-name-text\">Ray's The Steaks</span>,\n",
       " <span class=\"rest-row-name-text\">Lyon Hall</span>,\n",
       " <span class=\"rest-row-name-text\">Bistro Aracosia</span>,\n",
       " <span class=\"rest-row-name-text\">Baba</span>,\n",
       " <span class=\"rest-row-name-text\">Green Pig Bistro</span>,\n",
       " <span class=\"rest-row-name-text\">Nobu DC</span>,\n",
       " <span class=\"rest-row-name-text\">CIRCA at Clarendon</span>,\n",
       " <span class=\"rest-row-name-text\">Eddie V's - Tysons Corner</span>,\n",
       " <span class=\"rest-row-name-text\">Il Canale</span>,\n",
       " <span class=\"rest-row-name-text\">Bourbon Steak - Four Seasons Washington DC</span>,\n",
       " <span class=\"rest-row-name-text\">J. Gilbert\\u2019s \\u2013 Wood Fired Steaks &amp; Seafood - McLean</span>,\n",
       " <span class=\"rest-row-name-text\">Clyde's of Georgetown</span>,\n",
       " <span class=\"rest-row-name-text\">Boqueria - DC</span>,\n",
       " <span class=\"rest-row-name-text\">Caf\\xe9 Milano</span>,\n",
       " <span class=\"rest-row-name-text\">Uncle Julio's - Arlington/ Ballston</span>,\n",
       " <span class=\"rest-row-name-text\">District Commons</span>,\n",
       " <span class=\"rest-row-name-text\">Rustico - Ballston</span>,\n",
       " <span class=\"rest-row-name-text\">Texas Jacks Barbecue</span>,\n",
       " <span class=\"rest-row-name-text\">Honeysuckle</span>,\n",
       " <span class=\"rest-row-name-text\">Mussel Bar &amp; Grille - Arlington</span>,\n",
       " <span class=\"rest-row-name-text\">Kingbird at The Watergate Hotel</span>,\n",
       " <span class=\"rest-row-name-text\">Cheesetique - Ballston</span>,\n",
       " <span class=\"rest-row-name-text\">Barley Mac</span>,\n",
       " <span class=\"rest-row-name-text\">El Centro D.F. - Georgetown</span>,\n",
       " <span class=\"rest-row-name-text\">La Cote D'Or</span>,\n",
       " <span class=\"rest-row-name-text\">CIRCA at Foggy Bottom</span>,\n",
       " <span class=\"rest-row-name-text\">Seasons 52 - Tysons Corner</span>,\n",
       " <span class=\"rest-row-name-text\">Pamplona</span>,\n",
       " <span class=\"rest-row-name-text\">Yayla Bistro</span>,\n",
       " <span class=\"rest-row-name-text\">Peacock Caf\\xe9</span>,\n",
       " <span class=\"rest-row-name-text\">Grand Cru Wine Bar &amp; Bistro</span>,\n",
       " <span class=\"rest-row-name-text\">The Capital Grille - Chevy Chase</span>,\n",
       " <span class=\"rest-row-name-text\">2941 Restaurant</span>,\n",
       " <span class=\"rest-row-name-text\">Sequoia</span>,\n",
       " <span class=\"rest-row-name-text\">La Piquette</span>,\n",
       " <span class=\"rest-row-name-text\">Marcel's by Robert Wiedmaier</span>,\n",
       " <span class=\"rest-row-name-text\">Fogo de Chao Brazilian Steakhouse - Tyson's</span>,\n",
       " <span class=\"rest-row-name-text\">La Chaumiere</span>,\n",
       " <span class=\"rest-row-name-text\">The Sovereign</span>,\n",
       " <span class=\"rest-row-name-text\">Teddy &amp; The Bully Bar</span>,\n",
       " <span class=\"rest-row-name-text\">The Capital Grille - Tysons Corner</span>,\n",
       " <span class=\"rest-row-name-text\">Silver - Cathedral Commons</span>,\n",
       " <span class=\"rest-row-name-text\">Yona</span>,\n",
       " <span class=\"rest-row-name-text\">Fire Works - Arlington</span>,\n",
       " <span class=\"rest-row-name-text\">Firefly - DC</span>,\n",
       " <span class=\"rest-row-name-text\">The Palm Washington DC</span>,\n",
       " <span class=\"rest-row-name-text\">Chef Geoff's (New Mexico Ave.)</span>,\n",
       " <span class=\"rest-row-name-text\">Earls Kitchen + Bar - Tysons Corner</span>,\n",
       " <span class=\"rest-row-name-text\">Nostos Restaurant</span>,\n",
       " <span class=\"rest-row-name-text\">Chima -Tysons Corner</span>,\n",
       " <span class=\"rest-row-name-text\">Bistrot Lepic &amp; Wine Bar</span>,\n",
       " <span class=\"rest-row-name-text\">Pinstripes - Georgetown</span>,\n",
       " <span class=\"rest-row-name-text\">Ristorante Piccolo</span>,\n",
       " <span class=\"rest-row-name-text\">Mad Fox Brewing Company</span>,\n",
       " <span class=\"rest-row-name-text\">Roof Terrace Restaurant &amp; Bar</span>,\n",
       " <span class=\"rest-row-name-text\">Mala Tang</span>,\n",
       " <span class=\"rest-row-name-text\">MeJana</span>,\n",
       " <span class=\"rest-row-name-text\">Seasons Restaurant - Four Seasons Washington DC</span>,\n",
       " <span class=\"rest-row-name-text\">Medium Rare - Cleveland Park</span>,\n",
       " <span class=\"rest-row-name-text\">Il Radicchio</span>,\n",
       " <span class=\"rest-row-name-text\">Copperwood Tavern</span>,\n",
       " <span class=\"rest-row-name-text\">J. Paul's - Georgetown</span>,\n",
       " <span class=\"rest-row-name-text\">Lebanese Taverna - Westover</span>,\n",
       " <span class=\"rest-row-name-text\">TenPenh - Tysons</span>,\n",
       " <span class=\"rest-row-name-text\">Mission</span>,\n",
       " <span class=\"rest-row-name-text\">The Alex Craft Cocktail Cellar &amp; Speakeasy</span>,\n",
       " <span class=\"rest-row-name-text\">RIS</span>,\n",
       " <span class=\"rest-row-name-text\">Barrel &amp; Bushel</span>,\n",
       " <span class=\"rest-row-name-text\">Clyde's of Chevy Chase</span>,\n",
       " <span class=\"rest-row-name-text\">Essy's Carriage House</span>,\n",
       " <span class=\"rest-row-name-text\">Assaggi Osteria</span>,\n",
       " <span class=\"rest-row-name-text\">The Palm Tysons Corner</span>,\n",
       " <span class=\"rest-row-name-text\">Oz Restaurant and Bar</span>,\n",
       " <span class=\"rest-row-name-text\">Pepita Cantina</span>,\n",
       " <span class=\"rest-row-name-text\">Chef Geoff's Tysons</span>,\n",
       " <span class=\"rest-row-name-text\">Sushiko - Chevy Chase</span>,\n",
       " <span class=\"rest-row-name-text\">Ristorante La Perla of Washington</span>,\n",
       " <span class=\"rest-row-name-text\">The Prime Rib</span>,\n",
       " <span class=\"rest-row-name-text\">Al Tiramisu</span>,\n",
       " <span class=\"rest-row-name-text\">Millie's</span>,\n",
       " <span class=\"rest-row-name-text\">Tony &amp; Joe's Seafood Place</span>,\n",
       " <span class=\"rest-row-name-text\">Kona Grill - Arlington</span>]"
      ]
     },
     "execution_count": 5,
     "metadata": {},
     "output_type": "execute_result"
    }
   ],
   "source": [
    "# print the restaurant names\n",
    "soup.find_all(name='span', attrs={'class':'rest-row-name-text'})"
   ]
  },
  {
   "cell_type": "markdown",
   "metadata": {},
   "source": [
    "It is important to always keep in mind the data types that were returned. Note this is a `list`, and we know that immediately by observing the outer square brackets and commas separating each tag.\n",
    "\n",
    "Next, note the elements of the list are `Tag` objects, not strings. (If they were strings, they would be surrounded by quotes.) The Beautiful Soup authors chose to display a `Tag` object visually as a text representation of the tag and its contents. However, being an object, it has many methods that we can call on it. For example, next we will use the `encode_contents()` method to return the tag's contents encoded as a Python string.\n",
    "\n",
    "<a id=\"retrieving-names\"></a>\n",
    "#### Retrieving the restaurant names\n",
    "\n",
    "Now that we found a list of tags containing the restaurant names, let's think how we can loop through them all one-by-one. In the following cell, we'll print out the name (and **only** the clean name, not the rest of the html) of each restaurant."
   ]
  },
  {
   "cell_type": "code",
   "execution_count": 6,
   "metadata": {},
   "outputs": [
    {
     "name": "stdout",
     "output_type": "stream",
     "text": [
      "Ruffino's - Arlington\n",
      "Joe's Place Pizza and Pasta\n",
      "Founding Farmers - DC\n",
      "Farmers Fishers Bakers\n",
      "Filomena Ristorante\n",
      "Ambar - Arlington\n",
      "Rasika West End\n",
      "Blue Duck Tavern\n",
      "Founding Farmers - Tysons\n",
      "BlackSalt\n",
      "Kapnos Taverna Arlington\n",
      "Et Voila\n",
      "Tupelo Honey - Arlington\n",
      "SER\n",
      "The Melting Pot - Arlington VA\n",
      "1789 Restaurant\n",
      "The Liberty Tavern\n",
      "Chez Billy Sud\n",
      "Ray's The Steaks\n",
      "Lyon Hall\n",
      "Bistro Aracosia\n",
      "Baba\n",
      "Green Pig Bistro\n",
      "Nobu DC\n",
      "CIRCA at Clarendon\n",
      "Eddie V's - Tysons Corner\n",
      "Il Canale\n",
      "Bourbon Steak - Four Seasons Washington DC\n",
      "J. Gilbert’s – Wood Fired Steaks &amp; Seafood - McLean\n",
      "Clyde's of Georgetown\n",
      "Boqueria - DC\n",
      "Café Milano\n",
      "Uncle Julio's - Arlington/ Ballston\n",
      "District Commons\n",
      "Rustico - Ballston\n",
      "Texas Jacks Barbecue\n",
      "Honeysuckle\n",
      "Mussel Bar &amp; Grille - Arlington\n",
      "Kingbird at The Watergate Hotel\n",
      "Cheesetique - Ballston\n",
      "Barley Mac\n",
      "El Centro D.F. - Georgetown\n",
      "La Cote D'Or\n",
      "CIRCA at Foggy Bottom\n",
      "Seasons 52 - Tysons Corner\n",
      "Pamplona\n",
      "Yayla Bistro\n",
      "Peacock Café\n",
      "Grand Cru Wine Bar &amp; Bistro\n",
      "The Capital Grille - Chevy Chase\n",
      "2941 Restaurant\n",
      "Sequoia\n",
      "La Piquette\n",
      "Marcel's by Robert Wiedmaier\n",
      "Fogo de Chao Brazilian Steakhouse - Tyson's\n",
      "La Chaumiere\n",
      "The Sovereign\n",
      "Teddy &amp; The Bully Bar\n",
      "The Capital Grille - Tysons Corner\n",
      "Silver - Cathedral Commons\n",
      "Yona\n",
      "Fire Works - Arlington\n",
      "Firefly - DC\n",
      "The Palm Washington DC\n",
      "Chef Geoff's (New Mexico Ave.)\n",
      "Earls Kitchen + Bar - Tysons Corner\n",
      "Nostos Restaurant\n",
      "Chima -Tysons Corner\n",
      "Bistrot Lepic &amp; Wine Bar\n",
      "Pinstripes - Georgetown\n",
      "Ristorante Piccolo\n",
      "Mad Fox Brewing Company\n",
      "Roof Terrace Restaurant &amp; Bar\n",
      "Mala Tang\n",
      "MeJana\n",
      "Seasons Restaurant - Four Seasons Washington DC\n",
      "Medium Rare - Cleveland Park\n",
      "Il Radicchio\n",
      "Copperwood Tavern\n",
      "J. Paul's - Georgetown\n",
      "Lebanese Taverna - Westover\n",
      "TenPenh - Tysons\n",
      "Mission\n",
      "The Alex Craft Cocktail Cellar &amp; Speakeasy\n",
      "RIS\n",
      "Barrel &amp; Bushel\n",
      "Clyde's of Chevy Chase\n",
      "Essy's Carriage House\n",
      "Assaggi Osteria\n",
      "The Palm Tysons Corner\n",
      "Oz Restaurant and Bar\n",
      "Pepita Cantina\n",
      "Chef Geoff's Tysons\n",
      "Sushiko - Chevy Chase\n",
      "Ristorante La Perla of Washington\n",
      "The Prime Rib\n",
      "Al Tiramisu\n",
      "Millie's\n",
      "Tony &amp; Joe's Seafood Place\n",
      "Kona Grill - Arlington\n"
     ]
    }
   ],
   "source": [
    "# for each element you find, print out the restaurant name\n",
    "for entry in soup.find_all(name='span', attrs={'class':'rest-row-name-text'}):\n",
    "    print entry.encode_contents()"
   ]
  },
  {
   "cell_type": "markdown",
   "metadata": {},
   "source": [
    "Great!\n",
    "\n",
    "<a id=\"retrieving-locations\"></a>\n",
    "#### Challenge: Retrieving the restaurant locations\n",
    "\n",
    "Can you repeat that process for finding the location? For example, barmini by Jose Andres is in the location listed as \"Penn Quarter\" in our search results."
   ]
  },
  {
   "cell_type": "code",
   "execution_count": 51,
   "metadata": {},
   "outputs": [],
   "source": [
    "# first, see if you can identify the location for all elements -- print it out\n",
    "# soup.find_all(name='span', attrs={'class':'rest-row-meta--location'})"
   ]
  },
  {
   "cell_type": "code",
   "execution_count": 53,
   "metadata": {},
   "outputs": [
    {
     "name": "stdout",
     "output_type": "stream",
     "text": [
      "Ruffino's - Arlington\n",
      "Arlington\n",
      "Joe's Place Pizza and Pasta\n",
      "Arlington\n",
      "Founding Farmers - DC\n",
      "Foggy Bottom\n",
      "Farmers Fishers Bakers\n",
      "Georgetown\n",
      "Filomena Ristorante\n",
      "Georgetown\n",
      "Ambar - Arlington\n",
      "Arlington\n",
      "Rasika West End\n",
      "West End\n",
      "Blue Duck Tavern\n",
      "West End\n",
      "Founding Farmers - Tysons\n",
      "Tysons Corner / McLean\n",
      "BlackSalt\n",
      "Palisades Northwest\n",
      "Kapnos Taverna Arlington\n",
      "Arlington\n",
      "Et Voila\n",
      "Palisades Northwest\n",
      "Tupelo Honey - Arlington\n",
      "Arlington\n",
      "SER\n",
      "Arlington\n",
      "The Melting Pot - Arlington VA\n",
      "Arlington\n",
      "1789 Restaurant\n",
      "Georgetown\n",
      "The Liberty Tavern\n",
      "Arlington\n",
      "Chez Billy Sud\n",
      "Georgetown\n",
      "Ray's The Steaks\n",
      "Arlington\n",
      "Lyon Hall\n",
      "Arlington\n",
      "Bistro Aracosia\n",
      "Palisades Northwest\n",
      "Baba\n",
      "Arlington\n",
      "Green Pig Bistro\n",
      "Arlington\n",
      "Nobu DC\n",
      "Washington\n",
      "CIRCA at Clarendon\n",
      "Arlington\n",
      "Eddie V's - Tysons Corner\n",
      "Tysons Corner / McLean\n",
      "Il Canale\n",
      "Georgetown\n",
      "Bourbon Steak - Four Seasons Washington DC\n",
      "Georgetown\n",
      "J. Gilbert’s – Wood Fired Steaks &amp; Seafood - McLean\n",
      "McLean\n",
      "Clyde's of Georgetown\n",
      "Georgetown\n",
      "Boqueria - DC\n",
      "Dupont Circle\n",
      "Café Milano\n",
      "Georgetown\n",
      "Uncle Julio's - Arlington/ Ballston\n",
      "Arlington\n",
      "District Commons\n",
      "Foggy Bottom\n",
      "Rustico - Ballston\n",
      "Arlington\n",
      "Texas Jacks Barbecue\n",
      "Arlington\n",
      "Honeysuckle\n",
      "Downtown\n",
      "Mussel Bar &amp; Grille - Arlington\n",
      "Arlington\n",
      "Kingbird at The Watergate Hotel\n",
      "Foggy Bottom\n",
      "Cheesetique - Ballston\n",
      "Arlington\n",
      "Barley Mac\n",
      "Arlington\n",
      "El Centro D.F. - Georgetown\n",
      "Georgetown\n",
      "La Cote D'Or\n",
      "Arlington\n",
      "CIRCA at Foggy Bottom\n",
      "Foggy Bottom\n",
      "Seasons 52 - Tysons Corner\n",
      "Tysons Corner / McLean\n",
      "Pamplona\n",
      "Arlington\n",
      "Yayla Bistro\n",
      "Arlington\n",
      "Peacock Café\n",
      "Georgetown\n",
      "Grand Cru Wine Bar &amp; Bistro\n",
      "Arlington\n",
      "The Capital Grille - Chevy Chase\n",
      "Chevy Chase\n",
      "2941 Restaurant\n",
      "Falls Church\n",
      "Sequoia\n",
      "Georgetown\n",
      "La Piquette\n",
      "Cleveland Park\n",
      "Marcel's by Robert Wiedmaier\n",
      "Foggy Bottom\n",
      "Fogo de Chao Brazilian Steakhouse - Tyson's\n",
      "Tysons Corner / McLean\n",
      "La Chaumiere\n",
      "Georgetown\n",
      "The Sovereign\n",
      "Georgetown\n",
      "Teddy &amp; The Bully Bar\n",
      "Dupont Circle\n",
      "The Capital Grille - Tysons Corner\n",
      "Tysons Corner / McLean\n",
      "Silver - Cathedral Commons\n",
      "Cleveland Park\n",
      "Yona\n",
      "Arlington\n",
      "Fire Works - Arlington\n",
      "Arlington\n",
      "Firefly - DC\n",
      "Dupont Circle\n",
      "The Palm Washington DC\n",
      "Dupont Circle\n",
      "Chef Geoff's (New Mexico Ave.)\n",
      "Georgetown\n",
      "Earls Kitchen + Bar - Tysons Corner\n",
      "Tysons Corner / McLean\n",
      "Nostos Restaurant\n",
      "Vienna\n",
      "Chima -Tysons Corner\n",
      "Vienna\n",
      "Bistrot Lepic &amp; Wine Bar\n",
      "Georgetown\n",
      "Pinstripes - Georgetown\n",
      "Georgetown\n",
      "Ristorante Piccolo\n",
      "Georgetown\n",
      "Mad Fox Brewing Company\n",
      "Falls Church\n",
      "Roof Terrace Restaurant &amp; Bar\n",
      "Foggy Bottom\n",
      "Mala Tang\n",
      "Arlington\n",
      "MeJana\n",
      "Arlington\n",
      "Seasons Restaurant - Four Seasons Washington DC\n",
      "Georgetown\n",
      "Medium Rare - Cleveland Park\n",
      "Cleveland Park\n",
      "Il Radicchio\n",
      "Arlington\n",
      "Copperwood Tavern\n",
      "Arlington\n",
      "J. Paul's - Georgetown\n",
      "Georgetown\n",
      "Lebanese Taverna - Westover\n",
      "Arlington\n",
      "TenPenh - Tysons\n",
      "Tysons Corner / McLean\n",
      "Mission\n",
      "Dupont Circle\n",
      "The Alex Craft Cocktail Cellar &amp; Speakeasy\n",
      "Georgetown\n",
      "RIS\n",
      "West End\n",
      "Barrel &amp; Bushel\n",
      "Tysons Corner / McLean\n",
      "Clyde's of Chevy Chase\n",
      "Friendship Heights\n",
      "Essy's Carriage House\n",
      "Arlington\n",
      "Assaggi Osteria\n",
      "McLean\n",
      "The Palm Tysons Corner\n",
      "Tysons Corner / McLean\n",
      "Oz Restaurant and Bar\n",
      "Arlington\n",
      "Pepita Cantina\n",
      "Arlington\n",
      "Chef Geoff's Tysons\n",
      "Tysons Corner / McLean\n",
      "Sushiko - Chevy Chase\n",
      "Bethesda / Chevy Chase\n",
      "Ristorante La Perla of Washington\n",
      "Georgetown\n",
      "The Prime Rib\n",
      "Downtown\n",
      "Al Tiramisu\n",
      "Dupont Circle\n",
      "Millie's\n",
      "Tenleytown\n",
      "Tony &amp; Joe's Seafood Place\n",
      "Georgetown\n",
      "Kona Grill - Arlington\n",
      "Arlington\n"
     ]
    }
   ],
   "source": [
    "# now print out EACH location for the restaurants\n",
    "for entry in soup.find_all(name='span', attrs={'class':['rest-row-meta--location', 'rest-row-name-text']}):\n",
    "    print entry.encode_contents()"
   ]
  },
  {
   "cell_type": "markdown",
   "metadata": {},
   "source": [
    "<a id=\"retrieving-prices\"></a>\n",
    "#### Retrieving the restaurant prices"
   ]
  },
  {
   "cell_type": "markdown",
   "metadata": {},
   "source": [
    "Ok, we've figured out the restaurant name and location. Now we need to grab the price (number of dollar signs on a scale of one to four) for each restaurant. We'll follow the same process."
   ]
  },
  {
   "cell_type": "code",
   "execution_count": 9,
   "metadata": {
    "scrolled": true
   },
   "outputs": [
    {
     "data": {
      "text/plain": [
       "[<div class=\"rest-row-pricing\"><i>  $    $      </i>   $    $      </div>,\n",
       " <div class=\"rest-row-pricing\"><i>  $    $      </i>   $    $      </div>,\n",
       " <div class=\"rest-row-pricing\"><i>  $    $      </i>   $    $      </div>,\n",
       " <div class=\"rest-row-pricing\"><i>  $    $      </i>   $    $      </div>,\n",
       " <div class=\"rest-row-pricing\"><i>  $    $    $    </i>   $        </div>,\n",
       " <div class=\"rest-row-pricing\"><i>  $    $      </i>   $    $      </div>,\n",
       " <div class=\"rest-row-pricing\"><i>  $    $    $    </i>   $        </div>,\n",
       " <div class=\"rest-row-pricing\"><i>  $    $    $    </i>   $        </div>,\n",
       " <div class=\"rest-row-pricing\"><i>  $    $      </i>   $    $      </div>,\n",
       " <div class=\"rest-row-pricing\"><i>  $    $    $    </i>   $        </div>,\n",
       " <div class=\"rest-row-pricing\"><i>  $    $    $    </i>   $        </div>,\n",
       " <div class=\"rest-row-pricing\"><i>  $    $      </i>   $    $      </div>,\n",
       " <div class=\"rest-row-pricing\"><i>  $    $      </i>   $    $      </div>,\n",
       " <div class=\"rest-row-pricing\"><i>  $    $      </i>   $    $      </div>,\n",
       " <div class=\"rest-row-pricing\"><i>  $    $    $    </i>   $        </div>,\n",
       " <div class=\"rest-row-pricing\"><i>  $    $    $    $  </i> </div>,\n",
       " <div class=\"rest-row-pricing\"><i>  $    $      </i>   $    $      </div>,\n",
       " <div class=\"rest-row-pricing\"><i>  $    $      </i>   $    $      </div>,\n",
       " <div class=\"rest-row-pricing\"><i>  $    $    $    </i>   $        </div>,\n",
       " <div class=\"rest-row-pricing\"><i>  $    $      </i>   $    $      </div>,\n",
       " <div class=\"rest-row-pricing\"><i>  $    $      </i>   $    $      </div>,\n",
       " <div class=\"rest-row-pricing\"><i>  $    $      </i>   $    $      </div>,\n",
       " <div class=\"rest-row-pricing\"><i>  $    $      </i>   $    $      </div>,\n",
       " <div class=\"rest-row-pricing\"><i>  $    $    $    $  </i> </div>,\n",
       " <div class=\"rest-row-pricing\"><i>  $    $      </i>   $    $      </div>,\n",
       " <div class=\"rest-row-pricing\"><i>  $    $    $    </i>   $        </div>,\n",
       " <div class=\"rest-row-pricing\"><i>  $    $      </i>   $    $      </div>,\n",
       " <div class=\"rest-row-pricing\"><i>  $    $    $    $  </i> </div>,\n",
       " <div class=\"rest-row-pricing\"><i>  $    $    $    </i>   $        </div>,\n",
       " <div class=\"rest-row-pricing\"><i>  $    $      </i>   $    $      </div>,\n",
       " <div class=\"rest-row-pricing\"><i>  $    $    $    </i>   $        </div>,\n",
       " <div class=\"rest-row-pricing\"><i>  $    $    $    </i>   $        </div>,\n",
       " <div class=\"rest-row-pricing\"><i>  $    $      </i>   $    $      </div>,\n",
       " <div class=\"rest-row-pricing\"><i>  $    $      </i>   $    $      </div>,\n",
       " <div class=\"rest-row-pricing\"><i>  $    $      </i>   $    $      </div>,\n",
       " <div class=\"rest-row-pricing\"><i>  $    $      </i>   $    $      </div>,\n",
       " <div class=\"rest-row-pricing\"><i>  $    $    $    </i>   $        </div>,\n",
       " <div class=\"rest-row-pricing\"><i>  $    $      </i>   $    $      </div>,\n",
       " <div class=\"rest-row-pricing\"><i>  $    $      </i>   $    $      </div>,\n",
       " <div class=\"rest-row-pricing\"><i>  $    $      </i>   $    $      </div>,\n",
       " <div class=\"rest-row-pricing\"><i>  $    $      </i>   $    $      </div>,\n",
       " <div class=\"rest-row-pricing\"><i>  $    $      </i>   $    $      </div>,\n",
       " <div class=\"rest-row-pricing\"><i>  $    $      </i>   $    $      </div>,\n",
       " <div class=\"rest-row-pricing\"><i>  $    $      </i>   $    $      </div>,\n",
       " <div class=\"rest-row-pricing\"><i>  $    $      </i>   $    $      </div>,\n",
       " <div class=\"rest-row-pricing\"><i>  $    $      </i>   $    $      </div>,\n",
       " <div class=\"rest-row-pricing\"><i>  $    $      </i>   $    $      </div>,\n",
       " <div class=\"rest-row-pricing\"><i>  $    $      </i>   $    $      </div>,\n",
       " <div class=\"rest-row-pricing\"><i>  $    $      </i>   $    $      </div>,\n",
       " <div class=\"rest-row-pricing\"><i>  $    $    $    $  </i> </div>,\n",
       " <div class=\"rest-row-pricing\"><i>  $    $      </i>   $    $      </div>,\n",
       " <div class=\"rest-row-pricing\"><i>  $    $      </i>   $    $      </div>,\n",
       " <div class=\"rest-row-pricing\"><i>  $    $      </i>   $    $      </div>,\n",
       " <div class=\"rest-row-pricing\"><i>  $    $    $    $  </i> </div>,\n",
       " <div class=\"rest-row-pricing\"><i>  $    $    $    $  </i> </div>,\n",
       " <div class=\"rest-row-pricing\"><i>  $    $      </i>   $    $      </div>,\n",
       " <div class=\"rest-row-pricing\"><i>  $    $    $    </i>   $        </div>,\n",
       " <div class=\"rest-row-pricing\"><i>  $    $    $    </i>   $        </div>,\n",
       " <div class=\"rest-row-pricing\"><i>  $    $    $    $  </i> </div>,\n",
       " <div class=\"rest-row-pricing\"><i>  $    $      </i>   $    $      </div>,\n",
       " <div class=\"rest-row-pricing\"><i>  $    $      </i>   $    $      </div>,\n",
       " <div class=\"rest-row-pricing\"><i>  $    $      </i>   $    $      </div>,\n",
       " <div class=\"rest-row-pricing\"><i>  $    $      </i>   $    $      </div>,\n",
       " <div class=\"rest-row-pricing\"><i>  $    $    $    $  </i> </div>,\n",
       " <div class=\"rest-row-pricing\"><i>  $    $      </i>   $    $      </div>,\n",
       " <div class=\"rest-row-pricing\"><i>  $    $      </i>   $    $      </div>,\n",
       " <div class=\"rest-row-pricing\"><i>  $    $      </i>   $    $      </div>,\n",
       " <div class=\"rest-row-pricing\"><i>  $    $    $    </i>   $        </div>,\n",
       " <div class=\"rest-row-pricing\"><i>  $    $      </i>   $    $      </div>,\n",
       " <div class=\"rest-row-pricing\"><i>  $    $      </i>   $    $      </div>,\n",
       " <div class=\"rest-row-pricing\"><i>  $    $      </i>   $    $      </div>,\n",
       " <div class=\"rest-row-pricing\"><i>  $    $      </i>   $    $      </div>,\n",
       " <div class=\"rest-row-pricing\"><i>  $    $    $    $  </i> </div>,\n",
       " <div class=\"rest-row-pricing\"><i>  $    $      </i>   $    $      </div>,\n",
       " <div class=\"rest-row-pricing\"><i>  $    $    $    </i>   $        </div>,\n",
       " <div class=\"rest-row-pricing\"><i>  $    $    $    $  </i> </div>,\n",
       " <div class=\"rest-row-pricing\"><i>  $    $      </i>   $    $      </div>,\n",
       " <div class=\"rest-row-pricing\"><i>  $    $      </i>   $    $      </div>,\n",
       " <div class=\"rest-row-pricing\"><i>  $    $      </i>   $    $      </div>,\n",
       " <div class=\"rest-row-pricing\"><i>  $    $      </i>   $    $      </div>,\n",
       " <div class=\"rest-row-pricing\"><i>  $    $      </i>   $    $      </div>,\n",
       " <div class=\"rest-row-pricing\"><i>  $    $    $    </i>   $        </div>,\n",
       " <div class=\"rest-row-pricing\"><i>  $    $      </i>   $    $      </div>,\n",
       " <div class=\"rest-row-pricing\"><i>  $    $      </i>   $    $      </div>,\n",
       " <div class=\"rest-row-pricing\"><i>  $    $    $    </i>   $        </div>,\n",
       " <div class=\"rest-row-pricing\"><i>  $    $      </i>   $    $      </div>,\n",
       " <div class=\"rest-row-pricing\"><i>  $    $      </i>   $    $      </div>,\n",
       " <div class=\"rest-row-pricing\"><i>  $    $    $    </i>   $        </div>,\n",
       " <div class=\"rest-row-pricing\"><i>  $    $    $    </i>   $        </div>,\n",
       " <div class=\"rest-row-pricing\"><i>  $    $    $    $  </i> </div>,\n",
       " <div class=\"rest-row-pricing\"><i>  $    $      </i>   $    $      </div>,\n",
       " <div class=\"rest-row-pricing\"><i>  $    $      </i>   $    $      </div>,\n",
       " <div class=\"rest-row-pricing\"><i>  $    $      </i>   $    $      </div>,\n",
       " <div class=\"rest-row-pricing\"><i>  $    $    $    $  </i> </div>,\n",
       " <div class=\"rest-row-pricing\"><i>  $    $    $    </i>   $        </div>,\n",
       " <div class=\"rest-row-pricing\"><i>  $    $    $    $  </i> </div>,\n",
       " <div class=\"rest-row-pricing\"><i>  $    $    $    </i>   $        </div>,\n",
       " <div class=\"rest-row-pricing\"><i>  $    $      </i>   $    $      </div>,\n",
       " <div class=\"rest-row-pricing\"><i>  $    $      </i>   $    $      </div>,\n",
       " <div class=\"rest-row-pricing\"><i>  $    $      </i>   $    $      </div>]"
      ]
     },
     "execution_count": 9,
     "metadata": {},
     "output_type": "execute_result"
    }
   ],
   "source": [
    "# print out all prices\n",
    "soup.find_all('div', {'class':'rest-row-pricing'})"
   ]
  },
  {
   "cell_type": "code",
   "execution_count": 10,
   "metadata": {},
   "outputs": [
    {
     "name": "stdout",
     "output_type": "stream",
     "text": [
      "  $    $      \n",
      "  $    $      \n",
      "  $    $      \n",
      "  $    $      \n",
      "  $    $    $    \n",
      "  $    $      \n",
      "  $    $    $    \n",
      "  $    $    $    \n",
      "  $    $      \n",
      "  $    $    $    \n",
      "  $    $    $    \n",
      "  $    $      \n",
      "  $    $      \n",
      "  $    $      \n",
      "  $    $    $    \n",
      "  $    $    $    $  \n",
      "  $    $      \n",
      "  $    $      \n",
      "  $    $    $    \n",
      "  $    $      \n",
      "  $    $      \n",
      "  $    $      \n",
      "  $    $      \n",
      "  $    $    $    $  \n",
      "  $    $      \n",
      "  $    $    $    \n",
      "  $    $      \n",
      "  $    $    $    $  \n",
      "  $    $    $    \n",
      "  $    $      \n",
      "  $    $    $    \n",
      "  $    $    $    \n",
      "  $    $      \n",
      "  $    $      \n",
      "  $    $      \n",
      "  $    $      \n",
      "  $    $    $    \n",
      "  $    $      \n",
      "  $    $      \n",
      "  $    $      \n",
      "  $    $      \n",
      "  $    $      \n",
      "  $    $      \n",
      "  $    $      \n",
      "  $    $      \n",
      "  $    $      \n",
      "  $    $      \n",
      "  $    $      \n",
      "  $    $      \n",
      "  $    $    $    $  \n",
      "  $    $      \n",
      "  $    $      \n",
      "  $    $      \n",
      "  $    $    $    $  \n",
      "  $    $    $    $  \n",
      "  $    $      \n",
      "  $    $    $    \n",
      "  $    $    $    \n",
      "  $    $    $    $  \n",
      "  $    $      \n",
      "  $    $      \n",
      "  $    $      \n",
      "  $    $      \n",
      "  $    $    $    $  \n",
      "  $    $      \n",
      "  $    $      \n",
      "  $    $      \n",
      "  $    $    $    \n",
      "  $    $      \n",
      "  $    $      \n",
      "  $    $      \n",
      "  $    $      \n",
      "  $    $    $    $  \n",
      "  $    $      \n",
      "  $    $    $    \n",
      "  $    $    $    $  \n",
      "  $    $      \n",
      "  $    $      \n",
      "  $    $      \n",
      "  $    $      \n",
      "  $    $      \n",
      "  $    $    $    \n",
      "  $    $      \n",
      "  $    $      \n",
      "  $    $    $    \n",
      "  $    $      \n",
      "  $    $      \n",
      "  $    $    $    \n",
      "  $    $    $    \n",
      "  $    $    $    $  \n",
      "  $    $      \n",
      "  $    $      \n",
      "  $    $      \n",
      "  $    $    $    $  \n",
      "  $    $    $    \n",
      "  $    $    $    $  \n",
      "  $    $    $    \n",
      "  $    $      \n",
      "  $    $      \n",
      "  $    $      \n"
     ]
    }
   ],
   "source": [
    "# print out EACH number of dollar signs per restaurant\n",
    "# this one is trickier to eliminate the html. Hint: try a nested find\n",
    "for entry in soup.find_all('div', {'class':'rest-row-pricing'}):\n",
    "    print entry.find('i').encode_contents()"
   ]
  },
  {
   "cell_type": "markdown",
   "metadata": {},
   "source": [
    "That looks great, but what if I wanted just the number of dollar signs per restaurant? Can you figure out a way to simply print out the number of dollar signs per restaurant listed?"
   ]
  },
  {
   "cell_type": "code",
   "execution_count": 61,
   "metadata": {},
   "outputs": [
    {
     "name": "stdout",
     "output_type": "stream",
     "text": [
      "2\n",
      "2\n",
      "2\n",
      "2\n",
      "3\n",
      "2\n",
      "3\n",
      "3\n",
      "2\n",
      "3\n",
      "3\n",
      "2\n",
      "2\n",
      "2\n",
      "3\n",
      "4\n",
      "2\n",
      "2\n",
      "3\n",
      "2\n",
      "2\n",
      "2\n",
      "2\n",
      "4\n",
      "2\n",
      "3\n",
      "2\n",
      "4\n",
      "3\n",
      "2\n",
      "3\n",
      "3\n",
      "2\n",
      "2\n",
      "2\n",
      "2\n",
      "3\n",
      "2\n",
      "2\n",
      "2\n",
      "2\n",
      "2\n",
      "2\n",
      "2\n",
      "2\n",
      "2\n",
      "2\n",
      "2\n",
      "2\n",
      "4\n",
      "2\n",
      "2\n",
      "2\n",
      "4\n",
      "4\n",
      "2\n",
      "3\n",
      "3\n",
      "4\n",
      "2\n",
      "2\n",
      "2\n",
      "2\n",
      "4\n",
      "2\n",
      "2\n",
      "2\n",
      "3\n",
      "2\n",
      "2\n",
      "2\n",
      "2\n",
      "4\n",
      "2\n",
      "3\n",
      "4\n",
      "2\n",
      "2\n",
      "2\n",
      "2\n",
      "2\n",
      "3\n",
      "2\n",
      "2\n",
      "3\n",
      "2\n",
      "2\n",
      "3\n",
      "3\n",
      "4\n",
      "2\n",
      "2\n",
      "2\n",
      "4\n",
      "3\n",
      "4\n",
      "3\n",
      "2\n",
      "2\n",
      "2\n"
     ]
    }
   ],
   "source": [
    "# print the number of dollars signs per restaurant\n",
    "for entry in soup.find_all('div', {'class':'rest-row-pricing'}):\n",
    "    print len(entry.find('i').encode_contents().split())"
   ]
  },
  {
   "cell_type": "markdown",
   "metadata": {},
   "source": [
    "Phew, nice work. \n",
    "\n",
    "<a id=\"retrieving-bookings\"></a>\n",
    "#### Retrieving the restaurant number of bookings\n",
    "\n",
    "One more, right? We only need to find the number times a restaurant was booked. In the next cell, print out all objects that contain the number of times the restaurant was booked."
   ]
  },
  {
   "cell_type": "code",
   "execution_count": 62,
   "metadata": {},
   "outputs": [
    {
     "data": {
      "text/plain": [
       "[]"
      ]
     },
     "execution_count": 62,
     "metadata": {},
     "output_type": "execute_result"
    }
   ],
   "source": [
    "# print out all objects that contain the number of times the restaurant was booked\n",
    "soup.find_all('div', {'class':'booking'})"
   ]
  },
  {
   "cell_type": "markdown",
   "metadata": {},
   "source": [
    "That's weird -- an empty set. Did we find the wrong element? What's going on here? Discuss.\n",
    "\n",
    "How can we debug this? Any ideas?"
   ]
  },
  {
   "cell_type": "code",
   "execution_count": 13,
   "metadata": {
    "collapsed": true
   },
   "outputs": [],
   "source": [
    "# let's first try printing out all 'div' objects\n",
    "#  NOTE: This is a too many objects to store in this notebook!\n",
    "#        So, uncomment the code below to run it.\n",
    "\n",
    "# for entry in soup.find_all('div'):\n",
    "#     print entry"
   ]
  },
  {
   "cell_type": "markdown",
   "metadata": {},
   "source": [
    "I still don't see it. Let's search our entire soup object:"
   ]
  },
  {
   "cell_type": "code",
   "execution_count": 14,
   "metadata": {
    "collapsed": true
   },
   "outputs": [],
   "source": [
    "# print out soup, do command+f for \"booked \". \n",
    "#   Uncomment the below to run.\n",
    "\n",
    "# soup"
   ]
  },
  {
   "cell_type": "markdown",
   "metadata": {},
   "source": [
    "What do you notice? Why is this happening?"
   ]
  },
  {
   "cell_type": "markdown",
   "metadata": {},
   "source": [
    "<a id=\"selenium\"></a>\n",
    "## Introducing Selenium\n",
    "\n",
    "Selenium is a headless browser. It allows us to render JavaScript just as a human-navigated browser would.\n",
    "\n",
    "To install Selenium, use one of the following:\n",
    "- **Anaconda:** `conda install -c conda-forge selenium`\n",
    "- **pip:** `pip install selenium`\n",
    "\n",
    "You will also need GeckoDriver (this assumes you are using Homebrew for Mac): \n",
    "\n",
    "- ```brew install geckodriver```\n",
    "\n",
    "Additionally, you will need to have downloaded the [Firefox browser](https://www.mozilla.org/en-US/firefox/new/?utm_source=google&utm_medium=cpc&utm_campaign=Firefox-Brand-US-GGL-Exact&utm_term=firefox&utm_content=A144_A203_A006336&gclid=Cj0KEQjwnPLKBRC-j7nt1b7OlZwBEiQAv8lMLJUyReT6cPzSYdmEA6uD3YDoieuuuusddgAU7XH6smEaAoje8P8HAQ&gclsrc=aw.ds) for the application in this lesson."
   ]
  },
  {
   "cell_type": "code",
   "execution_count": 15,
   "metadata": {},
   "outputs": [
    {
     "name": "stdout",
     "output_type": "stream",
     "text": [
      "Collecting selenium\n",
      "  Using cached selenium-3.8.1-py2.py3-none-any.whl\n",
      "Installing collected packages: selenium\n",
      "Successfully installed selenium-3.8.1\n"
     ]
    }
   ],
   "source": [
    "!pip install selenium"
   ]
  },
  {
   "cell_type": "code",
   "execution_count": 63,
   "metadata": {
    "collapsed": true
   },
   "outputs": [],
   "source": [
    "# import\n",
    "from selenium import webdriver"
   ]
  },
  {
   "cell_type": "markdown",
   "metadata": {},
   "source": [
    "Selenium requires us to determine a default browser to run. I'm going to opt for Firefox, but Chromium is also a very common choice. http://selenium-python.readthedocs.io/faq.html"
   ]
  },
  {
   "cell_type": "code",
   "execution_count": 17,
   "metadata": {
    "collapsed": true
   },
   "outputs": [],
   "source": [
    "# STOP\n",
    "# what is going to happen when I run the next cell?"
   ]
  },
  {
   "cell_type": "code",
   "execution_count": 66,
   "metadata": {
    "collapsed": true
   },
   "outputs": [],
   "source": [
    "# create a driver called Firefox\n",
    "driver = webdriver.Firefox()"
   ]
  },
  {
   "cell_type": "markdown",
   "metadata": {},
   "source": [
    "Pretty crazy, right? Let's close that driver."
   ]
  },
  {
   "cell_type": "code",
   "execution_count": 65,
   "metadata": {
    "collapsed": true
   },
   "outputs": [],
   "source": [
    "# close it\n",
    "driver.close()"
   ]
  },
  {
   "cell_type": "code",
   "execution_count": 67,
   "metadata": {
    "collapsed": true
   },
   "outputs": [],
   "source": [
    "# let's boot it up, and visit a URL of our choice\n",
    "driver = webdriver.Firefox()\n",
    "driver.get(\"http://www.python.org\")"
   ]
  },
  {
   "cell_type": "markdown",
   "metadata": {},
   "source": [
    "Awesome. Now we're getting somewhere: programmatically controlling our browser like a human."
   ]
  },
  {
   "cell_type": "markdown",
   "metadata": {},
   "source": [
    "Let's return to our problem at hand. We need to visit the OpenTable listing for DC. Once there, we need to get the html to load. In the next cell, prove you can programmatically visit the page."
   ]
  },
  {
   "cell_type": "code",
   "execution_count": 68,
   "metadata": {
    "collapsed": true
   },
   "outputs": [],
   "source": [
    "driver.close()"
   ]
  },
  {
   "cell_type": "code",
   "execution_count": 69,
   "metadata": {
    "collapsed": true
   },
   "outputs": [],
   "source": [
    "# visit our OpenTable page\n",
    "driver = webdriver.Firefox()\n",
    "driver.get(\"http://www.opentable.com/washington-dc-restaurant-listings\")\n",
    "# always good to check we've got the page we think we do\n",
    "assert \"OpenTable\" in driver.title"
   ]
  },
  {
   "cell_type": "code",
   "execution_count": 70,
   "metadata": {},
   "outputs": [
    {
     "data": {
      "text/plain": [
       "u'Washington, D.C. Area Restaurants List | OpenTable'"
      ]
     },
     "execution_count": 70,
     "metadata": {},
     "output_type": "execute_result"
    }
   ],
   "source": [
    "driver.title"
   ]
  },
  {
   "cell_type": "code",
   "execution_count": 71,
   "metadata": {
    "collapsed": true
   },
   "outputs": [],
   "source": [
    "driver.close()"
   ]
  },
  {
   "cell_type": "markdown",
   "metadata": {},
   "source": [
    "<a id=\"selenium-js\"></a>\n",
    "### Running JavaScript before scraping\n",
    "\n",
    "Now, to resolve our JavaScript problem, there's a few things we can do. What I'll do in this case is request that the page load, wait one second, and then I'm going to grab the source html from the page. Because the page should believe I'm visiting from a live connection on a browser client, the JavaScript should render to be a part of the page source. I can then grab the page source."
   ]
  },
  {
   "cell_type": "code",
   "execution_count": 72,
   "metadata": {
    "collapsed": true
   },
   "outputs": [],
   "source": [
    "# import sleep\n",
    "from time import sleep"
   ]
  },
  {
   "cell_type": "code",
   "execution_count": 73,
   "metadata": {
    "collapsed": true
   },
   "outputs": [],
   "source": [
    "# visit our relevant page\n",
    "driver = webdriver.Firefox()\n",
    "driver.get(\"http://www.opentable.com/washington-dc-restaurant-listings\")\n",
    "# wait one second\n",
    "sleep(1)\n",
    "#grab the page source\n",
    "html = driver.page_source"
   ]
  },
  {
   "cell_type": "markdown",
   "metadata": {},
   "source": [
    "**Pop Quiz:** What do we need to do with this HTML?"
   ]
  },
  {
   "cell_type": "code",
   "execution_count": 26,
   "metadata": {
    "collapsed": true
   },
   "outputs": [],
   "source": [
    "# BeautifulSoup it!\n",
    "html = BeautifulSoup(html, \"lxml\")"
   ]
  },
  {
   "cell_type": "markdown",
   "metadata": {},
   "source": [
    "Now, let's return to our earlier problem: How do we locate bookings on the page?"
   ]
  },
  {
   "cell_type": "code",
   "execution_count": 27,
   "metadata": {},
   "outputs": [
    {
     "data": {
      "text/plain": [
       "[<div class=\"booking\"><span class=\"tadpole\"></span>Booked 2 times today</div>,\n",
       " <div class=\"booking\"><span class=\"tadpole\"></span>Booked 515 times today</div>,\n",
       " <div class=\"booking\"><span class=\"tadpole\"></span>Booked 285 times today</div>,\n",
       " <div class=\"booking\"><span class=\"tadpole\"></span>Booked 192 times today</div>,\n",
       " <div class=\"booking\"><span class=\"tadpole\"></span>Booked 98 times today</div>,\n",
       " <div class=\"booking\"><span class=\"tadpole\"></span>Booked 135 times today</div>,\n",
       " <div class=\"booking\"><span class=\"tadpole\"></span>Booked 140 times today</div>,\n",
       " <div class=\"booking\"><span class=\"tadpole\"></span>Booked 295 times today</div>,\n",
       " <div class=\"booking\"><span class=\"tadpole\"></span>Booked 57 times today</div>,\n",
       " <div class=\"booking\"><span class=\"tadpole\"></span>Booked 62 times today</div>,\n",
       " <div class=\"booking\"><span class=\"tadpole\"></span>Booked 29 times today</div>,\n",
       " <div class=\"booking\"><span class=\"tadpole\"></span>Booked 54 times today</div>,\n",
       " <div class=\"booking\"><span class=\"tadpole\"></span>Booked 15 times today</div>,\n",
       " <div class=\"booking\"><span class=\"tadpole\"></span>Booked 64 times today</div>,\n",
       " <div class=\"booking\"><span class=\"tadpole\"></span>Booked 59 times today</div>,\n",
       " <div class=\"booking\"><span class=\"tadpole\"></span>Booked 47 times today</div>,\n",
       " <div class=\"booking\"><span class=\"tadpole\"></span>Booked 68 times today</div>,\n",
       " <div class=\"booking\"><span class=\"tadpole\"></span>Booked 40 times today</div>,\n",
       " <div class=\"booking\"><span class=\"tadpole\"></span>Booked 42 times today</div>,\n",
       " <div class=\"booking\"><span class=\"tadpole\"></span>Booked 38 times today</div>,\n",
       " <div class=\"booking\"><span class=\"tadpole\"></span>Booked 21 times today</div>,\n",
       " <div class=\"booking\"><span class=\"tadpole\"></span>Booked 44 times today</div>,\n",
       " <div class=\"booking\"><span class=\"tadpole\"></span>Booked 79 times today</div>,\n",
       " <div class=\"booking\"><span class=\"tadpole\"></span>Booked 30 times today</div>,\n",
       " <div class=\"booking\"><span class=\"tadpole\"></span>Booked 66 times today</div>,\n",
       " <div class=\"booking\"><span class=\"tadpole\"></span>Booked 58 times today</div>,\n",
       " <div class=\"booking\"><span class=\"tadpole\"></span>Booked 58 times today</div>,\n",
       " <div class=\"booking\"><span class=\"tadpole\"></span>Booked 80 times today</div>,\n",
       " <div class=\"booking\"><span class=\"tadpole\"></span>Booked 54 times today</div>,\n",
       " <div class=\"booking\"><span class=\"tadpole\"></span>Booked 87 times today</div>,\n",
       " <div class=\"booking\"><span class=\"tadpole\"></span>Booked 69 times today</div>,\n",
       " <div class=\"booking\"><span class=\"tadpole\"></span>Booked 17 times today</div>,\n",
       " <div class=\"booking\"><span class=\"tadpole\"></span>Booked 71 times today</div>,\n",
       " <div class=\"booking\"><span class=\"tadpole\"></span>Booked 17 times today</div>,\n",
       " <div class=\"booking\"><span class=\"tadpole\"></span>Booked 19 times today</div>,\n",
       " <div class=\"booking\"><span class=\"tadpole\"></span>Booked 47 times today</div>,\n",
       " <div class=\"booking\"><span class=\"tadpole\"></span>Booked 19 times today</div>,\n",
       " <div class=\"booking\"><span class=\"tadpole\"></span>Booked 46 times today</div>,\n",
       " <div class=\"booking\"><span class=\"tadpole\"></span>Booked 9 times today</div>,\n",
       " <div class=\"booking\"><span class=\"tadpole\"></span>Booked 27 times today</div>,\n",
       " <div class=\"booking\"><span class=\"tadpole\"></span>Booked 45 times today</div>,\n",
       " <div class=\"booking\"><span class=\"tadpole\"></span>Booked 19 times today</div>,\n",
       " <div class=\"booking\"><span class=\"tadpole\"></span>Booked 57 times today</div>,\n",
       " <div class=\"booking\"><span class=\"tadpole\"></span>Booked 55 times today</div>,\n",
       " <div class=\"booking\"><span class=\"tadpole\"></span>Booked 26 times today</div>,\n",
       " <div class=\"booking\"><span class=\"tadpole\"></span>Booked 5 times today</div>,\n",
       " <div class=\"booking\"><span class=\"tadpole\"></span>Booked 24 times today</div>,\n",
       " <div class=\"booking\"><span class=\"tadpole\"></span>Booked 17 times today</div>,\n",
       " <div class=\"booking\"><span class=\"tadpole\"></span>Booked 36 times today</div>,\n",
       " <div class=\"booking\"><span class=\"tadpole\"></span>Booked 77 times today</div>,\n",
       " <div class=\"booking\"><span class=\"tadpole\"></span>Booked 50 times today</div>,\n",
       " <div class=\"booking\"><span class=\"tadpole\"></span>Booked 33 times today</div>,\n",
       " <div class=\"booking\"><span class=\"tadpole\"></span>Booked 34 times today</div>,\n",
       " <div class=\"booking\"><span class=\"tadpole\"></span>Booked 35 times today</div>,\n",
       " <div class=\"booking\"><span class=\"tadpole\"></span>Booked 52 times today</div>,\n",
       " <div class=\"booking\"><span class=\"tadpole\"></span>Booked 30 times today</div>,\n",
       " <div class=\"booking\"><span class=\"tadpole\"></span>Booked 52 times today</div>,\n",
       " <div class=\"booking\"><span class=\"tadpole\"></span>Booked 51 times today</div>,\n",
       " <div class=\"booking\"><span class=\"tadpole\"></span>Booked 15 times today</div>,\n",
       " <div class=\"booking\"><span class=\"tadpole\"></span>Booked 7 times today</div>,\n",
       " <div class=\"booking\"><span class=\"tadpole\"></span>Booked 6 times today</div>,\n",
       " <div class=\"booking\"><span class=\"tadpole\"></span>Booked 29 times today</div>,\n",
       " <div class=\"booking\"><span class=\"tadpole\"></span>Booked 88 times today</div>,\n",
       " <div class=\"booking\"><span class=\"tadpole\"></span>Booked 21 times today</div>,\n",
       " <div class=\"booking\"><span class=\"tadpole\"></span>Booked 64 times today</div>,\n",
       " <div class=\"booking\"><span class=\"tadpole\"></span>Booked 66 times today</div>,\n",
       " <div class=\"booking\"><span class=\"tadpole\"></span>Booked 88 times today</div>,\n",
       " <div class=\"booking\"><span class=\"tadpole\"></span>Booked 13 times today</div>,\n",
       " <div class=\"booking\"><span class=\"tadpole\"></span>Booked 23 times today</div>,\n",
       " <div class=\"booking\"><span class=\"tadpole\"></span>Booked 27 times today</div>,\n",
       " <div class=\"booking\"><span class=\"tadpole\"></span>Booked 9 times today</div>,\n",
       " <div class=\"booking\"><span class=\"tadpole\"></span>Booked 44 times today</div>,\n",
       " <div class=\"booking\"><span class=\"tadpole\"></span>Booked 3 times today</div>,\n",
       " <div class=\"booking\"><span class=\"tadpole\"></span>Booked 11 times today</div>,\n",
       " <div class=\"booking\"><span class=\"tadpole\"></span>Booked 26 times today</div>,\n",
       " <div class=\"booking\"><span class=\"tadpole\"></span>Booked 39 times today</div>,\n",
       " <div class=\"booking\"><span class=\"tadpole\"></span>Booked 11 times today</div>,\n",
       " <div class=\"booking\"><span class=\"tadpole\"></span>Booked 30 times today</div>,\n",
       " <div class=\"booking\"><span class=\"tadpole\"></span>Booked 13 times today</div>,\n",
       " <div class=\"booking\"><span class=\"tadpole\"></span>Booked 9 times today</div>,\n",
       " <div class=\"booking\"><span class=\"tadpole\"></span>Booked 32 times today</div>,\n",
       " <div class=\"booking\"><span class=\"tadpole\"></span>Booked 28 times today</div>,\n",
       " <div class=\"booking\"><span class=\"tadpole\"></span>Booked 17 times today</div>,\n",
       " <div class=\"booking\"><span class=\"tadpole\"></span>Booked 35 times today</div>,\n",
       " <div class=\"booking\"><span class=\"tadpole\"></span>Booked 36 times today</div>,\n",
       " <div class=\"booking\"><span class=\"tadpole\"></span>Booked 39 times today</div>,\n",
       " <div class=\"booking\"><span class=\"tadpole\"></span>Booked 6 times today</div>,\n",
       " <div class=\"booking\"><span class=\"tadpole\"></span>Booked 9 times today</div>,\n",
       " <div class=\"booking\"><span class=\"tadpole\"></span>Booked 56 times today</div>,\n",
       " <div class=\"booking\"><span class=\"tadpole\"></span>Booked 10 times today</div>,\n",
       " <div class=\"booking\"><span class=\"tadpole\"></span>Booked 2 times today</div>,\n",
       " <div class=\"booking\"><span class=\"tadpole\"></span>Booked 37 times today</div>,\n",
       " <div class=\"booking\"><span class=\"tadpole\"></span>Booked 40 times today</div>,\n",
       " <div class=\"booking\"><span class=\"tadpole\"></span>Booked 10 times today</div>,\n",
       " <div class=\"booking\"><span class=\"tadpole\"></span>Booked 28 times today</div>,\n",
       " <div class=\"booking\"><span class=\"tadpole\"></span>Booked 22 times today</div>,\n",
       " <div class=\"booking\"><span class=\"tadpole\"></span>Booked 39 times today</div>,\n",
       " <div class=\"booking\"><span class=\"tadpole\"></span>Booked 18 times today</div>,\n",
       " <div class=\"booking\"><span class=\"tadpole\"></span>Booked 16 times today</div>]"
      ]
     },
     "execution_count": 27,
     "metadata": {},
     "output_type": "execute_result"
    }
   ],
   "source": [
    "# print out the number bookings for all restaurants\n",
    "html.find_all('div', {'class':'booking'})"
   ]
  },
  {
   "cell_type": "code",
   "execution_count": 28,
   "metadata": {
    "scrolled": true
   },
   "outputs": [
    {
     "name": "stdout",
     "output_type": "stream",
     "text": [
      "<div class=\"booking\"><span class=\"tadpole\"></span>Booked 2 times today</div>\n",
      "<div class=\"booking\"><span class=\"tadpole\"></span>Booked 515 times today</div>\n",
      "<div class=\"booking\"><span class=\"tadpole\"></span>Booked 285 times today</div>\n",
      "<div class=\"booking\"><span class=\"tadpole\"></span>Booked 192 times today</div>\n",
      "<div class=\"booking\"><span class=\"tadpole\"></span>Booked 98 times today</div>\n",
      "<div class=\"booking\"><span class=\"tadpole\"></span>Booked 135 times today</div>\n",
      "<div class=\"booking\"><span class=\"tadpole\"></span>Booked 140 times today</div>\n",
      "<div class=\"booking\"><span class=\"tadpole\"></span>Booked 295 times today</div>\n",
      "<div class=\"booking\"><span class=\"tadpole\"></span>Booked 57 times today</div>\n",
      "<div class=\"booking\"><span class=\"tadpole\"></span>Booked 62 times today</div>\n",
      "<div class=\"booking\"><span class=\"tadpole\"></span>Booked 29 times today</div>\n",
      "<div class=\"booking\"><span class=\"tadpole\"></span>Booked 54 times today</div>\n",
      "<div class=\"booking\"><span class=\"tadpole\"></span>Booked 15 times today</div>\n",
      "<div class=\"booking\"><span class=\"tadpole\"></span>Booked 64 times today</div>\n",
      "<div class=\"booking\"><span class=\"tadpole\"></span>Booked 59 times today</div>\n",
      "<div class=\"booking\"><span class=\"tadpole\"></span>Booked 47 times today</div>\n",
      "<div class=\"booking\"><span class=\"tadpole\"></span>Booked 68 times today</div>\n",
      "<div class=\"booking\"><span class=\"tadpole\"></span>Booked 40 times today</div>\n",
      "<div class=\"booking\"><span class=\"tadpole\"></span>Booked 42 times today</div>\n",
      "<div class=\"booking\"><span class=\"tadpole\"></span>Booked 38 times today</div>\n",
      "<div class=\"booking\"><span class=\"tadpole\"></span>Booked 21 times today</div>\n",
      "<div class=\"booking\"><span class=\"tadpole\"></span>Booked 44 times today</div>\n",
      "<div class=\"booking\"><span class=\"tadpole\"></span>Booked 79 times today</div>\n",
      "<div class=\"booking\"><span class=\"tadpole\"></span>Booked 30 times today</div>\n",
      "<div class=\"booking\"><span class=\"tadpole\"></span>Booked 66 times today</div>\n",
      "<div class=\"booking\"><span class=\"tadpole\"></span>Booked 58 times today</div>\n",
      "<div class=\"booking\"><span class=\"tadpole\"></span>Booked 58 times today</div>\n",
      "<div class=\"booking\"><span class=\"tadpole\"></span>Booked 80 times today</div>\n",
      "<div class=\"booking\"><span class=\"tadpole\"></span>Booked 54 times today</div>\n",
      "<div class=\"booking\"><span class=\"tadpole\"></span>Booked 87 times today</div>\n",
      "<div class=\"booking\"><span class=\"tadpole\"></span>Booked 69 times today</div>\n",
      "<div class=\"booking\"><span class=\"tadpole\"></span>Booked 17 times today</div>\n",
      "<div class=\"booking\"><span class=\"tadpole\"></span>Booked 71 times today</div>\n",
      "<div class=\"booking\"><span class=\"tadpole\"></span>Booked 17 times today</div>\n",
      "<div class=\"booking\"><span class=\"tadpole\"></span>Booked 19 times today</div>\n",
      "<div class=\"booking\"><span class=\"tadpole\"></span>Booked 47 times today</div>\n",
      "<div class=\"booking\"><span class=\"tadpole\"></span>Booked 19 times today</div>\n",
      "<div class=\"booking\"><span class=\"tadpole\"></span>Booked 46 times today</div>\n",
      "<div class=\"booking\"><span class=\"tadpole\"></span>Booked 9 times today</div>\n",
      "<div class=\"booking\"><span class=\"tadpole\"></span>Booked 27 times today</div>\n",
      "<div class=\"booking\"><span class=\"tadpole\"></span>Booked 45 times today</div>\n",
      "<div class=\"booking\"><span class=\"tadpole\"></span>Booked 19 times today</div>\n",
      "<div class=\"booking\"><span class=\"tadpole\"></span>Booked 57 times today</div>\n",
      "<div class=\"booking\"><span class=\"tadpole\"></span>Booked 55 times today</div>\n",
      "<div class=\"booking\"><span class=\"tadpole\"></span>Booked 26 times today</div>\n",
      "<div class=\"booking\"><span class=\"tadpole\"></span>Booked 5 times today</div>\n",
      "<div class=\"booking\"><span class=\"tadpole\"></span>Booked 24 times today</div>\n",
      "<div class=\"booking\"><span class=\"tadpole\"></span>Booked 17 times today</div>\n",
      "<div class=\"booking\"><span class=\"tadpole\"></span>Booked 36 times today</div>\n",
      "<div class=\"booking\"><span class=\"tadpole\"></span>Booked 77 times today</div>\n",
      "<div class=\"booking\"><span class=\"tadpole\"></span>Booked 50 times today</div>\n",
      "<div class=\"booking\"><span class=\"tadpole\"></span>Booked 33 times today</div>\n",
      "<div class=\"booking\"><span class=\"tadpole\"></span>Booked 34 times today</div>\n",
      "<div class=\"booking\"><span class=\"tadpole\"></span>Booked 35 times today</div>\n",
      "<div class=\"booking\"><span class=\"tadpole\"></span>Booked 52 times today</div>\n",
      "<div class=\"booking\"><span class=\"tadpole\"></span>Booked 30 times today</div>\n",
      "<div class=\"booking\"><span class=\"tadpole\"></span>Booked 52 times today</div>\n",
      "<div class=\"booking\"><span class=\"tadpole\"></span>Booked 51 times today</div>\n",
      "<div class=\"booking\"><span class=\"tadpole\"></span>Booked 15 times today</div>\n",
      "<div class=\"booking\"><span class=\"tadpole\"></span>Booked 7 times today</div>\n",
      "<div class=\"booking\"><span class=\"tadpole\"></span>Booked 6 times today</div>\n",
      "<div class=\"booking\"><span class=\"tadpole\"></span>Booked 29 times today</div>\n",
      "<div class=\"booking\"><span class=\"tadpole\"></span>Booked 88 times today</div>\n",
      "<div class=\"booking\"><span class=\"tadpole\"></span>Booked 21 times today</div>\n",
      "<div class=\"booking\"><span class=\"tadpole\"></span>Booked 64 times today</div>\n",
      "<div class=\"booking\"><span class=\"tadpole\"></span>Booked 66 times today</div>\n",
      "<div class=\"booking\"><span class=\"tadpole\"></span>Booked 88 times today</div>\n",
      "<div class=\"booking\"><span class=\"tadpole\"></span>Booked 13 times today</div>\n",
      "<div class=\"booking\"><span class=\"tadpole\"></span>Booked 23 times today</div>\n",
      "<div class=\"booking\"><span class=\"tadpole\"></span>Booked 27 times today</div>\n",
      "<div class=\"booking\"><span class=\"tadpole\"></span>Booked 9 times today</div>\n",
      "<div class=\"booking\"><span class=\"tadpole\"></span>Booked 44 times today</div>\n",
      "<div class=\"booking\"><span class=\"tadpole\"></span>Booked 3 times today</div>\n",
      "<div class=\"booking\"><span class=\"tadpole\"></span>Booked 11 times today</div>\n",
      "<div class=\"booking\"><span class=\"tadpole\"></span>Booked 26 times today</div>\n",
      "<div class=\"booking\"><span class=\"tadpole\"></span>Booked 39 times today</div>\n",
      "<div class=\"booking\"><span class=\"tadpole\"></span>Booked 11 times today</div>\n",
      "<div class=\"booking\"><span class=\"tadpole\"></span>Booked 30 times today</div>\n",
      "<div class=\"booking\"><span class=\"tadpole\"></span>Booked 13 times today</div>\n",
      "<div class=\"booking\"><span class=\"tadpole\"></span>Booked 9 times today</div>\n",
      "<div class=\"booking\"><span class=\"tadpole\"></span>Booked 32 times today</div>\n",
      "<div class=\"booking\"><span class=\"tadpole\"></span>Booked 28 times today</div>\n",
      "<div class=\"booking\"><span class=\"tadpole\"></span>Booked 17 times today</div>\n",
      "<div class=\"booking\"><span class=\"tadpole\"></span>Booked 35 times today</div>\n",
      "<div class=\"booking\"><span class=\"tadpole\"></span>Booked 36 times today</div>\n",
      "<div class=\"booking\"><span class=\"tadpole\"></span>Booked 39 times today</div>\n",
      "<div class=\"booking\"><span class=\"tadpole\"></span>Booked 6 times today</div>\n",
      "<div class=\"booking\"><span class=\"tadpole\"></span>Booked 9 times today</div>\n",
      "<div class=\"booking\"><span class=\"tadpole\"></span>Booked 56 times today</div>\n",
      "<div class=\"booking\"><span class=\"tadpole\"></span>Booked 10 times today</div>\n",
      "<div class=\"booking\"><span class=\"tadpole\"></span>Booked 2 times today</div>\n",
      "<div class=\"booking\"><span class=\"tadpole\"></span>Booked 37 times today</div>\n",
      "<div class=\"booking\"><span class=\"tadpole\"></span>Booked 40 times today</div>\n",
      "<div class=\"booking\"><span class=\"tadpole\"></span>Booked 10 times today</div>\n",
      "<div class=\"booking\"><span class=\"tadpole\"></span>Booked 28 times today</div>\n",
      "<div class=\"booking\"><span class=\"tadpole\"></span>Booked 22 times today</div>\n",
      "<div class=\"booking\"><span class=\"tadpole\"></span>Booked 39 times today</div>\n",
      "<div class=\"booking\"><span class=\"tadpole\"></span>Booked 18 times today</div>\n",
      "<div class=\"booking\"><span class=\"tadpole\"></span>Booked 16 times today</div>\n"
     ]
    }
   ],
   "source": [
    "# now print out each booking for the listings using a loop\n",
    "for entry in html.find_all('div', {'class':'booking'}):\n",
    "    print entry"
   ]
  },
  {
   "cell_type": "markdown",
   "metadata": {},
   "source": [
    "Let's grab just the text of each of these entries."
   ]
  },
  {
   "cell_type": "code",
   "execution_count": 29,
   "metadata": {},
   "outputs": [
    {
     "name": "stdout",
     "output_type": "stream",
     "text": [
      "Booked 2 times today\n",
      "Booked 515 times today\n",
      "Booked 285 times today\n",
      "Booked 192 times today\n",
      "Booked 98 times today\n",
      "Booked 135 times today\n",
      "Booked 140 times today\n",
      "Booked 295 times today\n",
      "Booked 57 times today\n",
      "Booked 62 times today\n",
      "Booked 29 times today\n",
      "Booked 54 times today\n",
      "Booked 15 times today\n",
      "Booked 64 times today\n",
      "Booked 59 times today\n",
      "Booked 47 times today\n",
      "Booked 68 times today\n",
      "Booked 40 times today\n",
      "Booked 42 times today\n",
      "Booked 38 times today\n",
      "Booked 21 times today\n",
      "Booked 44 times today\n",
      "Booked 79 times today\n",
      "Booked 30 times today\n",
      "Booked 66 times today\n",
      "Booked 58 times today\n",
      "Booked 58 times today\n",
      "Booked 80 times today\n",
      "Booked 54 times today\n",
      "Booked 87 times today\n",
      "Booked 69 times today\n",
      "Booked 17 times today\n",
      "Booked 71 times today\n",
      "Booked 17 times today\n",
      "Booked 19 times today\n",
      "Booked 47 times today\n",
      "Booked 19 times today\n",
      "Booked 46 times today\n",
      "Booked 9 times today\n",
      "Booked 27 times today\n",
      "Booked 45 times today\n",
      "Booked 19 times today\n",
      "Booked 57 times today\n",
      "Booked 55 times today\n",
      "Booked 26 times today\n",
      "Booked 5 times today\n",
      "Booked 24 times today\n",
      "Booked 17 times today\n",
      "Booked 36 times today\n",
      "Booked 77 times today\n",
      "Booked 50 times today\n",
      "Booked 33 times today\n",
      "Booked 34 times today\n",
      "Booked 35 times today\n",
      "Booked 52 times today\n",
      "Booked 30 times today\n",
      "Booked 52 times today\n",
      "Booked 51 times today\n",
      "Booked 15 times today\n",
      "Booked 7 times today\n",
      "Booked 6 times today\n",
      "Booked 29 times today\n",
      "Booked 88 times today\n",
      "Booked 21 times today\n",
      "Booked 64 times today\n",
      "Booked 66 times today\n",
      "Booked 88 times today\n",
      "Booked 13 times today\n",
      "Booked 23 times today\n",
      "Booked 27 times today\n",
      "Booked 9 times today\n",
      "Booked 44 times today\n",
      "Booked 3 times today\n",
      "Booked 11 times today\n",
      "Booked 26 times today\n",
      "Booked 39 times today\n",
      "Booked 11 times today\n",
      "Booked 30 times today\n",
      "Booked 13 times today\n",
      "Booked 9 times today\n",
      "Booked 32 times today\n",
      "Booked 28 times today\n",
      "Booked 17 times today\n",
      "Booked 35 times today\n",
      "Booked 36 times today\n",
      "Booked 39 times today\n",
      "Booked 6 times today\n",
      "Booked 9 times today\n",
      "Booked 56 times today\n",
      "Booked 10 times today\n",
      "Booked 2 times today\n",
      "Booked 37 times today\n",
      "Booked 40 times today\n",
      "Booked 10 times today\n",
      "Booked 28 times today\n",
      "Booked 22 times today\n",
      "Booked 39 times today\n",
      "Booked 18 times today\n",
      "Booked 16 times today\n"
     ]
    }
   ],
   "source": [
    "# do the same as above, but grabbing only the text content\n",
    "for entry in html.find_all('div', {'class':'booking'}):\n",
    "    print entry.text"
   ]
  },
  {
   "cell_type": "code",
   "execution_count": 74,
   "metadata": {
    "collapsed": true
   },
   "outputs": [],
   "source": [
    "driver.close()"
   ]
  },
  {
   "cell_type": "markdown",
   "metadata": {},
   "source": [
    "We've succeeded!\n",
    "\n",
    "<a id=\"selenium-regex\"></a>\n",
    "### Using regex to only get digits\n",
    "\n",
    "But we can clean this up a little bit. We're going to use regular expressions (regex) to grab only the digits that are available in each of the text.\n",
    "\n",
    "The best way to get good at regex is to, well, just keep trying and testing: http://pythex.org/"
   ]
  },
  {
   "cell_type": "code",
   "execution_count": 77,
   "metadata": {
    "collapsed": true
   },
   "outputs": [],
   "source": [
    "# import regex\n",
    "import re"
   ]
  },
  {
   "cell_type": "markdown",
   "metadata": {},
   "source": [
    "Given we haven't covered regex, I'll show you how to use the search function to match any given digit."
   ]
  },
  {
   "cell_type": "code",
   "execution_count": 81,
   "metadata": {
    "collapsed": true
   },
   "outputs": [],
   "source": [
    "html = BeautifulSoup(html, \"lxml\")"
   ]
  },
  {
   "cell_type": "code",
   "execution_count": 82,
   "metadata": {},
   "outputs": [
    {
     "name": "stdout",
     "output_type": "stream",
     "text": [
      "2\n",
      "507\n",
      "289\n",
      "202\n",
      "94\n",
      "148\n",
      "136\n",
      "305\n",
      "58\n",
      "57\n",
      "30\n",
      "58\n",
      "20\n",
      "65\n",
      "57\n",
      "45\n",
      "66\n",
      "34\n",
      "40\n",
      "37\n",
      "18\n",
      "48\n",
      "81\n",
      "35\n",
      "75\n",
      "57\n",
      "72\n",
      "86\n",
      "53\n",
      "96\n",
      "73\n",
      "16\n",
      "73\n",
      "17\n",
      "22\n",
      "19\n",
      "44\n",
      "41\n",
      "7\n",
      "34\n",
      "53\n",
      "22\n",
      "59\n",
      "49\n",
      "25\n",
      "8\n",
      "32\n",
      "19\n",
      "43\n",
      "84\n",
      "53\n",
      "33\n",
      "31\n",
      "41\n",
      "51\n",
      "29\n",
      "55\n",
      "52\n",
      "9\n",
      "19\n",
      "8\n",
      "32\n",
      "92\n",
      "24\n",
      "64\n",
      "94\n",
      "64\n",
      "17\n",
      "24\n",
      "28\n",
      "9\n",
      "46\n",
      "3\n",
      "11\n",
      "31\n",
      "42\n",
      "11\n",
      "30\n",
      "14\n",
      "12\n",
      "29\n",
      "14\n",
      "26\n",
      "35\n",
      "42\n",
      "43\n",
      "6\n",
      "59\n",
      "6\n",
      "10\n",
      "3\n",
      "42\n",
      "41\n",
      "14\n",
      "30\n",
      "43\n",
      "42\n",
      "15\n",
      "17\n"
     ]
    }
   ],
   "source": [
    "# for each entry, grab the text\n",
    "for booking in html.findAll('div', {'class':'booking'}):\n",
    "    # match all digits\n",
    "    match = re.search(r'\\d+', booking.text)\n",
    "    \n",
    "    if match:\n",
    "        # print if found\n",
    "        print match.group()\n",
    "    else:\n",
    "        # otherwise pass\n",
    "        pass"
   ]
  },
  {
   "cell_type": "markdown",
   "metadata": {},
   "source": [
    "Before we demonstrate all the other amazing things about headless browsers, let's finish up collecting the data we want from this current example. Do you suppose the html parsing we wrote above will still work on the page source we've grabbed from our headless browser?"
   ]
  },
  {
   "cell_type": "markdown",
   "metadata": {},
   "source": [
    "To be most efficient, we want to only do a single loop for each entry on the page. That means we want to find what element all of other other elements (name, location, price, bookings) is housed within. Where on the page is each entry located?"
   ]
  },
  {
   "cell_type": "code",
   "execution_count": 33,
   "metadata": {
    "collapsed": true
   },
   "outputs": [],
   "source": [
    "# print out all entries\n",
    "#   NOTE: Has many entries. Uncomment the below code to run it!\n",
    "\n",
    "# soup.find_all('div', {'class':'result content-section-list-row cf with-times'})"
   ]
  },
  {
   "cell_type": "markdown",
   "metadata": {},
   "source": [
    "Look over the page. Does every single entry have each element we're seeking?\n",
    "> I did this previously. I know for a fact that not every element has a number of recent bookings. That's probably exactly why OpenTable houses this in JavaScript: they want to continously update the number of bookings with the most relevant number of values."
   ]
  },
  {
   "cell_type": "code",
   "execution_count": 34,
   "metadata": {
    "scrolled": true
   },
   "outputs": [
    {
     "name": "stdout",
     "output_type": "stream",
     "text": [
      "<div class=\"booking\"><span class=\"tadpole\"></span>Booked 2 times today</div>\n",
      "None\n",
      "<div class=\"booking\"><span class=\"tadpole\"></span>Booked 515 times today</div>\n",
      "<div class=\"booking\"><span class=\"tadpole\"></span>Booked 285 times today</div>\n",
      "<div class=\"booking\"><span class=\"tadpole\"></span>Booked 192 times today</div>\n",
      "<div class=\"booking\"><span class=\"tadpole\"></span>Booked 98 times today</div>\n",
      "<div class=\"booking\"><span class=\"tadpole\"></span>Booked 135 times today</div>\n",
      "<div class=\"booking\"><span class=\"tadpole\"></span>Booked 140 times today</div>\n",
      "<div class=\"booking\"><span class=\"tadpole\"></span>Booked 295 times today</div>\n",
      "<div class=\"booking\"><span class=\"tadpole\"></span>Booked 57 times today</div>\n",
      "<div class=\"booking\"><span class=\"tadpole\"></span>Booked 62 times today</div>\n",
      "<div class=\"booking\"><span class=\"tadpole\"></span>Booked 29 times today</div>\n",
      "<div class=\"booking\"><span class=\"tadpole\"></span>Booked 54 times today</div>\n",
      "<div class=\"booking\"><span class=\"tadpole\"></span>Booked 15 times today</div>\n",
      "<div class=\"booking\"><span class=\"tadpole\"></span>Booked 64 times today</div>\n",
      "<div class=\"booking\"><span class=\"tadpole\"></span>Booked 59 times today</div>\n",
      "<div class=\"booking\"><span class=\"tadpole\"></span>Booked 47 times today</div>\n",
      "<div class=\"booking\"><span class=\"tadpole\"></span>Booked 68 times today</div>\n",
      "<div class=\"booking\"><span class=\"tadpole\"></span>Booked 40 times today</div>\n",
      "<div class=\"booking\"><span class=\"tadpole\"></span>Booked 42 times today</div>\n",
      "<div class=\"booking\"><span class=\"tadpole\"></span>Booked 38 times today</div>\n",
      "<div class=\"booking\"><span class=\"tadpole\"></span>Booked 21 times today</div>\n",
      "<div class=\"booking\"><span class=\"tadpole\"></span>Booked 44 times today</div>\n",
      "<div class=\"booking\"><span class=\"tadpole\"></span>Booked 79 times today</div>\n",
      "<div class=\"booking\"><span class=\"tadpole\"></span>Booked 30 times today</div>\n",
      "<div class=\"booking\"><span class=\"tadpole\"></span>Booked 66 times today</div>\n",
      "<div class=\"booking\"><span class=\"tadpole\"></span>Booked 58 times today</div>\n",
      "<div class=\"booking\"><span class=\"tadpole\"></span>Booked 58 times today</div>\n",
      "<div class=\"booking\"><span class=\"tadpole\"></span>Booked 80 times today</div>\n",
      "<div class=\"booking\"><span class=\"tadpole\"></span>Booked 54 times today</div>\n",
      "<div class=\"booking\"><span class=\"tadpole\"></span>Booked 87 times today</div>\n",
      "<div class=\"booking\"><span class=\"tadpole\"></span>Booked 69 times today</div>\n",
      "<div class=\"booking\"><span class=\"tadpole\"></span>Booked 17 times today</div>\n",
      "<div class=\"booking\"><span class=\"tadpole\"></span>Booked 71 times today</div>\n",
      "<div class=\"booking\"><span class=\"tadpole\"></span>Booked 17 times today</div>\n",
      "<div class=\"booking\"><span class=\"tadpole\"></span>Booked 19 times today</div>\n",
      "<div class=\"booking\"><span class=\"tadpole\"></span>Booked 47 times today</div>\n",
      "<div class=\"booking\"><span class=\"tadpole\"></span>Booked 19 times today</div>\n",
      "<div class=\"booking\"><span class=\"tadpole\"></span>Booked 46 times today</div>\n",
      "<div class=\"booking\"><span class=\"tadpole\"></span>Booked 9 times today</div>\n",
      "<div class=\"booking\"><span class=\"tadpole\"></span>Booked 27 times today</div>\n",
      "<div class=\"booking\"><span class=\"tadpole\"></span>Booked 45 times today</div>\n",
      "<div class=\"booking\"><span class=\"tadpole\"></span>Booked 19 times today</div>\n",
      "<div class=\"booking\"><span class=\"tadpole\"></span>Booked 57 times today</div>\n",
      "<div class=\"booking\"><span class=\"tadpole\"></span>Booked 55 times today</div>\n",
      "<div class=\"booking\"><span class=\"tadpole\"></span>Booked 26 times today</div>\n",
      "<div class=\"booking\"><span class=\"tadpole\"></span>Booked 5 times today</div>\n",
      "<div class=\"booking\"><span class=\"tadpole\"></span>Booked 24 times today</div>\n",
      "<div class=\"booking\"><span class=\"tadpole\"></span>Booked 17 times today</div>\n",
      "<div class=\"booking\"><span class=\"tadpole\"></span>Booked 36 times today</div>\n",
      "<div class=\"booking\"><span class=\"tadpole\"></span>Booked 77 times today</div>\n",
      "<div class=\"booking\"><span class=\"tadpole\"></span>Booked 50 times today</div>\n",
      "<div class=\"booking\"><span class=\"tadpole\"></span>Booked 33 times today</div>\n",
      "<div class=\"booking\"><span class=\"tadpole\"></span>Booked 34 times today</div>\n",
      "<div class=\"booking\"><span class=\"tadpole\"></span>Booked 35 times today</div>\n",
      "<div class=\"booking\"><span class=\"tadpole\"></span>Booked 52 times today</div>\n",
      "<div class=\"booking\"><span class=\"tadpole\"></span>Booked 30 times today</div>\n",
      "<div class=\"booking\"><span class=\"tadpole\"></span>Booked 52 times today</div>\n",
      "<div class=\"booking\"><span class=\"tadpole\"></span>Booked 51 times today</div>\n",
      "<div class=\"booking\"><span class=\"tadpole\"></span>Booked 15 times today</div>\n",
      "<div class=\"booking\"><span class=\"tadpole\"></span>Booked 7 times today</div>\n",
      "<div class=\"booking\"><span class=\"tadpole\"></span>Booked 6 times today</div>\n",
      "<div class=\"booking\"><span class=\"tadpole\"></span>Booked 29 times today</div>\n",
      "<div class=\"booking\"><span class=\"tadpole\"></span>Booked 88 times today</div>\n",
      "<div class=\"booking\"><span class=\"tadpole\"></span>Booked 21 times today</div>\n",
      "<div class=\"booking\"><span class=\"tadpole\"></span>Booked 64 times today</div>\n",
      "<div class=\"booking\"><span class=\"tadpole\"></span>Booked 66 times today</div>\n",
      "<div class=\"booking\"><span class=\"tadpole\"></span>Booked 88 times today</div>\n",
      "<div class=\"booking\"><span class=\"tadpole\"></span>Booked 13 times today</div>\n",
      "<div class=\"booking\"><span class=\"tadpole\"></span>Booked 23 times today</div>\n",
      "<div class=\"booking\"><span class=\"tadpole\"></span>Booked 27 times today</div>\n",
      "<div class=\"booking\"><span class=\"tadpole\"></span>Booked 9 times today</div>\n",
      "<div class=\"booking\"><span class=\"tadpole\"></span>Booked 44 times today</div>\n",
      "<div class=\"booking\"><span class=\"tadpole\"></span>Booked 3 times today</div>\n",
      "<div class=\"booking\"><span class=\"tadpole\"></span>Booked 11 times today</div>\n",
      "<div class=\"booking\"><span class=\"tadpole\"></span>Booked 26 times today</div>\n",
      "<div class=\"booking\"><span class=\"tadpole\"></span>Booked 39 times today</div>\n",
      "<div class=\"booking\"><span class=\"tadpole\"></span>Booked 11 times today</div>\n",
      "<div class=\"booking\"><span class=\"tadpole\"></span>Booked 30 times today</div>\n",
      "<div class=\"booking\"><span class=\"tadpole\"></span>Booked 13 times today</div>\n",
      "<div class=\"booking\"><span class=\"tadpole\"></span>Booked 9 times today</div>\n",
      "<div class=\"booking\"><span class=\"tadpole\"></span>Booked 32 times today</div>\n",
      "<div class=\"booking\"><span class=\"tadpole\"></span>Booked 28 times today</div>\n",
      "<div class=\"booking\"><span class=\"tadpole\"></span>Booked 17 times today</div>\n",
      "<div class=\"booking\"><span class=\"tadpole\"></span>Booked 35 times today</div>\n",
      "<div class=\"booking\"><span class=\"tadpole\"></span>Booked 36 times today</div>\n",
      "<div class=\"booking\"><span class=\"tadpole\"></span>Booked 39 times today</div>\n",
      "<div class=\"booking\"><span class=\"tadpole\"></span>Booked 6 times today</div>\n",
      "<div class=\"booking\"><span class=\"tadpole\"></span>Booked 9 times today</div>\n",
      "<div class=\"booking\"><span class=\"tadpole\"></span>Booked 56 times today</div>\n",
      "<div class=\"booking\"><span class=\"tadpole\"></span>Booked 10 times today</div>\n",
      "<div class=\"booking\"><span class=\"tadpole\"></span>Booked 2 times today</div>\n",
      "<div class=\"booking\"><span class=\"tadpole\"></span>Booked 37 times today</div>\n",
      "<div class=\"booking\"><span class=\"tadpole\"></span>Booked 40 times today</div>\n",
      "<div class=\"booking\"><span class=\"tadpole\"></span>Booked 10 times today</div>\n",
      "<div class=\"booking\"><span class=\"tadpole\"></span>Booked 28 times today</div>\n",
      "<div class=\"booking\"><span class=\"tadpole\"></span>Booked 22 times today</div>\n",
      "<div class=\"booking\"><span class=\"tadpole\"></span>Booked 39 times today</div>\n",
      "<div class=\"booking\"><span class=\"tadpole\"></span>Booked 18 times today</div>\n",
      "<div class=\"booking\"><span class=\"tadpole\"></span>Booked 16 times today</div>\n"
     ]
    }
   ],
   "source": [
    "# What happens when a booking is not available?\n",
    "# Print out each booking entry, using the identification code we wrote above\n",
    "\n",
    "for entry in html.find_all('div', {'class':'result content-section-list-row cf with-times'}):\n",
    "    print entry.find('div', {'class':'booking'})"
   ]
  },
  {
   "cell_type": "code",
   "execution_count": 85,
   "metadata": {},
   "outputs": [
    {
     "name": "stdout",
     "output_type": "stream",
     "text": [
      "Booked 2 times today\n",
      "ZERO\n",
      "Booked 507 times today\n",
      "Booked 289 times today\n",
      "Booked 202 times today\n",
      "Booked 94 times today\n",
      "Booked 148 times today\n",
      "Booked 136 times today\n",
      "Booked 305 times today\n",
      "Booked 58 times today\n",
      "Booked 57 times today\n",
      "Booked 30 times today\n",
      "Booked 58 times today\n",
      "Booked 20 times today\n",
      "Booked 65 times today\n",
      "Booked 57 times today\n",
      "Booked 45 times today\n",
      "Booked 66 times today\n",
      "Booked 34 times today\n",
      "Booked 40 times today\n",
      "Booked 37 times today\n",
      "Booked 18 times today\n",
      "Booked 48 times today\n",
      "Booked 81 times today\n",
      "Booked 35 times today\n",
      "Booked 75 times today\n",
      "Booked 57 times today\n",
      "Booked 72 times today\n",
      "Booked 86 times today\n",
      "Booked 53 times today\n",
      "Booked 96 times today\n",
      "Booked 73 times today\n",
      "Booked 16 times today\n",
      "Booked 73 times today\n",
      "Booked 17 times today\n",
      "Booked 22 times today\n",
      "Booked 19 times today\n",
      "Booked 44 times today\n",
      "Booked 41 times today\n",
      "Booked 7 times today\n",
      "Booked 34 times today\n",
      "Booked 53 times today\n",
      "Booked 22 times today\n",
      "Booked 59 times today\n",
      "Booked 49 times today\n",
      "Booked 25 times today\n",
      "Booked 8 times today\n",
      "Booked 32 times today\n",
      "Booked 19 times today\n",
      "Booked 43 times today\n",
      "Booked 84 times today\n",
      "Booked 53 times today\n",
      "Booked 33 times today\n",
      "Booked 31 times today\n",
      "Booked 41 times today\n",
      "Booked 51 times today\n",
      "Booked 29 times today\n",
      "Booked 55 times today\n",
      "Booked 52 times today\n",
      "Booked 9 times today\n",
      "Booked 19 times today\n",
      "Booked 8 times today\n",
      "Booked 32 times today\n",
      "Booked 92 times today\n",
      "Booked 24 times today\n",
      "Booked 64 times today\n",
      "Booked 94 times today\n",
      "Booked 64 times today\n",
      "Booked 17 times today\n",
      "Booked 24 times today\n",
      "Booked 28 times today\n",
      "Booked 9 times today\n",
      "Booked 46 times today\n",
      "Booked 3 times today\n",
      "Booked 11 times today\n",
      "Booked 31 times today\n",
      "Booked 42 times today\n",
      "Booked 11 times today\n",
      "Booked 30 times today\n",
      "Booked 14 times today\n",
      "Booked 12 times today\n",
      "Booked 29 times today\n",
      "Booked 14 times today\n",
      "Booked 26 times today\n",
      "Booked 35 times today\n",
      "Booked 42 times today\n",
      "Booked 43 times today\n",
      "Booked 6 times today\n",
      "Booked 59 times today\n",
      "Booked 6 times today\n",
      "Booked 10 times today\n",
      "Booked 3 times today\n",
      "Booked 42 times today\n",
      "Booked 41 times today\n",
      "Booked 14 times today\n",
      "Booked 30 times today\n",
      "Booked 43 times today\n",
      "Booked 42 times today\n",
      "Booked 15 times today\n",
      "Booked 17 times today\n"
     ]
    }
   ],
   "source": [
    "# if we find the element we want, we print it. Otherwise, we print 'ZERO'\n",
    "for entry in html.find_all('div', {'class':'result content-section-list-row cf with-times'}):\n",
    "    try:\n",
    "        print entry.find('div', {'class':'booking'}).text\n",
    "    except:\n",
    "        print('ZERO')"
   ]
  },
  {
   "cell_type": "markdown",
   "metadata": {},
   "source": [
    "What do you notice takes the place when booking is not found?\n",
    "\n",
    "We could use exception handling (`try`/`except` blocks) to resolve this. However, exceptions should only be used to handle rare or unexpected errors -- never for normal program flow.\n",
    "\n",
    "In this case, we expect that some entries will be zero. So, we can just use an `if` statement that tests whether there are any `divs` present; if not, display `'ZERO'`. Here's a demo:"
   ]
  },
  {
   "cell_type": "code",
   "execution_count": 40,
   "metadata": {},
   "outputs": [
    {
     "name": "stdout",
     "output_type": "stream",
     "text": [
      "Booked 2 times today\n",
      "ZERO\n",
      "Booked 515 times today\n",
      "Booked 285 times today\n",
      "Booked 192 times today\n",
      "Booked 98 times today\n",
      "Booked 135 times today\n",
      "Booked 140 times today\n",
      "Booked 295 times today\n",
      "Booked 57 times today\n",
      "Booked 62 times today\n",
      "Booked 29 times today\n",
      "Booked 54 times today\n",
      "Booked 15 times today\n",
      "Booked 64 times today\n",
      "Booked 59 times today\n",
      "Booked 47 times today\n",
      "Booked 68 times today\n",
      "Booked 40 times today\n",
      "Booked 42 times today\n",
      "Booked 38 times today\n",
      "Booked 21 times today\n",
      "Booked 44 times today\n",
      "Booked 79 times today\n",
      "Booked 30 times today\n",
      "Booked 66 times today\n",
      "Booked 58 times today\n",
      "Booked 58 times today\n",
      "Booked 80 times today\n",
      "Booked 54 times today\n",
      "Booked 87 times today\n",
      "Booked 69 times today\n",
      "Booked 17 times today\n",
      "Booked 71 times today\n",
      "Booked 17 times today\n",
      "Booked 19 times today\n",
      "Booked 47 times today\n",
      "Booked 19 times today\n",
      "Booked 46 times today\n",
      "Booked 9 times today\n",
      "Booked 27 times today\n",
      "Booked 45 times today\n",
      "Booked 19 times today\n",
      "Booked 57 times today\n",
      "Booked 55 times today\n",
      "Booked 26 times today\n",
      "Booked 5 times today\n",
      "Booked 24 times today\n",
      "Booked 17 times today\n",
      "Booked 36 times today\n",
      "Booked 77 times today\n",
      "Booked 50 times today\n",
      "Booked 33 times today\n",
      "Booked 34 times today\n",
      "Booked 35 times today\n",
      "Booked 52 times today\n",
      "Booked 30 times today\n",
      "Booked 52 times today\n",
      "Booked 51 times today\n",
      "Booked 15 times today\n",
      "Booked 7 times today\n",
      "Booked 6 times today\n",
      "Booked 29 times today\n",
      "Booked 88 times today\n",
      "Booked 21 times today\n",
      "Booked 64 times today\n",
      "Booked 66 times today\n",
      "Booked 88 times today\n",
      "Booked 13 times today\n",
      "Booked 23 times today\n",
      "Booked 27 times today\n",
      "Booked 9 times today\n",
      "Booked 44 times today\n",
      "Booked 3 times today\n",
      "Booked 11 times today\n",
      "Booked 26 times today\n",
      "Booked 39 times today\n",
      "Booked 11 times today\n",
      "Booked 30 times today\n",
      "Booked 13 times today\n",
      "Booked 9 times today\n",
      "Booked 32 times today\n",
      "Booked 28 times today\n",
      "Booked 17 times today\n",
      "Booked 35 times today\n",
      "Booked 36 times today\n",
      "Booked 39 times today\n",
      "Booked 6 times today\n",
      "Booked 9 times today\n",
      "Booked 56 times today\n",
      "Booked 10 times today\n",
      "Booked 2 times today\n",
      "Booked 37 times today\n",
      "Booked 40 times today\n",
      "Booked 10 times today\n",
      "Booked 28 times today\n",
      "Booked 22 times today\n",
      "Booked 39 times today\n",
      "Booked 18 times today\n",
      "Booked 16 times today\n"
     ]
    }
   ],
   "source": [
    "# if we find the element we want, we print it. Otherwise, we print 'ZERO'\n",
    "for entry in html.find_all('div', {'class':'result content-section-list-row cf with-times'}):\n",
    "    booking_tag = entry.find('div', {'class':'booking'})\n",
    "    \n",
    "    if booking_tag:\n",
    "        print booking_tag.text\n",
    "    else:\n",
    "        print 'ZERO'"
   ]
  },
  {
   "cell_type": "markdown",
   "metadata": {},
   "source": [
    "After previously completing this, we observed that all other elements WILL be returned. This means we do not have to always handle these cases.\n",
    "\n",
    "<a id=\"challenge-pandas\"></a>\n",
    "### Challenge: Use Pandas to create a DataFrame of bookings\n",
    "\n",
    "However, the onus is on you to now put all the pieces together.\n",
    "\n",
    "Loop through each entry. For each entry, grab the relevant information we want (name, location, price, bookings). Produce a dataframe with the columns \"name\",\"location\",\"price\",\"bookings\" that contains the 100 entries we would like."
   ]
  },
  {
   "cell_type": "code",
   "execution_count": 86,
   "metadata": {
    "collapsed": true
   },
   "outputs": [],
   "source": [
    "import pandas as pd"
   ]
  },
  {
   "cell_type": "code",
   "execution_count": 87,
   "metadata": {
    "collapsed": true
   },
   "outputs": [],
   "source": [
    "# I'm going to create my empty df first\n",
    "dc_eats = pd.DataFrame(columns=[\"name\",\"location\",\"price\",\"bookings\"])"
   ]
  },
  {
   "cell_type": "code",
   "execution_count": 43,
   "metadata": {
    "collapsed": true
   },
   "outputs": [],
   "source": [
    "# Put code here that populates the DataFrame using Selenium and BeautifulSoup!"
   ]
  },
  {
   "cell_type": "code",
   "execution_count": 44,
   "metadata": {},
   "outputs": [
    {
     "data": {
      "text/html": [
       "<div>\n",
       "<style>\n",
       "    .dataframe thead tr:only-child th {\n",
       "        text-align: right;\n",
       "    }\n",
       "\n",
       "    .dataframe thead th {\n",
       "        text-align: left;\n",
       "    }\n",
       "\n",
       "    .dataframe tbody tr th {\n",
       "        vertical-align: top;\n",
       "    }\n",
       "</style>\n",
       "<table border=\"1\" class=\"dataframe\">\n",
       "  <thead>\n",
       "    <tr style=\"text-align: right;\">\n",
       "      <th></th>\n",
       "      <th>name</th>\n",
       "      <th>location</th>\n",
       "      <th>price</th>\n",
       "      <th>bookings</th>\n",
       "    </tr>\n",
       "  </thead>\n",
       "  <tbody>\n",
       "  </tbody>\n",
       "</table>\n",
       "</div>"
      ],
      "text/plain": [
       "Empty DataFrame\n",
       "Columns: [name, location, price, bookings]\n",
       "Index: []"
      ]
     },
     "execution_count": 44,
     "metadata": {},
     "output_type": "execute_result"
    }
   ],
   "source": [
    "# check out our work\n",
    "dc_eats.head()"
   ]
  },
  {
   "cell_type": "markdown",
   "metadata": {},
   "source": [
    "Awesome! We succeeded.\n",
    "\n",
    "<a id=\"selenium-typing\"></a>\n",
    "### Auto-typing using Selenium\n",
    "\n",
    "Now, let's explore some of the other functionality of a webdriver. We've barely scratched the surface."
   ]
  },
  {
   "cell_type": "code",
   "execution_count": 92,
   "metadata": {
    "collapsed": true
   },
   "outputs": [],
   "source": [
    "# we can send keys as well\n",
    "# import\n",
    "from selenium.webdriver.common.keys import Keys"
   ]
  },
  {
   "cell_type": "code",
   "execution_count": 93,
   "metadata": {
    "collapsed": true
   },
   "outputs": [],
   "source": [
    "# open Firefox\n",
    "driver = webdriver.Firefox()\n",
    "# visit Python\n",
    "driver.get(\"http://www.python.org\")\n",
    "# verify we're in the right place\n",
    "assert \"Python\" in driver.title"
   ]
  },
  {
   "cell_type": "markdown",
   "metadata": {},
   "source": [
    "Let's try automatedly typing `pycon` in the search box and hitting the return key:"
   ]
  },
  {
   "cell_type": "code",
   "execution_count": 94,
   "metadata": {
    "collapsed": true
   },
   "outputs": [],
   "source": [
    "# find the search position\n",
    "elem = driver.find_element_by_name(\"q\")\n",
    "\n",
    "# clear it\n",
    "elem.clear()\n",
    "\n",
    "# type in pycon\n",
    "elem.send_keys(\"pycon\")\n",
    "\n",
    "# send those keys\n",
    "elem.send_keys(Keys.RETURN)"
   ]
  },
  {
   "cell_type": "code",
   "execution_count": 95,
   "metadata": {
    "collapsed": true
   },
   "outputs": [],
   "source": [
    "# close\n",
    "driver.close()"
   ]
  },
  {
   "cell_type": "code",
   "execution_count": 96,
   "metadata": {
    "collapsed": true
   },
   "outputs": [],
   "source": [
    "# all at once:\n",
    "driver = webdriver.Firefox()\n",
    "driver.get(\"http://www.python.org\")\n",
    "assert \"Python\" in driver.title\n",
    "\n",
    "elem = driver.find_element_by_name(\"q\")\n",
    "elem.clear()\n",
    "elem.send_keys(\"pycon\")\n",
    "elem.send_keys(Keys.RETURN)\n",
    "#assert \"No results found.\" not in driver.page_source\n",
    "driver.close()"
   ]
  },
  {
   "cell_type": "markdown",
   "metadata": {},
   "source": [
    "The above example (and many others) are available in the Selenium docs: http://selenium-python.readthedocs.io/getting-started.html\n",
    "\n",
    "What is especially important is exploring functionality like locating elements: http://selenium-python.readthedocs.io/locating-elements.html#locating-elements\n",
    "\n",
    "FAQ:\n",
    "http://selenium-python.readthedocs.io/faq.html"
   ]
  },
  {
   "cell_type": "markdown",
   "metadata": {},
   "source": [
    "### Summary\n",
    "\n",
    "In this lesson, we used the Beautiful Soup library to locate elements on a website then scrape their text. We also used the Selenium headless browser to run JavaScript first before retrieving the page contents."
   ]
  },
  {
   "cell_type": "code",
   "execution_count": null,
   "metadata": {
    "collapsed": true
   },
   "outputs": [],
   "source": []
  }
 ],
 "metadata": {
  "anaconda-cloud": {},
  "kernelspec": {
   "display_name": "Python 2",
   "language": "python",
   "name": "python2"
  },
  "language_info": {
   "codemirror_mode": {
    "name": "ipython",
    "version": 2
   },
   "file_extension": ".py",
   "mimetype": "text/x-python",
   "name": "python",
   "nbconvert_exporter": "python",
   "pygments_lexer": "ipython2",
   "version": "2.7.14"
  }
 },
 "nbformat": 4,
 "nbformat_minor": 1
}
